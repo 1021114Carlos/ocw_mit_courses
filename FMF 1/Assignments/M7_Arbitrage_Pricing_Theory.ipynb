{
  "nbformat": 4,
  "nbformat_minor": 0,
  "metadata": {
    "colab": {
      "provenance": [],
      "authorship_tag": "ABX9TyNnUCfGrh/tR3BW3QbyLIAV",
      "include_colab_link": true
    },
    "kernelspec": {
      "name": "python3",
      "display_name": "Python 3"
    },
    "language_info": {
      "name": "python"
    }
  },
  "cells": [
    {
      "cell_type": "markdown",
      "metadata": {
        "id": "view-in-github",
        "colab_type": "text"
      },
      "source": [
        "<a href=\"https://colab.research.google.com/github/1021114Carlos/ocw_mit_courses/blob/manufacturing_shop/FMF%201/Assignments/M7_Arbitrage_Pricing_Theory.ipynb\" target=\"_parent\"><img src=\"https://colab.research.google.com/assets/colab-badge.svg\" alt=\"Open In Colab\"/></a>"
      ]
    },
    {
      "cell_type": "code",
      "source": [
        "import math\n",
        "import numpy as np"
      ],
      "metadata": {
        "id": "3H4sqni64C11"
      },
      "execution_count": 2,
      "outputs": []
    },
    {
      "cell_type": "markdown",
      "source": [
        "1\n",
        "\n",
        "Consider a factor model\n",
        "\n",
        "$ r_i = E(r_i) + B_1*f + ϵ_i $\n",
        "\n",
        "- There are two assets, A and B:\n",
        "\n",
        "1. $B_a = 1.1, B_b = 2.4 $\n",
        "2. $ ϵ_a, ϵ_b \\ \\ are \\ \\ idiosynchratic \\ \\  satisfying \\ \\ cov(ϵ_a, ϵ_b) = 0 $\n",
        "\n",
        "3. $ SD(ϵ_a) = 15.3\\% \\ and \\  SD(ϵ_b) = 10.2\\% $\n"
      ],
      "metadata": {
        "id": "9feRz7k_zsxK"
      }
    },
    {
      "cell_type": "markdown",
      "source": [
        "(a) Compute SD for $r_a$"
      ],
      "metadata": {
        "id": "tvoC8ZV03NEN"
      }
    },
    {
      "cell_type": "code",
      "execution_count": null,
      "metadata": {
        "id": "YkPO69yinxpu",
        "colab": {
          "base_uri": "https://localhost:8080/",
          "height": 35
        },
        "outputId": "d9eb2492-00d4-4153-d5d8-55ef6ec29ecb"
      },
      "outputs": [
        {
          "output_type": "execute_result",
          "data": {
            "text/plain": [
              "'The standard deviation for return of A is 0.1675119100243323'"
            ],
            "application/vnd.google.colaboratory.intrinsic+json": {
              "type": "string"
            }
          },
          "metadata": {},
          "execution_count": 7
        }
      ],
      "source": [
        "# find the standard deviation for asset A\n",
        "b_a = 1.1\n",
        "sd_f = 6.2/100\n",
        "sd_ea = 15.3/100\n",
        "\n",
        "cov_ra = (b_a*sd_f)**2 + sd_ea**2\n",
        "\n",
        "sd_ra = math.sqrt(cov_ra)\n",
        "f'The standard deviation for return of A is {sd_ra}'"
      ]
    },
    {
      "cell_type": "markdown",
      "source": [
        "(b) Compute SD for $r_b$"
      ],
      "metadata": {
        "id": "V40A6wTa7T3s"
      }
    },
    {
      "cell_type": "code",
      "source": [
        "# Find the standard deviation for asset B\n",
        "b_b = 2.4\n",
        "sd_eb = 10.2/100\n",
        "\n",
        "cov_rb = (b_b*sd_f)**2 + sd_eb**2\n",
        "\n",
        "sd_rb = math.sqrt(cov_rb)\n",
        "f'The standard deviation for return of B is {sd_rb}'"
      ],
      "metadata": {
        "colab": {
          "base_uri": "https://localhost:8080/",
          "height": 35
        },
        "id": "jtzqs5a34mGQ",
        "outputId": "27470691-7917-4ade-d8e9-6e1f94e5c7d6"
      },
      "execution_count": null,
      "outputs": [
        {
          "output_type": "execute_result",
          "data": {
            "text/plain": [
              "'The standard deviation for return of B is 0.1804035476369575'"
            ],
            "application/vnd.google.colaboratory.intrinsic+json": {
              "type": "string"
            }
          },
          "metadata": {},
          "execution_count": 9
        }
      ]
    },
    {
      "cell_type": "markdown",
      "source": [
        "(c) Find the correlation between $r_a \\ \\ and \\ \\ r_b$"
      ],
      "metadata": {
        "id": "C1kYuMKM9Zds"
      }
    },
    {
      "cell_type": "code",
      "source": [
        "# using loading factors\n",
        "\n",
        "cov_factors = b_b*b_a*(sd_f)**2\n",
        "\n",
        "corr = cov_factors/(sd_rb*sd_ra)\n",
        "corr"
      ],
      "metadata": {
        "colab": {
          "base_uri": "https://localhost:8080/"
        },
        "id": "yXeBuDdC87zz",
        "outputId": "0d00cf83-d24a-4cb3-bfcc-a38978176fd7"
      },
      "execution_count": null,
      "outputs": [
        {
          "output_type": "execute_result",
          "data": {
            "text/plain": [
              "0.3358122553784211"
            ]
          },
          "metadata": {},
          "execution_count": 11
        }
      ]
    },
    {
      "cell_type": "markdown",
      "source": [
        "2\n",
        "\n",
        "- There are 20 assets in the market.\n",
        "- consider the the following two-factor model\n",
        "\n",
        "$ r_i = E(r_i) + B_i,_1 f_1 + B_1,_2 f_1 + ϵ_i $"
      ],
      "metadata": {
        "id": "0G4745dMs4hG"
      }
    },
    {
      "cell_type": "markdown",
      "source": [
        "(a) Compute the factor loading of the portfolio on factor 1\n",
        "\n",
        "- Done on paper"
      ],
      "metadata": {
        "id": "iLo7igHRtsVM"
      }
    },
    {
      "cell_type": "markdown",
      "source": [
        "(b) Compute the factor loading of the portfolio on factor 2\n",
        "\n",
        "$B_i, _2 = 1.1$  when assets are odd\n",
        "$B_1, _2 = 1.9$ when assets are even"
      ],
      "metadata": {
        "id": "uMG9xxIOuADX"
      }
    },
    {
      "cell_type": "code",
      "source": [
        "factor_loading_2 = (1/20)*(10*1.1 + 10*1.9)\n",
        "factor_loading_2"
      ],
      "metadata": {
        "colab": {
          "base_uri": "https://localhost:8080/"
        },
        "id": "OEGAVw5eiPcY",
        "outputId": "df732e00-e47e-4b7c-8a66-a64219d3d484"
      },
      "execution_count": null,
      "outputs": [
        {
          "output_type": "execute_result",
          "data": {
            "text/plain": [
              "1.5"
            ]
          },
          "metadata": {},
          "execution_count": 14
        }
      ]
    },
    {
      "cell_type": "markdown",
      "source": [
        "(c) Compute the SD of idisyncratic risk of the portfolio\n",
        "\n",
        "all assest have the same SD. SD = 6.5 for all i = 1, 2, 3...$N_0$"
      ],
      "metadata": {
        "id": "06JT16kWxb-9"
      }
    },
    {
      "cell_type": "code",
      "source": [
        "# First find the variance\n",
        "var_epsilon_port = (1/50**2)*(50*0.065**2)\n",
        "\n",
        "# Find the SD\n",
        "sd_epsilon = math.sqrt(var_epsilon_port)\n",
        "sd_epsilon"
      ],
      "metadata": {
        "colab": {
          "base_uri": "https://localhost:8080/"
        },
        "id": "1SKbLNBdvKcB",
        "outputId": "2be80169-9906-4207-81c5-38d0c96e9e48"
      },
      "execution_count": null,
      "outputs": [
        {
          "output_type": "execute_result",
          "data": {
            "text/plain": [
              "0.009192388155425118"
            ]
          },
          "metadata": {},
          "execution_count": 15
        }
      ]
    },
    {
      "cell_type": "markdown",
      "source": [
        "3\n",
        "\n",
        "* Consider a factor model\n",
        "\n",
        "$ r_i = E(r_i) + β_i *f  + ϵ_i $\n",
        "\n",
        "    Portfolio |   μ (Expected return) |     β     |\n",
        "    A         |          9.7%         |     0.6   |\n",
        "    B         |          7.7%         |     3.1   |\n",
        "\n",
        "The risk-free rate is 1.3%\n",
        "\n",
        "* Construct an arbitrage opportunity that generates \\\\$100 today and $0 at the end of the period."
      ],
      "metadata": {
        "id": "1RnCrONV1vmA"
      }
    },
    {
      "cell_type": "markdown",
      "source": [
        "(a) The amount to invest in portfolio A is?"
      ],
      "metadata": {
        "id": "wocsEEW9BUGA"
      }
    },
    {
      "cell_type": "code",
      "source": [
        "a = np.array([[-1, -1, -1], [1.097, 1.077, 1.013], [0.6, 3.1, 0]])\n",
        "b = np.array([100, 0, 0])\n",
        "c = np.linalg.solve(a, b)\n",
        "c"
      ],
      "metadata": {
        "id": "A9wxLJ5pyjJn",
        "colab": {
          "base_uri": "https://localhost:8080/"
        },
        "outputId": "9a6c1d6a-4bb2-4c96-c830-754807c2eeb1"
      },
      "execution_count": 3,
      "outputs": [
        {
          "output_type": "execute_result",
          "data": {
            "text/plain": [
              "array([ 1414.54954955,  -273.78378378, -1240.76576577])"
            ]
          },
          "metadata": {},
          "execution_count": 3
        }
      ]
    },
    {
      "cell_type": "markdown",
      "source": [
        "4\n",
        "\n",
        "Consider a two-factor model\n",
        "\n",
        "$  r_i = E(r_i) + β_i,_1 *f_1 + β_i,_2 *f_1 + ϵ_i  $\n",
        "\n",
        "    Portfolio | β 1  |  β 2  |   μ     |\n",
        "    ------------------------------------\n",
        "        A     |   1  |   1   |  34.3%  |\n",
        "        B     |   2  | 0.5   |  31.65% |\n",
        "        C     | 0.5  |   2   |  51.15% |\n",
        "Compute the risk premi for both factors, and the risk-free rate\n"
      ],
      "metadata": {
        "id": "-wVjouSPpFov"
      }
    },
    {
      "cell_type": "markdown",
      "source": [
        "(a) Risk premium of factor 1 is"
      ],
      "metadata": {
        "id": "3B16lodgq8dm"
      }
    },
    {
      "cell_type": "code",
      "source": [
        "a = np.array([[1, 1, 1], [2, 0.5, 1], [0.5, 2, 1]])\n",
        "b = np.array([1.343, 1.3165, 1.5115])\n",
        "c = np.linalg.solve(a, b)\n",
        "f'Risk premium of factor 1 is: {c[0]}; for factor 2 is: {c[1]}; and the risk free rate is {c[2]}'"
      ],
      "metadata": {
        "colab": {
          "base_uri": "https://localhost:8080/",
          "height": 35
        },
        "id": "9aX--zuRDnDP",
        "outputId": "40652ddc-c0dc-4802-d4c8-6f654d702311"
      },
      "execution_count": 7,
      "outputs": [
        {
          "output_type": "execute_result",
          "data": {
            "text/plain": [
              "'Risk premium of factor 1 is: 0.07699999999999994; for factor 2 is: 0.2069999999999999; and the risk free rate is 1.0590000000000002'"
            ],
            "application/vnd.google.colaboratory.intrinsic+json": {
              "type": "string"
            }
          },
          "metadata": {},
          "execution_count": 7
        }
      ]
    },
    {
      "cell_type": "code",
      "source": [],
      "metadata": {
        "id": "t5NjsokrsVAo"
      },
      "execution_count": null,
      "outputs": []
    }
  ]
}