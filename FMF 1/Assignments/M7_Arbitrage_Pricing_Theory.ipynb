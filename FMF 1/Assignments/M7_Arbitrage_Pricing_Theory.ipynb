{
  "nbformat": 4,
  "nbformat_minor": 0,
  "metadata": {
    "colab": {
      "provenance": [],
      "authorship_tag": "ABX9TyNInWwwpm2X9W0NaTx1h1vw",
      "include_colab_link": true
    },
    "kernelspec": {
      "name": "python3",
      "display_name": "Python 3"
    },
    "language_info": {
      "name": "python"
    }
  },
  "cells": [
    {
      "cell_type": "markdown",
      "metadata": {
        "id": "view-in-github",
        "colab_type": "text"
      },
      "source": [
        "<a href=\"https://colab.research.google.com/github/1021114Carlos/ocw_mit_courses/blob/manufacturing_shop/FMF%201/Assignments/M7_Arbitrage_Pricing_Theory.ipynb\" target=\"_parent\"><img src=\"https://colab.research.google.com/assets/colab-badge.svg\" alt=\"Open In Colab\"/></a>"
      ]
    },
    {
      "cell_type": "code",
      "source": [
        "import math"
      ],
      "metadata": {
        "id": "3H4sqni64C11"
      },
      "execution_count": 1,
      "outputs": []
    },
    {
      "cell_type": "markdown",
      "source": [
        "1\n",
        "\n",
        "Consider a factor model\n",
        "\n",
        "$ r_i = E(r_i) + B_1*f + ϵ_i $\n",
        "\n",
        "- There are two assets, A and B:\n",
        "\n",
        "1. $B_a = 1.1, B_b = 2.4 $\n",
        "2. $ ϵ_a, ϵ_b \\ \\ are \\ \\ idiosynchratic \\ \\  satisfying \\ \\ cov(ϵ_a, ϵ_b) = 0 $\n",
        "\n",
        "3. $ SD(ϵ_a) = 15.3\\% \\ and \\  SD(ϵ_b) = 10.2\\% $\n"
      ],
      "metadata": {
        "id": "9feRz7k_zsxK"
      }
    },
    {
      "cell_type": "markdown",
      "source": [
        "(a) Compute SD for $r_a$"
      ],
      "metadata": {
        "id": "tvoC8ZV03NEN"
      }
    },
    {
      "cell_type": "code",
      "execution_count": 6,
      "metadata": {
        "id": "YkPO69yinxpu",
        "colab": {
          "base_uri": "https://localhost:8080/",
          "height": 35
        },
        "outputId": "f3c5d298-6133-464a-feb5-d2429f28b0f7"
      },
      "outputs": [
        {
          "output_type": "execute_result",
          "data": {
            "text/plain": [
              "'The standard deviation for return of A is 0.1675119100243323'"
            ],
            "application/vnd.google.colaboratory.intrinsic+json": {
              "type": "string"
            }
          },
          "metadata": {},
          "execution_count": 6
        }
      ],
      "source": [
        "# find the standard deviation for asset A\n",
        "b_a = 1.1\n",
        "f_a = 6.2/100\n",
        "sd_ea = 15.3/100\n",
        "\n",
        "cov_ra = (b_a*f_a)**2 + sd_ea**2\n",
        "\n",
        "sd_ra = math.sqrt(cov_ra)\n",
        "f'The standard deviation for return of A is {sd_ra}'"
      ]
    },
    {
      "cell_type": "markdown",
      "source": [
        "(b) Compute SD for $r_b$"
      ],
      "metadata": {
        "id": "V40A6wTa7T3s"
      }
    },
    {
      "cell_type": "code",
      "source": [
        "# Find the standard deviation for asset B\n",
        "b_b = 2.4\n",
        "f_b = 6.2/100\n",
        "sd_eb = 10.2/100\n",
        "\n",
        "cov_rb = (b_b*f_b)**2 + sd_eb**2\n",
        "\n",
        "sd_rb = math.sqrt(cov_rb)\n",
        "f'The standard deviation for return of B is {sd_rb}'"
      ],
      "metadata": {
        "colab": {
          "base_uri": "https://localhost:8080/",
          "height": 35
        },
        "id": "jtzqs5a34mGQ",
        "outputId": "88c19674-5b6d-41ab-8a4e-77edbefd5f95"
      },
      "execution_count": 7,
      "outputs": [
        {
          "output_type": "execute_result",
          "data": {
            "text/plain": [
              "'The standard deviation for return of B is 0.1804035476369575'"
            ],
            "application/vnd.google.colaboratory.intrinsic+json": {
              "type": "string"
            }
          },
          "metadata": {},
          "execution_count": 7
        }
      ]
    },
    {
      "cell_type": "markdown",
      "source": [
        "(c) Find the correlation between $r_a \\ \\ and \\ \\ r_b$"
      ],
      "metadata": {
        "id": "C1kYuMKM9Zds"
      }
    },
    {
      "cell_type": "code",
      "source": [],
      "metadata": {
        "id": "yXeBuDdC87zz"
      },
      "execution_count": null,
      "outputs": []
    }
  ]
}