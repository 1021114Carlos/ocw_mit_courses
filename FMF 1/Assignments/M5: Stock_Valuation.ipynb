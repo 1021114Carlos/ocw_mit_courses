{
  "nbformat": 4,
  "nbformat_minor": 0,
  "metadata": {
    "colab": {
      "provenance": [],
      "include_colab_link": true
    },
    "kernelspec": {
      "name": "python3",
      "display_name": "Python 3"
    },
    "language_info": {
      "name": "python"
    }
  },
  "cells": [
    {
      "cell_type": "markdown",
      "metadata": {
        "id": "view-in-github",
        "colab_type": "text"
      },
      "source": [
        "<a href=\"https://colab.research.google.com/github/1021114Carlos/ocw_mit_courses/blob/manufacturing_shop/FMF%201/Assignments/M5%3A%20Stock_Valuation.ipynb\" target=\"_parent\"><img src=\"https://colab.research.google.com/assets/colab-badge.svg\" alt=\"Open In Colab\"/></a>"
      ]
    },
    {
      "cell_type": "markdown",
      "source": [
        "2. (A)\n",
        "*Using Gordon Growth Model*\n",
        "\n",
        "- Dividend payout now $10.24M\n",
        "- Expected growth of dividend 5.62%\n",
        "- Discount Rate 11.82%\n",
        "- Shares outstanding 11.72M\n",
        "\n",
        ">What is the stock price?"
      ],
      "metadata": {
        "id": "w3dm3OqlTv9p"
      }
    },
    {
      "cell_type": "code",
      "execution_count": null,
      "metadata": {
        "id": "89O4TwP5PfmB",
        "outputId": "346c4bef-5cf8-4fda-9312-505cc92f8356",
        "colab": {
          "base_uri": "https://localhost:8080/",
          "height": 53
        }
      },
      "outputs": [
        {
          "output_type": "stream",
          "name": "stdout",
          "text": [
            "The PV of the streams of dividends is $174443354.83870968\n"
          ]
        },
        {
          "output_type": "execute_result",
          "data": {
            "text/plain": [
              "'Current stock price $14.884245293405263'"
            ],
            "application/vnd.google.colaboratory.intrinsic+json": {
              "type": "string"
            }
          },
          "metadata": {},
          "execution_count": 1
        }
      ],
      "source": [
        "div0 = 10240000\n",
        "g = 5.62/100\n",
        "dr = 11.82/100\n",
        "shares = 11720000\n",
        "\n",
        "div1 = div0*(1 + g)\n",
        "\n",
        "pv_streamDiv = (div1/(dr - g))\n",
        "print(f'The PV of the streams of dividends is ${pv_streamDiv}')\n",
        "\n",
        "sp0 = pv_streamDiv/shares\n",
        "f'Current stock price ${sp0}'"
      ]
    },
    {
      "cell_type": "markdown",
      "source": [
        "(b)\n",
        "\n",
        "*Discount rate increases. Now is 17.62%*\n",
        "> What is the stock price?"
      ],
      "metadata": {
        "id": "vWNEknOIYa5S"
      }
    },
    {
      "cell_type": "code",
      "source": [
        "new_dr = 17.62/100\n",
        "\n",
        "new_pv_streamDiv = (div1/(new_dr - g))\n",
        "\n",
        "new_sp0 = (new_pv_streamDiv/shares)\n",
        "print(f'Current stock price when discount rate increase {new_sp0}')"
      ],
      "metadata": {
        "id": "VUOVXnv4DZ6g",
        "outputId": "bbb4d863-53f2-463a-f975-15f7274df1b5",
        "colab": {
          "base_uri": "https://localhost:8080/"
        }
      },
      "execution_count": null,
      "outputs": [
        {
          "output_type": "stream",
          "name": "stdout",
          "text": [
            "Current stock price when discount rate increase 7.690193401592717\n"
          ]
        }
      ]
    },
    {
      "cell_type": "markdown",
      "source": [
        "(c)\n",
        "*Growth rate increases to 9.076%. Discount rate is the same as part a*\n",
        ">What is the stock price?"
      ],
      "metadata": {
        "id": "voR1SLNe3LIx"
      }
    },
    {
      "cell_type": "code",
      "source": [
        "new_g = 9.076/100\n",
        "\n",
        "new_div = div0*(1 + new_g)\n",
        "new_pv_streamDiv_g = new_div/(dr - new_g)\n",
        "\n",
        "new_sp0_g = (new_pv_streamDiv_g/shares)\n",
        "f'Current stock price when growth rate increases {new_sp0_g}'"
      ],
      "metadata": {
        "id": "D4C15IkMQTbk",
        "outputId": "65d8d7bd-f783-4aa5-ffce-beb7b118131c",
        "colab": {
          "base_uri": "https://localhost:8080/",
          "height": 35
        }
      },
      "execution_count": null,
      "outputs": [
        {
          "output_type": "execute_result",
          "data": {
            "text/plain": [
              "'Current stock price when growth rate increases 34.73101224887811'"
            ],
            "application/vnd.google.colaboratory.intrinsic+json": {
              "type": "string"
            }
          },
          "metadata": {},
          "execution_count": 18
        }
      ]
    },
    {
      "cell_type": "markdown",
      "source": [
        "3\n",
        "\n",
        "(a)\n",
        "\n",
        "- Expected dividend a year from now $8.19\n",
        "- Dividend growth in year two and three 16.86% and 10.95% from year 4 onward\n",
        "- Expected return 21.1%\n",
        "\n",
        ">Current stock price?"
      ],
      "metadata": {
        "id": "lp7OAHIcU7aU"
      }
    },
    {
      "cell_type": "code",
      "source": [
        "g = 16.86/100\n",
        "g2 = 10.95/100\n",
        "r = 21.1/100\n",
        "div1 = 8.19\n",
        "\n",
        "\n",
        "div3 = div1*(1 + g)**2\n",
        "div4 = div3*(1 + g2)\n",
        "\n",
        "p0 = div1/(1 + r) + div1*(1 + g)/(1 + r)**2 + div1*(1 + g)**2/(1 + r)**3 + div1*((1 + g)**2)*(1 + g2)/(((1 + r)**3)*(r - g2))\n",
        "p0\n",
        "f'Current stock price is ${p0}'"
      ],
      "metadata": {
        "id": "c3afD5s34sQc",
        "colab": {
          "base_uri": "https://localhost:8080/",
          "height": 35
        },
        "outputId": "9ad63fe6-a99b-48ba-f94a-89af3b852d1d"
      },
      "execution_count": null,
      "outputs": [
        {
          "output_type": "execute_result",
          "data": {
            "text/plain": [
              "'Current stock price is $88.4275177831729'"
            ],
            "application/vnd.google.colaboratory.intrinsic+json": {
              "type": "string"
            }
          },
          "metadata": {},
          "execution_count": 22
        }
      ]
    },
    {
      "cell_type": "markdown",
      "source": [
        "(b)\n",
        "\n",
        ">Expected stock price one year from now"
      ],
      "metadata": {
        "id": "S5VRLivl8xhr"
      }
    },
    {
      "cell_type": "code",
      "source": [
        "spE1 = div1*(1 + g)/(1 + r) + div1*(1 + g)**2/(1 + r)**2 + div1*((1 + g)**2)*(1 + g2)/(((1 + r)**2)*(r - g2))\n",
        "f'Expected stock price a year from now ${spE1}'"
      ],
      "metadata": {
        "id": "VqjxxZ1hbztQ",
        "colab": {
          "base_uri": "https://localhost:8080/",
          "height": 35
        },
        "outputId": "9f4b1261-e7a2-4dd7-e0e2-3ee15a939528"
      },
      "execution_count": null,
      "outputs": [
        {
          "output_type": "execute_result",
          "data": {
            "text/plain": [
              "'Expected stock price a year from now $98.89572403542238'"
            ],
            "application/vnd.google.colaboratory.intrinsic+json": {
              "type": "string"
            }
          },
          "metadata": {},
          "execution_count": 31
        }
      ]
    },
    {
      "cell_type": "markdown",
      "source": [
        "3.\n",
        "\n",
        "                    |   0   |    1  |  2     |   3   |\n",
        "    EPS             |       | $24.5 |        |       |\n",
        "    Plow-back ratio |       |  0.85 |  0.59  |   0   |\n",
        "    BVPS            | $100  |       |        |       |"
      ],
      "metadata": {
        "id": "BBJB5jQLGIZZ"
      }
    },
    {
      "cell_type": "markdown",
      "source": [
        "$ I_t = EPS_t*b_t $\n",
        "\n",
        "$ EPS_{t + 1} = EPS_t + ROI_t*I_t $\n",
        "\n",
        "$BVPS_{t + 1} = BVPS_t + I_{t + 1} $\n",
        "\n",
        "$D_t = EPS_t*(1 - b_t) $"
      ],
      "metadata": {
        "id": "qOrFg94f3VzM"
      }
    },
    {
      "cell_type": "markdown",
      "source": [
        "(a) Expected BVPS in year 1"
      ],
      "metadata": {
        "id": "xbfQK49d41Cp"
      }
    },
    {
      "cell_type": "code",
      "source": [
        "inv1 = 24.5*0.85\n",
        "\n",
        "bvps1 = 100 + inv1\n",
        "bvps1"
      ],
      "metadata": {
        "id": "mLFAAVe7HlEs",
        "colab": {
          "base_uri": "https://localhost:8080/"
        },
        "outputId": "fe49e262-41af-4f67-ee28-81ab5ac6ee2a"
      },
      "execution_count": 1,
      "outputs": [
        {
          "output_type": "execute_result",
          "data": {
            "text/plain": [
              "120.825"
            ]
          },
          "metadata": {},
          "execution_count": 1
        }
      ]
    },
    {
      "cell_type": "markdown",
      "source": [
        "(b) Expected EPS in year 2"
      ],
      "metadata": {
        "id": "DRuGgq6l5--S"
      }
    },
    {
      "cell_type": "code",
      "source": [
        "eps2 = 24.5 + 24.5*0.85*0.2\n",
        "eps2"
      ],
      "metadata": {
        "colab": {
          "base_uri": "https://localhost:8080/"
        },
        "id": "E_eBr22S5rjq",
        "outputId": "a39b7a51-fcbc-4000-d03c-894e26d36f73"
      },
      "execution_count": 3,
      "outputs": [
        {
          "output_type": "execute_result",
          "data": {
            "text/plain": [
              "28.665"
            ]
          },
          "metadata": {},
          "execution_count": 3
        }
      ]
    },
    {
      "cell_type": "markdown",
      "source": [
        "(c) Expected ex dividend stock price in year 2"
      ],
      "metadata": {
        "id": "bT98kky3-au1"
      }
    },
    {
      "cell_type": "code",
      "source": [
        "dr = 12.8/100\n",
        "ex_div_sp2 = eps2 + eps2*0.59*0.15\n",
        "\n",
        "sp2 = ex_div_sp2/dr\n",
        "sp2\n",
        "\n"
      ],
      "metadata": {
        "colab": {
          "base_uri": "https://localhost:8080/"
        },
        "id": "BqjezbGS-Hko",
        "outputId": "f0b97e81-71cb-424a-d3dd-1f2e41e4a5cb"
      },
      "execution_count": 17,
      "outputs": [
        {
          "output_type": "execute_result",
          "data": {
            "text/plain": [
              "243.76447265624998"
            ]
          },
          "metadata": {},
          "execution_count": 17
        }
      ]
    },
    {
      "cell_type": "markdown",
      "source": [
        "(d) ex dividend stock price now"
      ],
      "metadata": {
        "id": "5Mxw-oFY_8-F"
      }
    },
    {
      "cell_type": "code",
      "source": [
        "div1 = 24.5*(1 - 0.85)\n",
        "div2 = eps2*(1 - 0.59)\n",
        "\n",
        "sp0 = div1/(1 + dr) + (div2 + sp2)/(1 + dr)**2\n",
        "sp0"
      ],
      "metadata": {
        "colab": {
          "base_uri": "https://localhost:8080/"
        },
        "id": "4njQ5_en_Q2H",
        "outputId": "bf3d1052-bdc6-4416-f9c5-4f375531866d"
      },
      "execution_count": 8,
      "outputs": [
        {
          "output_type": "execute_result",
          "data": {
            "text/plain": [
              "204.07559561912907"
            ]
          },
          "metadata": {},
          "execution_count": 8
        }
      ]
    },
    {
      "cell_type": "markdown",
      "source": [
        "(e) Expected return (over a single-period) on the stock at time 0"
      ],
      "metadata": {
        "id": "JD42XZF1BfuG"
      }
    },
    {
      "cell_type": "code",
      "source": [
        "# at time 0 r = dr which is 12.8"
      ],
      "metadata": {
        "id": "UjQFbeQvBBZx"
      },
      "execution_count": 21,
      "outputs": []
    },
    {
      "cell_type": "markdown",
      "source": [
        "5.\n",
        "\n",
        "- Firm is 100% equity financed\n",
        "- Cost of capital 11.2%\n",
        "- payout ratio 76%\n",
        "- EPS at  t=1 $6.9 (without new investment. this remains in perpetuity)\n",
        "- Future investments generate \\$0.2 in incremental earnings for each \\$1 of investment\n",
        "\n",
        "\n",
        "> Expected dividends per share in year 1\n"
      ],
      "metadata": {
        "id": "q3q3p_sLJVxu"
      }
    },
    {
      "cell_type": "code",
      "source": [
        "eps1 = 6.9\n",
        "payout = 76/100\n",
        "div1 = eps1*payout\n",
        "div1"
      ],
      "metadata": {
        "colab": {
          "base_uri": "https://localhost:8080/"
        },
        "id": "A5AlNaGwESjd",
        "outputId": "ff9d5750-1365-4fc3-8d21-ab95f98cb246"
      },
      "execution_count": 22,
      "outputs": [
        {
          "output_type": "execute_result",
          "data": {
            "text/plain": [
              "5.244000000000001"
            ]
          },
          "metadata": {},
          "execution_count": 22
        }
      ]
    },
    {
      "cell_type": "markdown",
      "source": [
        "(b) Expected dividend per share in year 2"
      ],
      "metadata": {
        "id": "tjENaSkmSASo"
      }
    },
    {
      "cell_type": "code",
      "source": [
        "eps2 = eps1 + eps1*(1 - payout)*0.2\n",
        "eps2\n",
        "div2 = eps2*payout\n",
        "div2"
      ],
      "metadata": {
        "colab": {
          "base_uri": "https://localhost:8080/"
        },
        "id": "zdH5jbsPLApP",
        "outputId": "da876c1d-c82c-44a1-f483-989c15701a35"
      },
      "execution_count": 27,
      "outputs": [
        {
          "output_type": "execute_result",
          "data": {
            "text/plain": [
              "5.495712"
            ]
          },
          "metadata": {},
          "execution_count": 27
        }
      ]
    },
    {
      "cell_type": "markdown",
      "source": [
        "(c) PVGO today"
      ],
      "metadata": {
        "id": "cJ1OL_LiTIBy"
      }
    },
    {
      "cell_type": "code",
      "source": [
        "g = (div2/div1) - 1\n",
        "\n",
        "sp0 = div1/(0.112 - g)\n",
        "\n",
        "pv_no_g = eps1/0.112\n",
        "\n",
        "pvgo = sp0 - pv_no_g\n",
        "pvgo"
      ],
      "metadata": {
        "colab": {
          "base_uri": "https://localhost:8080/"
        },
        "id": "3kcq3W79SoEO",
        "outputId": "fe4c8b44-c92c-40d2-f8c5-634e0e015b68"
      },
      "execution_count": 29,
      "outputs": [
        {
          "output_type": "execute_result",
          "data": {
            "text/plain": [
              "20.33035714285691"
            ]
          },
          "metadata": {},
          "execution_count": 29
        }
      ]
    },
    {
      "cell_type": "markdown",
      "source": [
        "6.\n",
        "\n",
        "Firm has two lines of business, organized as two divisions: A and B\n",
        "\n",
        "Division A:\n",
        "- Generates $1.536M at t = 1\n",
        "- Will grow at 11.24% after t = 1\n",
        "\n",
        "Divsion B:\n",
        "- Generates $3.546M at t = 1\n",
        "- Will grow at 2.344% after t=1\n",
        "\n",
        "Term structure of interest rate 3.456%\n",
        "firm's market value $116M\n",
        "\n",
        "> Dollar value of division B?"
      ],
      "metadata": {
        "id": "PJNra6tUYj8w"
      }
    },
    {
      "cell_type": "code",
      "source": [
        "# Division A\n",
        "cf_a_t1 = 1536000\n",
        "g_a = 1.124/100\n",
        "\n",
        "# Divsion B\n",
        "cf_b_t1 = 3546000\n",
        "g_b = 2.344/100\n",
        "\n",
        "r = 3.456/100\n",
        "\n",
        "firm_mc = 116000000\n",
        "\n",
        "# PV of division A\n",
        "pv_a = cf_a_t1/(r - g_a)\n",
        "\n",
        "dollar_value_b = firm_mc - pv_a\n",
        "f'The dollar value of division B is ${dollar_value_b}'"
      ],
      "metadata": {
        "colab": {
          "base_uri": "https://localhost:8080/",
          "height": 35
        },
        "id": "KG9xy4NMU0sp",
        "outputId": "2845fa04-435c-4559-f0e8-427e136f14b3"
      },
      "execution_count": 34,
      "outputs": [
        {
          "output_type": "execute_result",
          "data": {
            "text/plain": [
              "'The dollar value of division B is $50133790.737564325'"
            ],
            "application/vnd.google.colaboratory.intrinsic+json": {
              "type": "string"
            }
          },
          "metadata": {},
          "execution_count": 34
        }
      ]
    },
    {
      "cell_type": "markdown",
      "source": [
        "(b)\n",
        "> cost of capital of divison B"
      ],
      "metadata": {
        "id": "LiodfLTR7z5l"
      }
    },
    {
      "cell_type": "code",
      "source": [
        "# v_b = cf_b/(r_b - g_b)\n",
        "# r_b = cf_b/(v_b) + g_b\n",
        "\n",
        "\n",
        "r_b = (cf_b_t1/(dollar_value_b)) + g_b\n",
        "f'cost of capital of divison B is {r_b}%'\n"
      ],
      "metadata": {
        "colab": {
          "base_uri": "https://localhost:8080/",
          "height": 35
        },
        "id": "i634TbWD4Rsk",
        "outputId": "84234173-9432-4bdc-a56d-6f483abcabb5"
      },
      "execution_count": 36,
      "outputs": [
        {
          "output_type": "execute_result",
          "data": {
            "text/plain": [
              "'cost of capital of divison B is 0.09417073764882988%'"
            ],
            "application/vnd.google.colaboratory.intrinsic+json": {
              "type": "string"
            }
          },
          "metadata": {},
          "execution_count": 36
        }
      ]
    },
    {
      "cell_type": "code",
      "source": [],
      "metadata": {
        "id": "tt1RiYnM9xqM"
      },
      "execution_count": null,
      "outputs": []
    }
  ]
}