{
  "nbformat": 4,
  "nbformat_minor": 0,
  "metadata": {
    "colab": {
      "provenance": [],
      "authorship_tag": "ABX9TyNji5rXRNwgxqxKNmhnj2IB",
      "include_colab_link": true
    },
    "kernelspec": {
      "name": "python3",
      "display_name": "Python 3"
    },
    "language_info": {
      "name": "python"
    }
  },
  "cells": [
    {
      "cell_type": "markdown",
      "metadata": {
        "id": "view-in-github",
        "colab_type": "text"
      },
      "source": [
        "<a href=\"https://colab.research.google.com/github/1021114Carlos/ocw_mit_courses/blob/manufacturing_shop/FMF%201/Assignments/Stock_Valuation.ipynb\" target=\"_parent\"><img src=\"https://colab.research.google.com/assets/colab-badge.svg\" alt=\"Open In Colab\"/></a>"
      ]
    },
    {
      "cell_type": "markdown",
      "source": [
        "2. (A) *Using Gordon Growth Model*\n",
        "\n",
        "- Dividend payout now $10.24M\n",
        "- Expected growth of dividend 5.62%\n",
        "- Discount Rate 11.82%\n",
        "- Shares outstanding 11.72M\n",
        "\n",
        ">What is the stock price?"
      ],
      "metadata": {
        "id": "w3dm3OqlTv9p"
      }
    },
    {
      "cell_type": "code",
      "execution_count": 46,
      "metadata": {
        "id": "89O4TwP5PfmB",
        "outputId": "d6e1ac57-1dd9-4f6d-88f9-b7a56f9ea15b",
        "colab": {
          "base_uri": "https://localhost:8080/",
          "height": 53
        }
      },
      "outputs": [
        {
          "output_type": "stream",
          "name": "stdout",
          "text": [
            "The PV of the streams of dividends is $174443354.83870968\n"
          ]
        },
        {
          "output_type": "execute_result",
          "data": {
            "text/plain": [
              "'Current stock price $14.884245293405263'"
            ],
            "application/vnd.google.colaboratory.intrinsic+json": {
              "type": "string"
            }
          },
          "metadata": {},
          "execution_count": 46
        }
      ],
      "source": [
        "div0 = 10240000\n",
        "g = 5.62/100\n",
        "dr = 11.82/100\n",
        "shares = 11720000\n",
        "\n",
        "div1 = div0*(1 + g)\n",
        "\n",
        "pv_streamDiv = (div1/(dr - g))\n",
        "print(f'The PV of the streams of dividends is ${pv_streamDiv}')\n",
        "\n",
        "sp0 = pv_streamDiv/shares\n",
        "f'Current stock price ${sp0}'"
      ]
    },
    {
      "cell_type": "markdown",
      "source": [
        "(b)\n",
        "\n",
        "*Discount rate increases. Now is 17.62%*\n",
        "> What is the stock price?"
      ],
      "metadata": {
        "id": "vWNEknOIYa5S"
      }
    },
    {
      "cell_type": "code",
      "source": [
        "new_dr = 17.62/100\n",
        "new_pv_streamDiv = div1/(new_dr - g)\n",
        "\n",
        "new_sp0 = new_pv_streamDiv/shares\n",
        "print(f'Current stock price when discount rate increase {new_pv_streamDiv}')"
      ],
      "metadata": {
        "id": "VUOVXnv4DZ6g",
        "outputId": "6e5a6396-0e99-4c49-d55c-46e332d43c44",
        "colab": {
          "base_uri": "https://localhost:8080/"
        }
      },
      "execution_count": 47,
      "outputs": [
        {
          "output_type": "stream",
          "name": "stdout",
          "text": [
            "Current stock price when discount rate increase 90129066.66666664\n"
          ]
        }
      ]
    },
    {
      "cell_type": "code",
      "source": [],
      "metadata": {
        "id": "D4C15IkMQTbk"
      },
      "execution_count": null,
      "outputs": []
    }
  ]
}
