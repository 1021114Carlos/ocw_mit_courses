{
  "nbformat": 4,
  "nbformat_minor": 0,
  "metadata": {
    "colab": {
      "provenance": [],
      "include_colab_link": true
    },
    "kernelspec": {
      "name": "python3",
      "display_name": "Python 3"
    },
    "language_info": {
      "name": "python"
    }
  },
  "cells": [
    {
      "cell_type": "markdown",
      "metadata": {
        "id": "view-in-github",
        "colab_type": "text"
      },
      "source": [
        "<a href=\"https://colab.research.google.com/github/1021114Carlos/ocw_mit_courses/blob/manufacturing_shop/FMF%201/Assignments/M5%3A%20Stock_Valuation.ipynb\" target=\"_parent\"><img src=\"https://colab.research.google.com/assets/colab-badge.svg\" alt=\"Open In Colab\"/></a>"
      ]
    },
    {
      "cell_type": "markdown",
      "source": [
        "2. (A)\n",
        "*Using Gordon Growth Model*\n",
        "\n",
        "- Dividend payout now $10.24M\n",
        "- Expected growth of dividend 5.62%\n",
        "- Discount Rate 11.82%\n",
        "- Shares outstanding 11.72M\n",
        "\n",
        ">What is the stock price?"
      ],
      "metadata": {
        "id": "w3dm3OqlTv9p"
      }
    },
    {
      "cell_type": "code",
      "execution_count": null,
      "metadata": {
        "id": "89O4TwP5PfmB",
        "outputId": "346c4bef-5cf8-4fda-9312-505cc92f8356",
        "colab": {
          "base_uri": "https://localhost:8080/",
          "height": 53
        }
      },
      "outputs": [
        {
          "output_type": "stream",
          "name": "stdout",
          "text": [
            "The PV of the streams of dividends is $174443354.83870968\n"
          ]
        },
        {
          "output_type": "execute_result",
          "data": {
            "text/plain": [
              "'Current stock price $14.884245293405263'"
            ],
            "application/vnd.google.colaboratory.intrinsic+json": {
              "type": "string"
            }
          },
          "metadata": {},
          "execution_count": 1
        }
      ],
      "source": [
        "div0 = 10240000\n",
        "g = 5.62/100\n",
        "dr = 11.82/100\n",
        "shares = 11720000\n",
        "\n",
        "div1 = div0*(1 + g)\n",
        "\n",
        "pv_streamDiv = (div1/(dr - g))\n",
        "print(f'The PV of the streams of dividends is ${pv_streamDiv}')\n",
        "\n",
        "sp0 = pv_streamDiv/shares\n",
        "f'Current stock price ${sp0}'"
      ]
    },
    {
      "cell_type": "markdown",
      "source": [
        "(b)\n",
        "\n",
        "*Discount rate increases. Now is 17.62%*\n",
        "> What is the stock price?"
      ],
      "metadata": {
        "id": "vWNEknOIYa5S"
      }
    },
    {
      "cell_type": "code",
      "source": [
        "new_dr = 17.62/100\n",
        "\n",
        "new_pv_streamDiv = (div1/(new_dr - g))\n",
        "\n",
        "new_sp0 = (new_pv_streamDiv/shares)\n",
        "print(f'Current stock price when discount rate increase {new_sp0}')"
      ],
      "metadata": {
        "id": "VUOVXnv4DZ6g",
        "outputId": "bbb4d863-53f2-463a-f975-15f7274df1b5",
        "colab": {
          "base_uri": "https://localhost:8080/"
        }
      },
      "execution_count": null,
      "outputs": [
        {
          "output_type": "stream",
          "name": "stdout",
          "text": [
            "Current stock price when discount rate increase 7.690193401592717\n"
          ]
        }
      ]
    },
    {
      "cell_type": "markdown",
      "source": [
        "(c)\n",
        "*Growth rate increases to 9.076%. Discount rate is the same as part a*\n",
        ">What is the stock price?"
      ],
      "metadata": {
        "id": "voR1SLNe3LIx"
      }
    },
    {
      "cell_type": "code",
      "source": [
        "new_g = 9.076/100\n",
        "\n",
        "new_div = div0*(1 + new_g)\n",
        "new_pv_streamDiv_g = new_div/(dr - new_g)\n",
        "\n",
        "new_sp0_g = (new_pv_streamDiv_g/shares)\n",
        "f'Current stock price when growth rate increases {new_sp0_g}'"
      ],
      "metadata": {
        "id": "D4C15IkMQTbk",
        "outputId": "65d8d7bd-f783-4aa5-ffce-beb7b118131c",
        "colab": {
          "base_uri": "https://localhost:8080/",
          "height": 35
        }
      },
      "execution_count": null,
      "outputs": [
        {
          "output_type": "execute_result",
          "data": {
            "text/plain": [
              "'Current stock price when growth rate increases 34.73101224887811'"
            ],
            "application/vnd.google.colaboratory.intrinsic+json": {
              "type": "string"
            }
          },
          "metadata": {},
          "execution_count": 18
        }
      ]
    },
    {
      "cell_type": "markdown",
      "source": [
        "3\n",
        "\n",
        "(a)\n",
        "\n",
        "- Expected dividend a year from now $8.19\n",
        "- Dividend growth in year two and three 16.86% and 10.95% from year 4 onward\n",
        "- Expected return 21.1%\n",
        "\n",
        ">Current stock price?"
      ],
      "metadata": {
        "id": "lp7OAHIcU7aU"
      }
    },
    {
      "cell_type": "code",
      "source": [
        "g = 16.86/100\n",
        "g2 = 10.95/100\n",
        "r = 21.1/100\n",
        "div1 = 8.19\n",
        "\n",
        "\n",
        "div3 = div1*(1 + g)**2\n",
        "div4 = div3*(1 + g2)\n",
        "\n",
        "p0 = div1/(1 + r) + div1*(1 + g)/(1 + r)**2 + div1*(1 + g)**2/(1 + r)**3 + div1*((1 + g)**2)*(1 + g2)/(((1 + r)**3)*(r - g2))\n",
        "p0\n",
        "f'Current stock price is ${p0}'"
      ],
      "metadata": {
        "id": "c3afD5s34sQc",
        "colab": {
          "base_uri": "https://localhost:8080/",
          "height": 35
        },
        "outputId": "9ad63fe6-a99b-48ba-f94a-89af3b852d1d"
      },
      "execution_count": 22,
      "outputs": [
        {
          "output_type": "execute_result",
          "data": {
            "text/plain": [
              "'Current stock price is $88.4275177831729'"
            ],
            "application/vnd.google.colaboratory.intrinsic+json": {
              "type": "string"
            }
          },
          "metadata": {},
          "execution_count": 22
        }
      ]
    },
    {
      "cell_type": "markdown",
      "source": [
        "(b)\n",
        "\n",
        ">Expected stock price one year from now"
      ],
      "metadata": {
        "id": "S5VRLivl8xhr"
      }
    },
    {
      "cell_type": "code",
      "source": [
        "spE1 = div1*(1 + g)/(1 + r) + div1*(1 + g)**2/(1 + r)**2 + div1*((1 + g)**2)*(1 + g2)/(((1 + r)**2)*(r - g2))\n",
        "f'Expected stock price a year from now ${spE1}'"
      ],
      "metadata": {
        "id": "VqjxxZ1hbztQ",
        "colab": {
          "base_uri": "https://localhost:8080/",
          "height": 35
        },
        "outputId": "9f4b1261-e7a2-4dd7-e0e2-3ee15a939528"
      },
      "execution_count": 31,
      "outputs": [
        {
          "output_type": "execute_result",
          "data": {
            "text/plain": [
              "'Expected stock price a year from now $98.89572403542238'"
            ],
            "application/vnd.google.colaboratory.intrinsic+json": {
              "type": "string"
            }
          },
          "metadata": {},
          "execution_count": 31
        }
      ]
    },
    {
      "cell_type": "markdown",
      "source": [
        "3.\n",
        "\n",
        "                    |   0   |    1  |  2     |   3   |\n",
        "    EPS             |       | $24.5 |        |       |\n",
        "    Plow-back ratio |       |  0.85 |  0.59  |   0   |\n",
        "    BVPS            | $100  |       |        |       |"
      ],
      "metadata": {
        "id": "BBJB5jQLGIZZ"
      }
    },
    {
      "cell_type": "code",
      "source": [],
      "metadata": {
        "id": "mLFAAVe7HlEs"
      },
      "execution_count": null,
      "outputs": []
    }
  ]
}