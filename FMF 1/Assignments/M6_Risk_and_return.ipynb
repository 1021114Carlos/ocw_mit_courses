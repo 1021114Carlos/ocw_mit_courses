{
  "nbformat": 4,
  "nbformat_minor": 0,
  "metadata": {
    "colab": {
      "private_outputs": true,
      "provenance": [],
      "authorship_tag": "ABX9TyN7wxZXE7SmoUJ3woKBspwX",
      "include_colab_link": true
    },
    "kernelspec": {
      "name": "python3",
      "display_name": "Python 3"
    },
    "language_info": {
      "name": "python"
    }
  },
  "cells": [
    {
      "cell_type": "markdown",
      "metadata": {
        "id": "view-in-github",
        "colab_type": "text"
      },
      "source": [
        "<a href=\"https://colab.research.google.com/github/1021114Carlos/ocw_mit_courses/blob/manufacturing_shop/FMF%201/Assignments/M6_Risk_and_return.ipynb\" target=\"_parent\"><img src=\"https://colab.research.google.com/assets/colab-badge.svg\" alt=\"Open In Colab\"/></a>"
      ]
    },
    {
      "cell_type": "code",
      "execution_count": null,
      "metadata": {
        "id": "gzRRi1aQpD-L"
      },
      "outputs": [],
      "source": [
        "import math\n",
        "%magic"
      ]
    },
    {
      "cell_type": "markdown",
      "source": [
        "1.\n",
        "\n",
        "(a)\n",
        "\n",
        "Investor is choosing between two lotteries:\n",
        "\n",
        "Lottery A: pays $100 for sure.\n",
        "Lottery B: pays 120 or 80 with equal probabilities.\n",
        "\n",
        "Utility function is $u(x) = Ln(x)$\n",
        "\n",
        "which one is the better option?"
      ],
      "metadata": {
        "id": "CHTBXwM6pQwm"
      }
    },
    {
      "cell_type": "code",
      "source": [
        "# Expected utility funciton for lottery B\n",
        "lotB_120 = math.log(120)\n",
        "lotB_80 = math.log(80)\n",
        "euf_lotB = 0.5*(lotB_120 + lotB_80)\n",
        "print(euf_lotB)\n",
        "\n",
        "# Expected utility function for lottery A\n",
        "\n",
        "euf_lotA = math.log(100)\n",
        "print(euf_lotA)"
      ],
      "metadata": {
        "id": "WbTS4LbBWxwA"
      },
      "execution_count": null,
      "outputs": []
    },
    {
      "cell_type": "markdown",
      "source": [
        "(b)"
      ],
      "metadata": {
        "id": "Ya7iAgHJrETW"
      }
    },
    {
      "cell_type": "code",
      "source": [
        "# Expected utility of lottery A\n",
        "lotA_120 = math.log(120)\n",
        "lotA_80 = math.log(80)\n",
        "lotA = 0.5*(lotA_120 + lotA_80)\n",
        "print(\"Expected utility function of Lottery A is u(x) = ln(x) = \", lotA)\n",
        "\n",
        "# Expected utility of lottery B\n",
        "\n",
        "lotB_150 = math.log(150)\n",
        "lotB_50 = math.log(50)\n",
        "lotB = 0.5*(lotB_150 + lotB_50)\n",
        "print(\"Expected utility function of Lottery B is u(x) = ln(x) = \", lotB)"
      ],
      "metadata": {
        "id": "2s9gHjXDaMCr"
      },
      "execution_count": null,
      "outputs": []
    },
    {
      "cell_type": "markdown",
      "source": [
        "2\n",
        "\n",
        "Investor has two choices:\n",
        "\n",
        "    Probability  | Payoff  |\n",
        "        0.47     |   81.92 |\n",
        "        0.53     |  134.88 |\n",
        "\n",
        "utility function is u(x) = x\n",
        "\n",
        "What riskless payoff would the investor view as equivalent to the payoff of the above lottery?\n",
        "\n",
        "**this is about finding Certainty equivalence (CE)**"
      ],
      "metadata": {
        "id": "_LjjuHhMgY8-"
      }
    },
    {
      "cell_type": "code",
      "source": [
        "# Finding certainty equivalence\n",
        "\n",
        "eu = 0.47*81.92 + 0.53*134.88\n",
        "eu"
      ],
      "metadata": {
        "id": "DWKn6dGneSVX"
      },
      "execution_count": null,
      "outputs": []
    },
    {
      "cell_type": "markdown",
      "source": [
        "#Prior steps between 3 (c) and 2 were lost when trying to save colab notebook to github. STOP WORKING ON NOTEBOOK FROM GITHUB."
      ],
      "metadata": {
        "id": "NYIvfiEW9bIe"
      }
    },
    {
      "cell_type": "markdown",
      "source": [
        "3\n",
        "\n",
        "(c)"
      ],
      "metadata": {
        "id": "fLLNOv0S9LOU"
      }
    },
    {
      "cell_type": "code",
      "source": [
        "test = (0.5*math.sqrt(1 + 0.512) + 0.5*math.sqrt(1 - 0.512))**2\n",
        "test\n",
        "\n",
        "risk_pre = (1 - test)*100\n",
        "risk_pre"
      ],
      "metadata": {
        "id": "QGn53ypbpxG8"
      },
      "execution_count": null,
      "outputs": []
    },
    {
      "cell_type": "markdown",
      "source": [
        "(d)"
      ],
      "metadata": {
        "id": "xK5y4XVcTd0_"
      }
    },
    {
      "cell_type": "code",
      "source": [
        "# Finding Certainty equivalence\n",
        "ce = math.exp(0.5*math.log(1.512) + 0.5*math.log(1-0.512))\n",
        "ce\n",
        "\n",
        "# Finding risk premium\n",
        "risk_premium = 1 - ce\n",
        "risk_premium"
      ],
      "metadata": {
        "id": "uJxPzp4vFyh4"
      },
      "execution_count": null,
      "outputs": []
    },
    {
      "cell_type": "markdown",
      "source": [
        "4"
      ],
      "metadata": {
        "id": "aKBemzrEUZWz"
      }
    },
    {
      "cell_type": "markdown",
      "source": [
        "Solved in Google sheets"
      ],
      "metadata": {
        "id": "r9I8ZJcKVbTX"
      }
    },
    {
      "cell_type": "markdown",
      "source": [
        "5\n",
        "\n",
        "(a)\n",
        "\n",
        "There are two risky assets x and y and a risk-free asset.\n",
        "\n",
        "    portfolios  |     A      |       B      |    risk-free   |\n",
        "    ---------------------------------------------------------\n",
        "        X       |    $102.4  |      $236.4  |\n",
        "        Y       |    $281    |      $234.4  |    $232.0      |\n",
        "\n",
        ">weight of asset x in portfolio A?   "
      ],
      "metadata": {
        "id": "KsQ8TedwhMaY"
      }
    },
    {
      "cell_type": "code",
      "source": [
        "# Weight of asset X in portfolio A\n",
        "pa_tv = 102.4 + 236.4\n",
        "w_x = 102.4/pa_tv\n",
        "w_x"
      ],
      "metadata": {
        "id": "jPTfP3nxI4Mh"
      },
      "execution_count": null,
      "outputs": []
    },
    {
      "cell_type": "markdown",
      "source": [
        "(b)"
      ],
      "metadata": {
        "id": "afUJlDOHpAf8"
      }
    },
    {
      "cell_type": "code",
      "source": [
        "# Total value of portfolio B\n",
        "\n",
        "pb_tv = 281.0 + 234.4 + 232.0\n",
        "\n",
        "# Weight of asset x in portfolio B\n",
        "\n",
        "w_x = 281.0/pb_tv\n",
        "w_x"
      ],
      "metadata": {
        "id": "4QEtbYQIj17q"
      },
      "execution_count": null,
      "outputs": []
    },
    {
      "cell_type": "markdown",
      "source": [
        "(c)\n",
        "\n",
        "Combine Portfolio A and B into a new portfolio named C\n",
        "\n",
        ">Weight of asset X in portfolio C?"
      ],
      "metadata": {
        "id": "VfR2dMt6qt80"
      }
    },
    {
      "cell_type": "markdown",
      "source": [],
      "metadata": {
        "id": "-P8Cp0J5qzXH"
      }
    },
    {
      "cell_type": "code",
      "source": [
        "pc_tv = pb_tv + pa_tv\n",
        "tv_x = 102.4 + 281.0\n",
        "w_x_c = tv_x/pc_tv\n",
        "w_x_c"
      ],
      "metadata": {
        "id": "TMlvU0y6qA7R"
      },
      "execution_count": null,
      "outputs": []
    },
    {
      "cell_type": "markdown",
      "source": [
        "6\n",
        "\n",
        "- Make investment of $500\n",
        "\n",
        "- Borrow $400\n",
        "\n",
        "**If value of investment declines by 10%**, what is the loss?\n"
      ],
      "metadata": {
        "id": "hzxlbO0Xsea4"
      }
    },
    {
      "cell_type": "code",
      "source": [
        "invest = 500\n",
        "borrow = 400\n",
        "loss = 10/100\n",
        "\n",
        "# Portfolio value\n",
        "\n",
        "portf_value = invest + borrow\n",
        "\n",
        "# Equity weight of my portfolio\n",
        "\n",
        "equity = (invest + borrow)/invest\n",
        "\n",
        "# Weight of liability\n",
        "\n",
        "w_liability = borrow/invest\n",
        "\n",
        "# Leverage ratio\n",
        "\n",
        "lev_ratio = portf_value/invest"
      ],
      "metadata": {
        "id": "ClJRt7gBsN2V"
      },
      "execution_count": null,
      "outputs": []
    },
    {
      "cell_type": "code",
      "source": [],
      "metadata": {
        "id": "i1Cw-jQ4v6pb"
      },
      "execution_count": null,
      "outputs": []
    }
  ]
}