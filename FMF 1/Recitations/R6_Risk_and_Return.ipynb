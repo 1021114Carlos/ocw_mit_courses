{
  "nbformat": 4,
  "nbformat_minor": 0,
  "metadata": {
    "colab": {
      "provenance": [],
      "authorship_tag": "ABX9TyMPGjkFde961/qEtL1yxIHM",
      "include_colab_link": true
    },
    "kernelspec": {
      "name": "python3",
      "display_name": "Python 3"
    },
    "language_info": {
      "name": "python"
    }
  },
  "cells": [
    {
      "cell_type": "markdown",
      "metadata": {
        "id": "view-in-github",
        "colab_type": "text"
      },
      "source": [
        "<a href=\"https://colab.research.google.com/github/1021114Carlos/ocw_mit_courses/blob/manufacturing_shop/FMF%201/Recitations/R6_Risk_and_Return.ipynb\" target=\"_parent\"><img src=\"https://colab.research.google.com/assets/colab-badge.svg\" alt=\"Open In Colab\"/></a>"
      ]
    },
    {
      "cell_type": "code",
      "source": [
        "import math"
      ],
      "metadata": {
        "id": "HlEk0EjG-1Zh"
      },
      "execution_count": null,
      "outputs": []
    },
    {
      "cell_type": "markdown",
      "source": [
        "1"
      ],
      "metadata": {
        "id": "GHcXbiLOqME-"
      }
    },
    {
      "cell_type": "markdown",
      "source": [
        "(a)\n",
        "\n",
        "Concept of expected utility\n",
        "\n",
        "- investor maximazes expected utility and has utility function\n",
        "\n",
        "$u(x) = \\sqrt{x} $\n",
        "\n",
        "* choices:\n",
        "<ul type=\"square\">\n",
        "  <li>\\$1000 for sure</li>\n",
        "  <li>lottery A, which pays either \\$1100 or \\$900 with equal probabilities (50/50)</li>\n",
        "</ul>\n",
        "\n",
        "- which choice to make?"
      ],
      "metadata": {
        "id": "WRdivdlLy7sk"
      }
    },
    {
      "cell_type": "code",
      "execution_count": null,
      "metadata": {
        "id": "--PSG7_9wGIp",
        "colab": {
          "base_uri": "https://localhost:8080/"
        },
        "outputId": "b855c27b-ea8b-486c-906c-4951d1e59017"
      },
      "outputs": [
        {
          "output_type": "stream",
          "name": "stdout",
          "text": [
            "It is unclear which option is better using the expected payoff method because 1000 and 1000.0 are the same\n"
          ]
        }
      ],
      "source": [
        "e_u_x = 1000\n",
        "lotA_e_u_x = 1100\n",
        "lotA_e_u_xb = 900\n",
        "p = 50/100\n",
        "\n",
        "a = math.sqrt(e_u_x)\n",
        "b = p*(math.sqrt(lotA_e_u_x)  + math.sqrt(lotA_e_u_xb))\n",
        "f'The expected utilites are {a} and {b} therefore a {a} is better than b {b}'\n",
        "\n",
        "# Using expected payoff\n",
        "\n",
        "# E[x] = 1000\n",
        "\n",
        "b = p*(lotA_e_u_x + lotA_e_u_xb)\n",
        "print(f'It is unclear which option is better using the expected payoff method because {e_u_x} and {b} are the same')"
      ]
    },
    {
      "cell_type": "markdown",
      "source": [
        "(b)\n",
        "\n",
        "* choices:\n",
        "<ul type=\"square\">\n",
        "  <li>Lottery A gives:  1,100  or  900  with equal probabilities</li>\n",
        "\n",
        "  <li>Lottery B gives: 1,250  or 750  with equal probabilites</li>\n",
        "</ul>\n",
        "\n",
        "- Which choice is better"
      ],
      "metadata": {
        "id": "MWBak-i8K_D-"
      }
    },
    {
      "cell_type": "code",
      "source": [
        "# If we use E[payoff]. Rememeber this is the naive approach\n",
        "p = 50/100\n",
        "\n",
        "# Lottery A\n",
        "exp_pay_LA_optionA = 1100\n",
        "exp_pay_LA_optionB = 900\n",
        "payA = p*(exp_pay_LA_optionA + exp_pay_LA_optionB)\n",
        "\n",
        "# Lottery B\n",
        "exp_pay_LB_optionA = 1250\n",
        "exp_pay_LB_optionB = 750\n",
        "payB = p*(exp_pay_LB_optionA + exp_pay_LB_optionB)\n",
        "\n",
        "print(f'using the expected payoff approach lottery A {payA} and lottery B {payB}\\n no clear choice')"
      ],
      "metadata": {
        "colab": {
          "base_uri": "https://localhost:8080/"
        },
        "id": "uF3YADHm_gxD",
        "outputId": "876cf851-1e7e-46af-c49f-b529f9e3427e"
      },
      "execution_count": null,
      "outputs": [
        {
          "output_type": "stream",
          "name": "stdout",
          "text": [
            "using the expected payoff approach lottery A 1000.0 and lottery B 1000.0\n",
            " no clear choice\n"
          ]
        }
      ]
    },
    {
      "cell_type": "code",
      "source": [
        "# Using square root approach\n",
        "# Lottery A\n",
        "pay_LA_optionA = math.sqrt(1100)\n",
        "pay_LA_optionB = math.sqrt(900)\n",
        "pay_LA = p*(pay_LA_optionA + pay_LA_optionB)\n",
        "\n",
        "# Lottery B\n",
        "pay_LB_optionA = math.sqrt(1250)\n",
        "pay_LB_optionB = math.sqrt(750)\n",
        "pay_LB = p*(pay_LB_optionA + pay_LB_optionB)\n",
        "\n",
        "print(f'Using the expected utility method between pay A {pay_LA} and pay B {pay_LB}\\n we can see that Lottery A offers higher returns')"
      ],
      "metadata": {
        "colab": {
          "base_uri": "https://localhost:8080/"
        },
        "id": "QTZp4xQHNJCL",
        "outputId": "7ed9f594-1d4e-4590-a4c4-ffa5ede0c219"
      },
      "execution_count": null,
      "outputs": [
        {
          "output_type": "stream",
          "name": "stdout",
          "text": [
            "Using the expected utility method between pay A 31.583123951777 and pay B 31.370733467292844\n",
            " we can see that Lottery A offers higher returns\n"
          ]
        }
      ]
    },
    {
      "cell_type": "markdown",
      "source": [
        "2"
      ],
      "metadata": {
        "id": "OACY1x4TqQnj"
      }
    },
    {
      "cell_type": "markdown",
      "source": [
        "Concept of certainty equivalent"
      ],
      "metadata": {
        "id": "gaSucynCYcNZ"
      }
    },
    {
      "cell_type": "markdown",
      "source": [
        "(a)\n",
        "\n",
        "- Following Lotteries:\n",
        "\n",
        "<ul type='none'>\n",
        "  <li>Receive $\\$$80,000 with probability 0.10</li>\n",
        "  <li>Receive $\\$$20,000 with probability 0.30</li>\n",
        "  <li>Receive $\\$$5,000 with probabilities .60</li>\n",
        "</ul>\n",
        "\n",
        "- Utility function u(x) = x\n",
        "\n",
        "- Investor expects to maximize the expected utility\n",
        "\n",
        "* What is the riskless payoff that will make the investor indifferent between choosing the lottery and the riskless payoff?"
      ],
      "metadata": {
        "id": "VOsyXIZ8aVkS"
      }
    },
    {
      "cell_type": "markdown",
      "source": [
        "_Certainty equivalence (CE) is the smallest riskless payoff amount that makes an investor indifferent between taking a risky lottery or accepting this certain amount_\n",
        "\n",
        "u(ce) = E[u(x)]\n",
        "\n",
        "\n",
        "*To find certainty equivalent for an investor with a given utility function and a given lottery*:\n",
        "\n",
        "1. Find expected utility of investor from this lottery\n",
        "2. Find CE by inverting the utiltiy function $CE = u^{-1}*E[u(x)] $"
      ],
      "metadata": {
        "id": "vsbwu_rbenWf"
      }
    },
    {
      "cell_type": "code",
      "source": [
        "# Finding expected utility\n",
        "p1, p2, p3 = 10/100, 30/100, 60/100\n",
        "\n",
        "exp_util = p1*80000 + p2*20000 + p3*5000\n",
        "exp_util\n",
        "\n",
        "# Find Certainty equivalent\n",
        "print(f'the utility function of CE = expected utility function; U(CE) = E[U(X)] therefore, CE = {exp_util}')\n",
        "\n"
      ],
      "metadata": {
        "colab": {
          "base_uri": "https://localhost:8080/"
        },
        "id": "HJyOzkfZWK7A",
        "outputId": "d20d794c-c544-41aa-acda-481d53763abc"
      },
      "execution_count": null,
      "outputs": [
        {
          "output_type": "stream",
          "name": "stdout",
          "text": [
            "the utility function of CE = expected utility function; U(CE) = E[U(X)] therefore, CE = 17000.0\n"
          ]
        }
      ]
    },
    {
      "cell_type": "markdown",
      "source": [
        "(b)\n",
        "\n",
        "utility function $u(x) = x^\\frac{1}{2} $"
      ],
      "metadata": {
        "id": "OxHsMkkskLk1"
      }
    },
    {
      "cell_type": "code",
      "source": [
        "# findind the utility function\n",
        "exp_util_sqrtR = p1*math.sqrt(80000) + p2*math.sqrt(20000) + p3*math.sqrt(5000)\n",
        "\n",
        "# Finding CE\n",
        "# u(ce) = e[u(x)] -> ce = u^-1*e[u(x)] -> ce = e[u(x)]^2\n",
        "ce = math.pow(exp_util_sqrtR, 2)\n",
        "ce\n",
        "print(f'investor is indefferent between taking {ce} and playing this lottery')"
      ],
      "metadata": {
        "colab": {
          "base_uri": "https://localhost:8080/"
        },
        "id": "D2q8Q_ewhOEl",
        "outputId": "f3f2c06d-cdda-4eb1-94db-0d11a57d81c7"
      },
      "execution_count": null,
      "outputs": [
        {
          "output_type": "stream",
          "name": "stdout",
          "text": [
            "investor is indefferent between taking 12800.000000000002 and playing this lottery\n"
          ]
        }
      ]
    },
    {
      "cell_type": "markdown",
      "source": [
        "(c)\n",
        "\n",
        "$u(x) = x^\\frac{1}{3} $"
      ],
      "metadata": {
        "id": "6yhsi6zQn0Hb"
      }
    },
    {
      "cell_type": "code",
      "source": [
        "# Finding utility funciton\n",
        "exp_util_func = p1*math.pow(80000, 1/3) + p2*math.pow(20000,1/3) + p3*math.pow(5000, 1/3)\n",
        "\n",
        "# Finding CE\n",
        "# u(CE) = u^-1/3*e[u(x)] -> ce = e[u(x)]^3\n",
        "ce = exp_util_func**3\n",
        "ce\n",
        "print(f'The investor would be indifferent between taking {ce} or playing this lottery')"
      ],
      "metadata": {
        "colab": {
          "base_uri": "https://localhost:8080/"
        },
        "id": "4asLKxpKlQJq",
        "outputId": "776062c5-51eb-4eb3-83e7-726bc97cbcd0"
      },
      "execution_count": null,
      "outputs": [
        {
          "output_type": "stream",
          "name": "stdout",
          "text": [
            "The investor would be indifferent between taking 11715.609063638169 or playing this lottery\n"
          ]
        }
      ]
    },
    {
      "cell_type": "markdown",
      "source": [
        "3\n",
        "\n",
        "(a)\n",
        "\n",
        "Risk Premium\n",
        "\n",
        "- Two investors: A and B, have utility function $u(x) = x \\ \\ and \\ \\ u(x) = 1 - e^\\frac{-x}{3}$ respectively\n",
        "- Investment opportunity with the following property: with probability 0.5 returns 25% and with probability 0.5 returns -25%"
      ],
      "metadata": {
        "id": "leVt6ajcpwOb"
      }
    },
    {
      "cell_type": "markdown",
      "source": [
        "Coefficient of Relative Risk Aversion (RRA)\n",
        "\n",
        "$ RRA = -\\frac{W*u' ' *(W)}{u'(W)} $\n",
        "\n",
        "<mark> Solve this in paper and then using sympy (calculus)</mark>"
      ],
      "metadata": {
        "id": "a0dT_EbWrzuA"
      }
    },
    {
      "cell_type": "markdown",
      "source": [
        "(b)\n",
        "\n",
        "The risk premium π is the fraction of wealth that an investor is willing to lose that makes her indifferent between a risky zero expected return investment x and sure loss π\n",
        "\n",
        "$E[U*(W*(1 + X))] = U(W*(1 - π))  $\n",
        "\n",
        "Compute risk premium\n",
        "\n",
        "$ π = -\\frac{1}{2}\\frac{W*u''*(W)}{u'(W)}\\sigma^2_{x} $"
      ],
      "metadata": {
        "id": "hK1TiBJS3xjV"
      }
    },
    {
      "cell_type": "markdown",
      "source": [
        "6\n",
        "\n",
        "_Want to invest into iShares Global Clean Energy ETF (ticker symbol: ICLN)\n",
        "\n",
        "- Invest $20000\n",
        "\n",
        "- Borrow $45000"
      ],
      "metadata": {
        "id": "wJpSvzbuE3I4"
      }
    },
    {
      "cell_type": "markdown",
      "source": [
        "(a) What is the weight of ICLN?"
      ],
      "metadata": {
        "id": "qAbGNK9NFsc6"
      }
    },
    {
      "cell_type": "code",
      "source": [
        "# Find portfolio equity\n",
        "invest = 20000\n",
        "borrow = 45000\n",
        "port_equity = (invest + borrow)/invest\n",
        "print(f'The weight of this asset is {port_equity} or {port_equity*100}%')\n",
        "\n",
        "# Computing the weight of borrowed funds in this portfolio\n",
        "\n",
        "liability_weight = -borrow/invest\n",
        "print(f'The weight of the borrowed funds in this portfolio is {liability_weight} or {liability_weight*100}%')"
      ],
      "metadata": {
        "id": "RMkDBTRgolHO",
        "colab": {
          "base_uri": "https://localhost:8080/"
        },
        "outputId": "87318fde-094b-4cd6-b27b-8ee039bb7cce"
      },
      "execution_count": null,
      "outputs": [
        {
          "output_type": "stream",
          "name": "stdout",
          "text": [
            "The weight of this asset is 3.25 or 325.0%\n",
            "The weight of the borrowed funds in this portfolio is -2.25 or -225.0%\n"
          ]
        }
      ]
    },
    {
      "cell_type": "markdown",
      "source": [
        "(b) What is the leverage ratio of this portfolio?\n",
        "\n",
        "$leverage \\ \\ ratio = \\frac{asset \\ \\ value}{net \\ \\ investment}$"
      ],
      "metadata": {
        "id": "sTedtKeaG6_v"
      }
    },
    {
      "cell_type": "code",
      "source": [
        "# Find total asset value\n",
        "ass_value =  invest + borrow   # :)\n",
        "\n",
        "# Find leverage ratio\n",
        "lev_ratio = ass_value/invest\n",
        "f'Leverage ratio is {lev_ratio}'"
      ],
      "metadata": {
        "colab": {
          "base_uri": "https://localhost:8080/",
          "height": 35
        },
        "id": "bNygBoshGbp-",
        "outputId": "a54cdf7c-9925-4e82-ad7d-2530ddad16db"
      },
      "execution_count": null,
      "outputs": [
        {
          "output_type": "execute_result",
          "data": {
            "text/plain": [
              "'Leverage ratio is 3.25'"
            ],
            "application/vnd.google.colaboratory.intrinsic+json": {
              "type": "string"
            }
          },
          "metadata": {},
          "execution_count": 9
        }
      ]
    },
    {
      "cell_type": "markdown",
      "source": [
        "(c) What is the return of portfolio if value of ICLN increases by 25%?"
      ],
      "metadata": {
        "id": "b9pWIWA0KtNx"
      }
    },
    {
      "cell_type": "code",
      "source": [
        "# Compute asset value after the 25% growth\n",
        "g = 25/100\n",
        "t_ass_value = ass_value*(1 + g)\n",
        "\n",
        "# Find Net investment\n",
        "net_invest = t_ass_value - borrow\n",
        "\n",
        "# Find return\n",
        "return_investment = (net_invest - invest)/invest\n",
        "print(f'The return on this investment after the 25% growth of the stock is {return_investment*100}%')\n",
        "\n",
        "# Another method to find return is by using leverage investment return\n",
        "# Leverage Investment return = leverage ratio * assest return\n",
        "\n",
        "lev_invest_return = lev_ratio*(g)\n",
        "print(lev_invest_return*100)"
      ],
      "metadata": {
        "colab": {
          "base_uri": "https://localhost:8080/"
        },
        "id": "tZ4JHXxPLABB",
        "outputId": "9b7d7d9e-c210-4e9c-f165-4ce9f7a374cd"
      },
      "execution_count": null,
      "outputs": [
        {
          "output_type": "stream",
          "name": "stdout",
          "text": [
            "The return on this investment after the 25% growth of the stock is 81.25%\n",
            "81.25\n"
          ]
        }
      ]
    },
    {
      "cell_type": "markdown",
      "source": [
        "(d) What is the return of portfolio if value of ICLN declines by 25%?"
      ],
      "metadata": {
        "id": "6Q8Tp6uEH3UT"
      }
    },
    {
      "cell_type": "code",
      "source": [
        "# Find total asset value after the decline\n",
        "t_ass_value_d = ass_value*(1 - g)\n",
        "\n",
        "# Net Investment\n",
        "net_invest_d = t_ass_value_d - borrow\n",
        "\n",
        "\n",
        "# Find return\n",
        "return_investment_d = (net_invest_d - invest)/invest\n",
        "print(f'The return on this investment after the 25% decline of the stock is {return_investment_d*100}%')\n",
        "\n",
        "# Another method to find return is by using leverage investment return\n",
        "# Leverage Investment return = leverage ratio * assest return\n",
        "\n",
        "lev_invest_return = lev_ratio*(-g)\n",
        "print(lev_invest_return*100)"
      ],
      "metadata": {
        "colab": {
          "base_uri": "https://localhost:8080/"
        },
        "id": "LdSsobBGY1wS",
        "outputId": "d7f29c93-818a-46e0-fc4e-ef14e47900d8"
      },
      "execution_count": null,
      "outputs": [
        {
          "output_type": "stream",
          "name": "stdout",
          "text": [
            "The return on this investment after the 25% decline of the stock is -81.25%\n",
            "-81.25\n"
          ]
        }
      ]
    },
    {
      "cell_type": "code",
      "source": [],
      "metadata": {
        "id": "tSTu5CVeaR8H"
      },
      "execution_count": null,
      "outputs": []
    }
  ]
}