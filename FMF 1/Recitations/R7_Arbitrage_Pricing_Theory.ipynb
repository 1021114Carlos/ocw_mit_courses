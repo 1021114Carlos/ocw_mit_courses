{
  "nbformat": 4,
  "nbformat_minor": 0,
  "metadata": {
    "colab": {
      "private_outputs": true,
      "provenance": [],
      "authorship_tag": "ABX9TyNp+bjBvPPR621zXKwg6T3K",
      "include_colab_link": true
    },
    "kernelspec": {
      "name": "python3",
      "display_name": "Python 3"
    },
    "language_info": {
      "name": "python"
    }
  },
  "cells": [
    {
      "cell_type": "markdown",
      "metadata": {
        "id": "view-in-github",
        "colab_type": "text"
      },
      "source": [
        "<a href=\"https://colab.research.google.com/github/1021114Carlos/ocw_mit_courses/blob/manufacturing_shop/FMF%201/Recitations/R7_Arbitrage_Pricing_Theory.ipynb\" target=\"_parent\"><img src=\"https://colab.research.google.com/assets/colab-badge.svg\" alt=\"Open In Colab\"/></a>"
      ]
    },
    {
      "cell_type": "code",
      "source": [
        "import math\n",
        "import numpy as np"
      ],
      "metadata": {
        "id": "f27BAUiQ2k9p"
      },
      "execution_count": null,
      "outputs": []
    },
    {
      "cell_type": "markdown",
      "source": [
        "3\n",
        "\n",
        "Detecting arbitrage in factor models.\n",
        "\n",
        "- Consider a two-factor model\n",
        "\n",
        "$ r_i = E[r_i] + β_i, _1 *f_1 + β_i,_1 *f_1 + ϵ_1 $"
      ],
      "metadata": {
        "id": "NIS27s1nvE1t"
      }
    },
    {
      "cell_type": "markdown",
      "source": [
        "There are 3 wel-diversified portfolions with the following properties:\n",
        "\n",
        "    Portfolio | Expected Return | Loading on Factor 1 | Loading on Factor 1 |\n",
        "    A         |        8%       |      0.95           |        1.15         |\n",
        "    B         |        6%       |      0.85           |        0.70         |\n",
        "    C         |     10.5%       |      1.20           |        1.50         |"
      ],
      "metadata": {
        "id": "9LqhPh59vMkp"
      }
    },
    {
      "cell_type": "markdown",
      "source": [
        "(a)\n",
        "\n",
        "* Assume the risk-free rate is 1.5%\n",
        "* Construct arbitrage opportunity that generates $1000 today and zero payoff in the future\n"
      ],
      "metadata": {
        "id": "abVroBY6xiWp"
      }
    },
    {
      "cell_type": "code",
      "execution_count": null,
      "metadata": {
        "id": "GzSY8yWCn9OK"
      },
      "outputs": [],
      "source": [
        "a = np.array([[-1, -1, -1, -1], [1.08, 1.06, 1.105, 1.015], [0.95, 0.85, 1.20, 0], [1.15, 0.70, 1.50, 0]])\n",
        "b = np.array([1000, 0, 0, 0])\n",
        "x_inverse = np.linalg.solve(a, b)\n",
        "x_inverse"
      ]
    },
    {
      "cell_type": "markdown",
      "source": [
        "4\n",
        "\n",
        "Factor risk prices/premia\n",
        "\n",
        "- Consider a three factor model\n",
        "\n",
        "$ r_i = E[r_i] + β_i,_1 * f_1 + β_i,_2 *f_2 + β_i,_3 * f_3 + ϵ_i $\n",
        "\n",
        "- There are four well diversified portfolios\n",
        "\n",
        "      Portfolio |    μ    |    β 1  |  β 2    |  β 3   |\n",
        "      --------------------------------------------------\n",
        "          A     | 21.65%  |   0.95  |  1.20   |  0.85  |\n",
        "          B     | 19.23%  |   1.00  |  0.75   |  1.35  |\n",
        "          C     | 21.48%  |   1.10  |  1.05   |  0.95  |\n",
        "          D     | 23.15%  |   1.25  |  1.05   |  1.15  |\n"
      ],
      "metadata": {
        "id": "phC51VkfQPo-"
      }
    },
    {
      "cell_type": "markdown",
      "source": [
        "(a) Compute factor risk premia (Also known as factor risk prices) as well as the risk-free rate."
      ],
      "metadata": {
        "id": "zxRaaIfLSdj_"
      }
    },
    {
      "cell_type": "code",
      "source": [
        "a = np.array([[0.95, 1.20, 0.85, 1], [1.00, 0.75, 1.35, 1], [1.10, 1.05, 0.95, 1], [1.25, 1.05, 1.15, 1]])\n",
        "b = np.array([0.2165, 0.1923, 0.2148, 0.2315])\n",
        "c = np.linalg.solve(a, b)\n",
        "f'Risk premia for lambda a: {c[0]}; lambda b: {c[1]}; lambda c: {c[2]}; lambda d: {c[3]}'"
      ],
      "metadata": {
        "id": "Z4CgFwBbviCK"
      },
      "execution_count": null,
      "outputs": []
    },
    {
      "cell_type": "code",
      "source": [],
      "metadata": {
        "id": "H-dw2bkppKS9"
      },
      "execution_count": null,
      "outputs": []
    }
  ]
}