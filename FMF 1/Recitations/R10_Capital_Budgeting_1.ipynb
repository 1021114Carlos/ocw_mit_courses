{
  "nbformat": 4,
  "nbformat_minor": 0,
  "metadata": {
    "colab": {
      "private_outputs": true,
      "provenance": [],
      "authorship_tag": "ABX9TyNwR/K7tJbFXeal3ZAVsEfP",
      "include_colab_link": true
    },
    "kernelspec": {
      "name": "python3",
      "display_name": "Python 3"
    },
    "language_info": {
      "name": "python"
    }
  },
  "cells": [
    {
      "cell_type": "markdown",
      "metadata": {
        "id": "view-in-github",
        "colab_type": "text"
      },
      "source": [
        "<a href=\"https://colab.research.google.com/github/1021114Carlos/ocw_mit_courses/blob/manufacturing_shop/FMF%201/Recitations/R10_Capital_Budgeting_1.ipynb\" target=\"_parent\"><img src=\"https://colab.research.google.com/assets/colab-badge.svg\" alt=\"Open In Colab\"/></a>"
      ]
    },
    {
      "cell_type": "markdown",
      "source": [
        "1\n",
        "\n",
        "\n",
        "Year 1 - 10 After-tax CF:cf = (1 - t)*(operating profit) + t*(depreciation)\n",
        "\n",
        "Annuity formula:\n",
        "\n",
        "\n",
        "$ PV = A*\\frac{1}{r}*\\left(1 - \\frac{1}{(1 + r)^t}\\right)  $\n",
        "\n",
        "\n",
        "\n",
        "<mark> same problem solved in google spreadsheet </mark>\n",
        "\n",
        "\n",
        "\n",
        "\n"
      ],
      "metadata": {
        "id": "ocSCioyhJTmP"
      }
    },
    {
      "cell_type": "code",
      "execution_count": null,
      "metadata": {
        "id": "7e5NdmT_dpq4"
      },
      "outputs": [],
      "source": [
        "tax_rate = 21/100\n",
        "coc = 10/100     # cost of capital\n",
        "revenue = 270000\n",
        "expenses = 130000\n",
        "capital_investment = 650000\n",
        "years = 10\n",
        "\n",
        "depreciation = capital_investment/10\n",
        "operating_profit = revenue - expenses\n",
        "\n",
        "# Year 1 to 10 after-tax CF\n",
        "cf = (1 - tax_rate)*operating_profit + tax_rate*depreciation\n",
        "print(f'Cash flow is ${cf}\\n')\n",
        "\n",
        "# PV of the year 1 to 10\n",
        "\n",
        "pv = (cf/coc)*(1 - (1/(1 + coc)**years))\n",
        "print(f'Present value is ${pv}\\n')\n",
        "\n",
        "# Compute Net Present Value; NPV = PV - operating profit\n",
        "npv = pv - capital_investment\n",
        "print(f'The Net Present Value is ${npv}')"
      ]
    },
    {
      "cell_type": "code",
      "source": [],
      "metadata": {
        "id": "tfPlgNYHxy_I"
      },
      "execution_count": null,
      "outputs": []
    }
  ]
}