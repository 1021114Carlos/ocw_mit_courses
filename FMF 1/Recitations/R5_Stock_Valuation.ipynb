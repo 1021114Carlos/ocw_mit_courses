{
  "nbformat": 4,
  "nbformat_minor": 0,
  "metadata": {
    "colab": {
      "private_outputs": true,
      "provenance": [],
      "authorship_tag": "ABX9TyMjHMjMtOh/YFA9hsYhRbjr",
      "include_colab_link": true
    },
    "kernelspec": {
      "name": "python3",
      "display_name": "Python 3"
    },
    "language_info": {
      "name": "python"
    }
  },
  "cells": [
    {
      "cell_type": "markdown",
      "metadata": {
        "id": "view-in-github",
        "colab_type": "text"
      },
      "source": [
        "<a href=\"https://colab.research.google.com/github/1021114Carlos/ocw_mit_courses/blob/manufacturing_shop/FMF%201/Recitations/R5_Stock_Valuation.ipynb\" target=\"_parent\"><img src=\"https://colab.research.google.com/assets/colab-badge.svg\" alt=\"Open In Colab\"/></a>"
      ]
    },
    {
      "cell_type": "markdown",
      "source": [
        "1."
      ],
      "metadata": {
        "id": "dd_gHvPobkCS"
      }
    },
    {
      "cell_type": "markdown",
      "source": [
        "**Dividend discount model**"
      ],
      "metadata": {
        "id": "dgNqnvEphNki"
      }
    },
    {
      "cell_type": "markdown",
      "source": [
        "- Expected dividends per share next year $2.50. Same in year two.\n",
        "\n",
        "- Expected stock price in year two $35\n",
        "\n",
        "- Discount rate 10%\n",
        "\n",
        ">(a) Price of stock today?\n",
        "\n",
        ">(b) Price of stock in year 1?\n",
        "\n",
        ">(c) Given (b) what is price of stock today, if holding stock for one year. How this compare to (a)"
      ],
      "metadata": {
        "id": "SVfGjEvvhZ8B"
      }
    },
    {
      "cell_type": "markdown",
      "source": [
        "$P_0 = \\displaystyle\\sum_{i=1}^{T} \\frac{D_t}{(1 + r)^t} + \\frac{P_T}{(1 + r)^T}$"
      ],
      "metadata": {
        "id": "wsYUAbA6jTLn"
      }
    },
    {
      "cell_type": "markdown",
      "source": [
        "(a)"
      ],
      "metadata": {
        "id": "EKh5ncN_r0Rf"
      }
    },
    {
      "cell_type": "code",
      "source": [
        "div_1, div_2 = 2.50, 2.50\n",
        "sp_t2 = 35\n",
        "disc_rate = 10/100\n",
        "\n",
        "sp_t0 = div_1/(1 + disc_rate) + (div_2 + sp_t2)/(1 + disc_rate)**2\n",
        "f\"Expected stock price today is {sp_t0}\""
      ],
      "metadata": {
        "id": "r5PcFYLvhNMn"
      },
      "execution_count": null,
      "outputs": []
    },
    {
      "cell_type": "markdown",
      "source": [
        "(b)"
      ],
      "metadata": {
        "id": "S0AvSkQgryOx"
      }
    },
    {
      "cell_type": "code",
      "execution_count": null,
      "metadata": {
        "id": "vqpppfz2gzzC"
      },
      "outputs": [],
      "source": [
        "sp_t1 = sp_t0*(1 + disc_rate) - div_1\n",
        "f'Expected stock price for next year is {sp_t1}'"
      ]
    },
    {
      "cell_type": "markdown",
      "source": [
        "(c)"
      ],
      "metadata": {
        "id": "jF_-VZR3urwQ"
      }
    },
    {
      "cell_type": "code",
      "source": [
        "sp_t0_b = (div_1 + sp_t1)/(1 + disc_rate)\n",
        "f'Expected stock price today {sp_t0_b}, using forecasted stock price from year 1 '"
      ],
      "metadata": {
        "id": "m4MxtdfysCRG"
      },
      "execution_count": null,
      "outputs": []
    },
    {
      "cell_type": "markdown",
      "source": [
        "2."
      ],
      "metadata": {
        "id": "1SQugdwfbpyS"
      }
    },
    {
      "cell_type": "markdown",
      "source": [
        "**Constat growth dividend discount model (The Gordon Model)**\n",
        "\n",
        "> key assumptions:\n",
        "1. Costant discount rate r\n",
        "2. Divideds are expected to grow at a constant rate g < r in perpetuity:\n",
        "$D_{t+1} = (1 + g)*D_t$\n",
        "3. Then, using DCF formula:\n",
        "$P_0 = \\displaystyle \\sum_{t = 1}^{T} \\frac{D_t}{(1 + r)^t} = \\frac{D_1}{r - g}$"
      ],
      "metadata": {
        "id": "KEAv81bPV6YR"
      }
    },
    {
      "cell_type": "markdown",
      "source": [
        "- starts dividend program in year five. $1 dividend per share.\n",
        "\n",
        "- After year five, expected dividend growth is 3%\n",
        "\n",
        "- Discount rate is 12%\n",
        "\n",
        "> Current share price of company?"
      ],
      "metadata": {
        "id": "w--Rdr4oWUgI"
      }
    },
    {
      "cell_type": "code",
      "source": [
        "g = 3/100\n",
        "dr = 12/100\n",
        "div_5 = 1.00\n",
        "\n",
        "sp_4 = div_5/(dr - g)\n",
        "sp_4\n",
        "print(f'Price of the stock at year 4 ${sp_4}')\n",
        "\n",
        "sp_0 = sp_4/(1 + dr)**4\n",
        "print(f'Price of the stock today ${sp_0}')"
      ],
      "metadata": {
        "id": "RBoPYDefv636"
      },
      "execution_count": null,
      "outputs": []
    },
    {
      "cell_type": "markdown",
      "source": [
        "3."
      ],
      "metadata": {
        "id": "nkxM_F8XlLdb"
      }
    },
    {
      "cell_type": "markdown",
      "source": [
        "- Dividend paid today $1.50\n",
        "- Expected dividend increase in year 1 and 2 is 10%\n",
        "- Expected dividend increase after year 3 onward is 3%\n",
        "- Discount rate 8%\n",
        "\n",
        "> Share price today?\n",
        "\n",
        "> Expected share price in year 1?"
      ],
      "metadata": {
        "id": "gyg2_2HtmJCO"
      }
    },
    {
      "cell_type": "code",
      "source": [
        "div0 = 1.50\n",
        "g1, g2, g3 = 10/100, 10/100, 3/100\n",
        "dr = 8/100\n",
        "\n",
        "# dividend increase in year 1 and 2\n",
        "\n",
        "div2 = div0*(1 + g2)**2\n",
        "\n",
        "sp2 = div2*(1 + g3)/(dr - g3)\n",
        "print(f'Stock price in year 2: ${sp2}')\n",
        "\n",
        "div1 = div0*(1 + g1)\n",
        "\n",
        "sp0 = div1/(1 + dr) + (div2 + sp2)/(1 + dr)**2\n",
        "print(f\"Current stock price is: ${sp0}\")\n",
        "\n",
        "sp1 = (div2 + sp2)/(1 + dr)\n",
        "print(f\"Expected stock price in year 1: {sp1}\")\n",
        "\n"
      ],
      "metadata": {
        "id": "S9gcsZkecXA-"
      },
      "execution_count": null,
      "outputs": []
    },
    {
      "cell_type": "markdown",
      "source": [
        "_An alternative way to solve part b_"
      ],
      "metadata": {
        "id": "u9knqcQU8wBh"
      }
    },
    {
      "cell_type": "markdown",
      "source": [
        "$P_0 = \\frac{D_1 + P_1}{1 + r}$"
      ],
      "metadata": {
        "id": "FKg6lNEq87I6"
      }
    },
    {
      "cell_type": "code",
      "source": [
        "sp1 = sp0*(1 + dr) - div1\n",
        "f\"Expected stock price in year 1: ${sp1}\""
      ],
      "metadata": {
        "id": "2eLwNOhKnxvq"
      },
      "execution_count": null,
      "outputs": []
    },
    {
      "cell_type": "markdown",
      "source": [
        "*Investment and growth*\n"
      ],
      "metadata": {
        "id": "HH1dDpAzkk0C"
      }
    },
    {
      "cell_type": "markdown",
      "source": [
        "                    | Year 0  | Year 1 | Year 2 | Year 3 | Year 4 | Year 5 |\n",
        "    ________________________________________________________________________\n",
        "    BVPS            | $100    |        |        |        |        |        |\n",
        "    EPS             |         | $20    |        |        |        |        |\n",
        "    Plow-back ratio |         | 80%    | 50%    |  50%   |   0%   |    0%  |\n",
        "    ROI             |         | 20%    | 15%    |  10%   |   10%  |    10% |\n"
      ],
      "metadata": {
        "id": "d2GMUg0n9qqQ"
      }
    },
    {
      "cell_type": "markdown",
      "source": [
        "will it save.\n"
      ],
      "metadata": {
        "id": "YZvUbZ712gqg"
      }
    },
    {
      "cell_type": "markdown",
      "source": [],
      "metadata": {
        "id": "Hgl4OPx_E8Xe"
      }
    },
    {
      "cell_type": "markdown",
      "source": [
        "are you noticing?"
      ],
      "metadata": {
        "id": "EgcNNeZGFegX"
      }
    },
    {
      "cell_type": "code",
      "source": [],
      "metadata": {
        "id": "3M8TzUmp99ln"
      },
      "execution_count": null,
      "outputs": []
    },
    {
      "cell_type": "markdown",
      "source": [],
      "metadata": {
        "id": "b4yw-yOd0i_N"
      }
    },
    {
      "cell_type": "code",
      "source": [],
      "metadata": {
        "id": "6DSxWUPN0iiB"
      },
      "execution_count": null,
      "outputs": []
    }
  ]
}