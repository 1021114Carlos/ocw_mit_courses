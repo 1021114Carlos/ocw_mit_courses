{
  "nbformat": 4,
  "nbformat_minor": 0,
  "metadata": {
    "colab": {
      "private_outputs": true,
      "provenance": [],
      "authorship_tag": "ABX9TyMPVAWTM4SnHJSkjm7Thh//",
      "include_colab_link": true
    },
    "kernelspec": {
      "name": "python3",
      "display_name": "Python 3"
    },
    "language_info": {
      "name": "python"
    }
  },
  "cells": [
    {
      "cell_type": "markdown",
      "metadata": {
        "id": "view-in-github",
        "colab_type": "text"
      },
      "source": [
        "<a href=\"https://colab.research.google.com/github/1021114Carlos/ocw_mit_courses/blob/manufacturing_shop/FMF%201/Recitations/R5_Stock_Valuation.ipynb\" target=\"_parent\"><img src=\"https://colab.research.google.com/assets/colab-badge.svg\" alt=\"Open In Colab\"/></a>"
      ]
    },
    {
      "cell_type": "markdown",
      "source": [
        "**Dividend discount model**"
      ],
      "metadata": {
        "id": "dgNqnvEphNki"
      }
    },
    {
      "cell_type": "markdown",
      "source": [
        "- Expected dividends per share next year $2.50. Same in year two.\n",
        "\n",
        "- Expected stock price in year two $35\n",
        "\n",
        "- Discount rate 10%\n",
        "\n",
        "(a) Price of stock today\n",
        "\n",
        "(b) Price of stock in year 1\n",
        "\n",
        "(c) Given (b) what is price of stock today, if holding stock for one year. How this compare to (a)"
      ],
      "metadata": {
        "id": "SVfGjEvvhZ8B"
      }
    },
    {
      "cell_type": "markdown",
      "source": [
        "$P_0 = \\displaystyle\\sum_{i=1}^{T} \\frac{D_t}{(1 + r)^t} + \\frac{P_T}{(1 + r)^T}$"
      ],
      "metadata": {
        "id": "wsYUAbA6jTLn"
      }
    },
    {
      "cell_type": "markdown",
      "source": [
        "(a)"
      ],
      "metadata": {
        "id": "EKh5ncN_r0Rf"
      }
    },
    {
      "cell_type": "code",
      "source": [
        "div_1, div_2 = 2.50, 2.50\n",
        "sp_t2 = 35\n",
        "disc_rate = 10/100\n",
        "\n",
        "sp_t0 = div_1/(1 + disc_rate) + (div_2 + sp_t2)/(1 + disc_rate)**2\n",
        "f\"Expected stock price today is {sp_t0}\""
      ],
      "metadata": {
        "id": "r5PcFYLvhNMn"
      },
      "execution_count": null,
      "outputs": []
    },
    {
      "cell_type": "markdown",
      "source": [
        "(b)"
      ],
      "metadata": {
        "id": "S0AvSkQgryOx"
      }
    },
    {
      "cell_type": "code",
      "execution_count": null,
      "metadata": {
        "id": "vqpppfz2gzzC"
      },
      "outputs": [],
      "source": [
        "sp_t1 = sp_t0*(1 + disc_rate) - div_1\n",
        "f'Expected stock price for next year is {sp_t1}'"
      ]
    },
    {
      "cell_type": "markdown",
      "source": [
        "(c)"
      ],
      "metadata": {
        "id": "jF_-VZR3urwQ"
      }
    },
    {
      "cell_type": "code",
      "source": [
        "sp_t0_b = (div_1 + sp_t1)/(1 + disc_rate)\n",
        "f'Expected stock price today {sp_t0_b}, using forecasted stock price from year 1 '"
      ],
      "metadata": {
        "id": "m4MxtdfysCRG"
      },
      "execution_count": null,
      "outputs": []
    },
    {
      "cell_type": "code",
      "source": [],
      "metadata": {
        "id": "RBoPYDefv636"
      },
      "execution_count": null,
      "outputs": []
    }
  ]
}