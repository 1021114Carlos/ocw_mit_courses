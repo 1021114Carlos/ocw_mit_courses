{
  "nbformat": 4,
  "nbformat_minor": 0,
  "metadata": {
    "colab": {
      "private_outputs": true,
      "provenance": [],
      "authorship_tag": "ABX9TyOx6xn484hmJaW67iuguY/E",
      "include_colab_link": true
    },
    "kernelspec": {
      "name": "python3",
      "display_name": "Python 3"
    },
    "language_info": {
      "name": "python"
    }
  },
  "cells": [
    {
      "cell_type": "markdown",
      "metadata": {
        "id": "view-in-github",
        "colab_type": "text"
      },
      "source": [
        "<a href=\"https://colab.research.google.com/github/1021114Carlos/ocw_mit_courses/blob/manufacturing_shop/FMF%201/Recitations/R5_Stock_Valuation.ipynb\" target=\"_parent\"><img src=\"https://colab.research.google.com/assets/colab-badge.svg\" alt=\"Open In Colab\"/></a>"
      ]
    },
    {
      "cell_type": "markdown",
      "source": [
        "**Dividend discount model**"
      ],
      "metadata": {
        "id": "dgNqnvEphNki"
      }
    },
    {
      "cell_type": "markdown",
      "source": [
        "- Expected dividends per share next year $2.50. Same in year two.\n",
        "\n",
        "- Expected stock price in year two $35\n",
        "\n",
        "- Discount rate 10%\n",
        "\n",
        "(a) Price of stock today\n",
        "\n",
        "(b) Price of stock in year 1\n",
        "\n",
        "(c) Given (b) what is price of stock today, if holding stock for one year. How this compare to (a)"
      ],
      "metadata": {
        "id": "SVfGjEvvhZ8B"
      }
    },
    {
      "cell_type": "markdown",
      "source": [
        "$P_0 = \\displaystyle\\sum_{i=1}^{T} \\frac{D_t}{(1 + r)^t} + \\frac{P_T}{(1 + r)^T}$"
      ],
      "metadata": {
        "id": "wsYUAbA6jTLn"
      }
    },
    {
      "cell_type": "code",
      "source": [
        "div_1, div_2 = 2.50, 2.50\n",
        "sp_t2 = 35\n",
        "disc_rate = 10/100\n",
        "\n",
        "sp_t0 = div_1/(1 + disc_rate) + div_2 + sp_t2/(1 + disc_rate)**2\n",
        "sp_t0"
      ],
      "metadata": {
        "id": "r5PcFYLvhNMn"
      },
      "execution_count": null,
      "outputs": []
    },
    {
      "cell_type": "code",
      "execution_count": null,
      "metadata": {
        "id": "vqpppfz2gzzC"
      },
      "outputs": [],
      "source": []
    }
  ]
}