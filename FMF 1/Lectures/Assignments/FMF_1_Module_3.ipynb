{
  "nbformat": 4,
  "nbformat_minor": 0,
  "metadata": {
    "colab": {
      "private_outputs": true,
      "provenance": [],
      "authorship_tag": "ABX9TyO9UdSGarS6T8b2NZEFqnwf",
      "include_colab_link": true
    },
    "kernelspec": {
      "name": "python3",
      "display_name": "Python 3"
    },
    "language_info": {
      "name": "python"
    }
  },
  "cells": [
    {
      "cell_type": "markdown",
      "metadata": {
        "id": "view-in-github",
        "colab_type": "text"
      },
      "source": [
        "<a href=\"https://colab.research.google.com/github/1021114Carlos/ocw_mit_courses/blob/manufacturing_shop/FMF%201/Lectures/Assignments/FMF_1_Module_3.ipynb\" target=\"_parent\"><img src=\"https://colab.research.google.com/assets/colab-badge.svg\" alt=\"Open In Colab\"/></a>"
      ]
    },
    {
      "cell_type": "markdown",
      "source": [
        "## Exercises from lecture"
      ],
      "metadata": {
        "id": "Ej9HXmWUKmYW"
      }
    },
    {
      "cell_type": "markdown",
      "source": [
        "- $PV(Annuity) = A(\\frac{1}{r})[1 - \\frac{1}{(1 + r)^t}]$\n",
        "\n",
        "- $FV(Annuity) = (1 + r)^t *PV(Annuity)$"
      ],
      "metadata": {
        "id": "4sU7S0dSL0hO"
      }
    },
    {
      "cell_type": "markdown",
      "source": [
        "- PV(Annuity with growth rate) = $A*[\\frac{1}{1 + r} + \\frac{1 + g}{(1 + r)^2}$\n",
        "$+ ... + \\frac{(1 + g)^{t-1}}{(1 + r)^t}]$\n",
        "\n",
        "  = $A*\\left\\{ \\begin{array}{crl}{\\frac{1}{r - g}[1 - (\\frac{1 + g}{1 + r})^t]} & if & r \\neq g\n",
        "\\\\ \\frac{t}{1 + r} & if & r = g\\end{array} \\right.$\n"
      ],
      "metadata": {
        "id": "A6uYkRb7YutJ"
      }
    },
    {
      "cell_type": "markdown",
      "source": [
        "_Perpetuity: an annuity with infinite maturity_\n",
        "\n",
        "* $PV(perpetuity) = \\frac{A}{r}$\n",
        "\n",
        "_Perpetuity with constant grow g_\n",
        "\n",
        "* $PV(perpetuity \\ with \\ growth) = \\frac{A}{r - g}  \\ if \\ r > g$"
      ],
      "metadata": {
        "id": "quv4RvcIx__j"
      }
    },
    {
      "cell_type": "markdown",
      "source": [
        "_Compounding_\n",
        "\n",
        "**APR**\n",
        "\n",
        "* $(1 + \\frac{r_{apr}}{k})^k$\n",
        "\n",
        "**EAR**\n",
        "\n",
        "- $(1 + r_{ear}) = APR ↔ r_{ear} = APR - 1$"
      ],
      "metadata": {
        "id": "siGHrBA11i7f"
      }
    },
    {
      "cell_type": "code",
      "execution_count": null,
      "metadata": {
        "id": "3kLQuEtdKfAW"
      },
      "outputs": [],
      "source": [
        "# Insurance company sells an annuity for $10k per year for 20 years\n",
        "# Suppose r = 5%\n",
        "# What should the company sell it for?"
      ]
    },
    {
      "cell_type": "markdown",
      "source": [
        "1."
      ],
      "metadata": {
        "id": "xaOnQZgvYHUj"
      }
    },
    {
      "cell_type": "code",
      "source": [
        "annuity_per_year = 10000\n",
        "time = 20\n",
        "rate = 5/100"
      ],
      "metadata": {
        "id": "kpkVKjpQXLnA"
      },
      "execution_count": null,
      "outputs": []
    },
    {
      "cell_type": "code",
      "source": [
        "pv = annuity_per_year*(1/rate)*(1 - (1/(1 + rate)**20))\n",
        "pv"
      ],
      "metadata": {
        "id": "C2TU69ebXcp3"
      },
      "execution_count": null,
      "outputs": []
    },
    {
      "cell_type": "markdown",
      "source": [
        "2."
      ],
      "metadata": {
        "id": "A4ajIoKqYKkY"
      }
    },
    {
      "cell_type": "code",
      "source": [
        "# Saving for retirement\n",
        "\n",
        "# 30 year-old needs 2M by age 65 to retire.\n",
        "# Each year save an amount that grows 5% each year.\n",
        "# Rate is 8%\n",
        "# How much to start saving now?"
      ],
      "metadata": {
        "id": "gK0HRpWnXv1_"
      },
      "execution_count": null,
      "outputs": []
    },
    {
      "cell_type": "code",
      "source": [
        "rate = 0.08\n",
        "growth = 0.05\n",
        "time = 35\n",
        "amount = 2000000"
      ],
      "metadata": {
        "id": "2rNON-6oYn6f"
      },
      "execution_count": null,
      "outputs": []
    },
    {
      "cell_type": "code",
      "source": [
        "save = (amount*(rate - growth)*((1 + rate)/(1 + growth))**(1/time)) - 1\n",
        "save"
      ],
      "metadata": {
        "id": "ZRCYgMmO_bLd"
      },
      "execution_count": null,
      "outputs": []
    },
    {
      "cell_type": "markdown",
      "source": [
        "3."
      ],
      "metadata": {
        "id": "7KqexMu9G1Dt"
      }
    },
    {
      "cell_type": "code",
      "source": [
        "# Receive payments of $100000 per month for 20 years.\n",
        "# Rate = 10%\n",
        "# Will this payments accumulate to over a million after 20 years\n",
        "\n",
        "# PV(annuity) = A(1/r)(1 - (1/(1 + r)^t))"
      ],
      "metadata": {
        "id": "qem_5CCQCg6n"
      },
      "execution_count": null,
      "outputs": []
    },
    {
      "cell_type": "code",
      "source": [
        "time = 20\n",
        "rate = 10/100\n",
        "payment = 100000"
      ],
      "metadata": {
        "id": "d3GN4ltnCg1D"
      },
      "execution_count": null,
      "outputs": []
    },
    {
      "cell_type": "code",
      "source": [
        "pv = payment*(1/rate)*(1 - (1/(1 + rate)**time))\n",
        "pv"
      ],
      "metadata": {
        "id": "-j-Z_kWiIMIF"
      },
      "execution_count": null,
      "outputs": []
    },
    {
      "cell_type": "markdown",
      "source": [
        "#Assignment"
      ],
      "metadata": {
        "id": "2n4l1T06k-AV"
      }
    },
    {
      "cell_type": "markdown",
      "source": [
        "1."
      ],
      "metadata": {
        "id": "9zyQ_dhqlCcg"
      }
    },
    {
      "cell_type": "code",
      "source": [
        "time = 5\n",
        "ir = 0.08\n",
        "amount = 6000"
      ],
      "metadata": {
        "id": "dEPVeZtcD9Aw"
      },
      "execution_count": null,
      "outputs": []
    },
    {
      "cell_type": "code",
      "source": [
        "# First, find payment PV_8\n",
        "\n",
        "pv_8 = (amount*(1/ir))*(1 - (1/(1 + ir)**time))\n",
        "pv_8"
      ],
      "metadata": {
        "id": "Ooh_WlU7Cggr"
      },
      "execution_count": null,
      "outputs": []
    },
    {
      "cell_type": "code",
      "source": [
        "# Discount it to present\n",
        "# time 3\n",
        "pv_0 = ((pv_8)/(1 + ir)**3)\n",
        "pv_0"
      ],
      "metadata": {
        "id": "U_6nMqT19lXV"
      },
      "execution_count": null,
      "outputs": []
    },
    {
      "cell_type": "markdown",
      "source": [
        "2. Perpetuity"
      ],
      "metadata": {
        "id": "XjqJYgs197ib"
      }
    },
    {
      "cell_type": "code",
      "source": [
        "# Find PV of this perpetuity\n",
        "amount = 350000\n",
        "air = 7/100\n",
        "t = 0"
      ],
      "metadata": {
        "id": "52QvPZkKU7Eq"
      },
      "execution_count": null,
      "outputs": []
    },
    {
      "cell_type": "code",
      "source": [
        "perpetuity_pv = amount + (amount/air)\n",
        "perpetuity_pv"
      ],
      "metadata": {
        "id": "f2R42p2e-fdl"
      },
      "execution_count": null,
      "outputs": []
    },
    {
      "cell_type": "markdown",
      "source": [
        "3 A. Annuity formula"
      ],
      "metadata": {
        "id": "IW8xKWz9Lr15"
      }
    },
    {
      "cell_type": "code",
      "source": [
        "salary = 60000\n",
        "t = 60 - 29\n",
        "school = 2\n",
        "tuition = 70000\n",
        "dr = 9/100\n",
        "rfdr = 4/100 # same as growth rate"
      ],
      "metadata": {
        "id": "HqyAU-zS-uPy"
      },
      "execution_count": null,
      "outputs": []
    },
    {
      "cell_type": "code",
      "source": [
        "# Not going to school\n",
        "no_school_pv =  (salary/dr)*(1 - (1/(1 + dr)**t))\n",
        "no_school_pv"
      ],
      "metadata": {
        "id": "nR3fRyVkimsH"
      },
      "execution_count": null,
      "outputs": []
    },
    {
      "cell_type": "markdown",
      "source": [
        "B."
      ],
      "metadata": {
        "id": "zJwq-I4ATftJ"
      }
    },
    {
      "cell_type": "code",
      "source": [
        "# PV of school\n",
        "mba_pv = (tuition/rfdr)*(1 - (1/(1 + rfdr)**t))\n",
        "mba_pv"
      ],
      "metadata": {
        "id": "Zds0gw8LHtuq"
      },
      "execution_count": null,
      "outputs": []
    },
    {
      "cell_type": "code",
      "source": [
        "# Part B.\n",
        "# PV of school tuition cost\n",
        "tuition = 70000\n",
        "risk_free_rate = 0.04\n",
        "pv_school = (tuition/(1 + risk_free_rate)) + (tuition/(1 + risk_free_rate)**2)\n",
        "pv_school"
      ],
      "metadata": {
        "id": "2I0d8CyBk0nX"
      },
      "execution_count": null,
      "outputs": []
    },
    {
      "cell_type": "markdown",
      "source": [
        "3."
      ],
      "metadata": {
        "id": "g9XR449xN7tr"
      }
    },
    {
      "cell_type": "code",
      "source": [
        "# Minimum expected starting salary.\n",
        "\n"
      ],
      "metadata": {
        "id": "nJa7ibgbrGgr"
      },
      "execution_count": null,
      "outputs": []
    },
    {
      "cell_type": "code",
      "source": [],
      "metadata": {
        "id": "dG8dYpnh57KZ"
      },
      "execution_count": null,
      "outputs": []
    },
    {
      "cell_type": "code",
      "source": [
        "a = 620568.112460\n",
        "b = 132026.627219\n",
        "c = (a + b)*(0.09 - 0.05)\n",
        "c"
      ],
      "metadata": {
        "id": "Y8XIWmL09RET"
      },
      "execution_count": null,
      "outputs": []
    },
    {
      "cell_type": "code",
      "source": [
        "k = 122596.15\n",
        "y = 620568.11\n",
        "z = k + y\n",
        "z"
      ],
      "metadata": {
        "id": "k24WIZHv55k8"
      },
      "execution_count": null,
      "outputs": []
    },
    {
      "cell_type": "code",
      "source": [],
      "metadata": {
        "id": "ZPPPf6Ss9_K5"
      },
      "execution_count": null,
      "outputs": []
    },
    {
      "cell_type": "markdown",
      "source": [
        "4. a"
      ],
      "metadata": {
        "id": "Ig5M3_qNXMbD"
      }
    },
    {
      "cell_type": "code",
      "source": [
        "# Growing perpetuity\n",
        "# Now is year 0\n",
        "# First payment is one year from now\n",
        "# Annual interest rate is 17%\n",
        "# First payment will be $250\n",
        "# future payments will be 8% larger than previous payment. (Growth rate)"
      ],
      "metadata": {
        "id": "QWRYU3lSSu1v"
      },
      "execution_count": null,
      "outputs": []
    },
    {
      "cell_type": "code",
      "source": [
        "# PV of pension benefit?\n",
        "\n",
        "first_payment = 250\n",
        "perpetuity = 250/(0.17 - 0.08)\n",
        "print(perpetuity)"
      ],
      "metadata": {
        "id": "9N8d2DzVX0wC"
      },
      "execution_count": null,
      "outputs": []
    },
    {
      "cell_type": "markdown",
      "source": [
        "4.b"
      ],
      "metadata": {
        "id": "nzXzGx1wZc8x"
      }
    },
    {
      "cell_type": "code",
      "source": [
        "# Value of pension benefit in year one after first payment made?\n",
        "\n",
        "subsequent = 250*(1 + 0.08)\n",
        "pv_2 = subsequent/(0.17 - 0.08)\n",
        "pv_2"
      ],
      "metadata": {
        "id": "92U5of-eYVpa"
      },
      "execution_count": null,
      "outputs": []
    },
    {
      "cell_type": "markdown",
      "source": [
        "5.a"
      ],
      "metadata": {
        "id": "odOTh1QJarmQ"
      }
    },
    {
      "cell_type": "code",
      "source": [
        "# APR 9%\n",
        "# EAR?\n",
        "# Compound annually."
      ],
      "metadata": {
        "id": "XeDvBh-6aXuN"
      },
      "execution_count": null,
      "outputs": []
    },
    {
      "cell_type": "code",
      "source": [
        "effective_annual_rate = ((1 + 0.09) - 1)\n",
        "effective_annual_rate"
      ],
      "metadata": {
        "id": "KW1OMFO5bDKI"
      },
      "execution_count": null,
      "outputs": []
    },
    {
      "cell_type": "code",
      "source": [
        "# quarterly\n",
        "\n",
        "ear = ((1 + (0.09/4))**4 - 1)\n",
        "ear"
      ],
      "metadata": {
        "id": "kjkrLZi7biDH"
      },
      "execution_count": null,
      "outputs": []
    },
    {
      "cell_type": "code",
      "source": [
        "# Daily\n",
        "\n",
        "ear = (1 + (0.09/365))**365 - 1\n",
        "ear"
      ],
      "metadata": {
        "id": "_ZxEgbnbdfgJ"
      },
      "execution_count": null,
      "outputs": []
    },
    {
      "cell_type": "markdown",
      "source": [
        "6.a"
      ],
      "metadata": {
        "id": "EJV2fn2WPjC6"
      }
    },
    {
      "cell_type": "code",
      "source": [
        "# Find APR\n",
        "# apr_monthly = k((1 + ear)^1/k) - 1\n",
        "\n",
        "apr = ((1 + 0.02)**(1/12)) - 1\n",
        "apr"
      ],
      "metadata": {
        "id": "LZJw0KNdegrP"
      },
      "execution_count": null,
      "outputs": []
    },
    {
      "cell_type": "code",
      "source": [
        "payment = 916.67\n",
        "monthly_payments = (payment/apr)*(1 - (1/(1 + apr)**48))\n",
        "monthly_payments"
      ],
      "metadata": {
        "id": "EvWvTIeQWWWU"
      },
      "execution_count": null,
      "outputs": []
    },
    {
      "cell_type": "code",
      "source": [
        "# With unpaid balance and ear 18%\n",
        "\n",
        "new_apr = ((1 + 0.18)**(1/12)) - 1\n",
        "new_apr"
      ],
      "metadata": {
        "id": "HIWPWJn5YMY-"
      },
      "execution_count": null,
      "outputs": []
    },
    {
      "cell_type": "code",
      "source": [
        "pay = (payment/new_apr)*(1 - (1/(1 + new_apr)**48))\n",
        "pay"
      ],
      "metadata": {
        "id": "79iYnuoqY0yA"
      },
      "execution_count": null,
      "outputs": []
    },
    {
      "cell_type": "code",
      "source": [
        "a  = (((1 + .25)**(1/365)) - 1)\n",
        "a"
      ],
      "metadata": {
        "id": "GN7s4JQJcyA1"
      },
      "execution_count": null,
      "outputs": []
    },
    {
      "cell_type": "markdown",
      "source": [
        "7.a"
      ],
      "metadata": {
        "id": "eG9K693AvkMr"
      }
    },
    {
      "cell_type": "code",
      "source": [
        "# Using annuity with growth\n",
        "\n",
        "net_worth = 1500000\n",
        "future_cost_of_living = 100000\n",
        "nominal_return = 0.06\n",
        "inflation = 0.03"
      ],
      "metadata": {
        "id": "Aq_Acv9gtcgd"
      },
      "execution_count": null,
      "outputs": []
    },
    {
      "cell_type": "code",
      "source": [
        "pv_annuity_growth = ((future_cost_of_living*(1 + inflation))/(nominal_return - inflation))*(1 - ((1 + inflation)/(1 + nominal_return))**40)\n",
        "pv_annuity_growth"
      ],
      "metadata": {
        "id": "AvqHF30FwIKf"
      },
      "execution_count": null,
      "outputs": []
    },
    {
      "cell_type": "code",
      "source": [],
      "metadata": {
        "id": "w2e31uF9zjjZ"
      },
      "execution_count": null,
      "outputs": []
    }
  ]
}