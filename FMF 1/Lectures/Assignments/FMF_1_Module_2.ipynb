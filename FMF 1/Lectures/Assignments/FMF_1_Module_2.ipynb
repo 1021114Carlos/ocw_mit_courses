{
  "nbformat": 4,
  "nbformat_minor": 0,
  "metadata": {
    "colab": {
      "private_outputs": true,
      "provenance": [],
      "authorship_tag": "ABX9TyPtm5ADBsUI0Ye4ujZYORxv",
      "include_colab_link": true
    },
    "kernelspec": {
      "name": "python3",
      "display_name": "Python 3"
    },
    "language_info": {
      "name": "python"
    }
  },
  "cells": [
    {
      "cell_type": "markdown",
      "metadata": {
        "id": "view-in-github",
        "colab_type": "text"
      },
      "source": [
        "<a href=\"https://colab.research.google.com/github/1021114Carlos/ocw_mit_courses/blob/manufacturing_shop/FMF%201/Lectures/Assignments/FMF_1_Module_2.ipynb\" target=\"_parent\"><img src=\"https://colab.research.google.com/assets/colab-badge.svg\" alt=\"Open In Colab\"/></a>"
      ]
    },
    {
      "cell_type": "code",
      "source": [
        "import numpy as np\n",
        "import matplotlib.pyplot as plt"
      ],
      "metadata": {
        "id": "bic31HNwwi7w"
      },
      "execution_count": null,
      "outputs": []
    },
    {
      "cell_type": "markdown",
      "source": [
        "1. A: What is the return on the bond"
      ],
      "metadata": {
        "id": "gPDIcQOwYPki"
      }
    },
    {
      "cell_type": "markdown",
      "source": [
        "- bond price = $X_1Φ_1 + X_2Φ_2 + X_3Φ_3$\n",
        "\n",
        "- $E[B] = P_1X_1 + p_2X_2 + P_3X_3$\n",
        "\n",
        "\n",
        "- $r = \\frac{E[B] - P_b}{P_b}$\n",
        "\n"
      ],
      "metadata": {
        "id": "cYBlbuPUZP5N"
      }
    },
    {
      "cell_type": "code",
      "execution_count": null,
      "metadata": {
        "id": "6J30AKXYXWDN"
      },
      "outputs": [],
      "source": [
        "# Part c is solved here.\n",
        "\n",
        "probabilities = np.array([0.30, 0.55, 0.15])\n",
        "state_prices = np.array([0.40, 0.20, 0.10])\n",
        "payoff_B = np.array([100, 100, 100])\n",
        "payoff_S = np.array([85, 105, 125])\n",
        "\n",
        "bp = 0.40*100 + 0.20*100 + 0.10*100\n",
        "e_b_p = 0.30*100 + 0.55*100 + 0.15*100\n",
        "a_r = (e_b_p/bp) - 1\n",
        "print(f\"bond price is: ${bp} and expected bond return ${e_b_p} The return is {a_r}%\\n\\n\")\n",
        "\n",
        "bond_price = np.dot(payoff_B, state_prices)\n",
        "expected_bond_return = np.dot(payoff_B, probabilities)\n",
        "actual_return = (expected_bond_return/bond_price) - 1\n",
        "print(f\"Using numpy for matrix multiplication:\\nbond price is: ${bond_price:.4f} and expected bond return ${expected_bond_return:.4f}\\nThe return is {actual_return:.4f}%\")\n"
      ]
    },
    {
      "cell_type": "markdown",
      "source": [
        "B. What is the stock price today"
      ],
      "metadata": {
        "id": "c6rtiqg32ljZ"
      }
    },
    {
      "cell_type": "code",
      "source": [
        "s_p = 85*0.40  + 105*0.20  + 125*0.10\n",
        "print(\"Stock price\", s_p, \"\\n\")\n",
        "\n",
        "stock_price = np.dot(payoff_S, state_prices)\n",
        "print(f\"stock price is ${stock_price:.6f}\")"
      ],
      "metadata": {
        "id": "Y699NFRfw_MQ"
      },
      "execution_count": null,
      "outputs": []
    },
    {
      "cell_type": "markdown",
      "source": [
        "D. Expected return on stock"
      ],
      "metadata": {
        "id": "k8WVV6Gp4tP0"
      }
    },
    {
      "cell_type": "code",
      "source": [
        "e_r_s = 85*0.30  + 105*0.55  + 125*0.15\n",
        "a_s_r = (e_r_s/stock_price) - 1\n",
        "print(\"expected return on the stock is $\", a_s_r,\"%\\n\")\n",
        "\n",
        "expected_stock_return = np.dot(payoff_S, probabilities)\n",
        "actual_stock_return = (expected_stock_return/stock_price) - 1\n",
        "print(f\"Expected return on the stock is {actual_stock_return:.4f}%\")"
      ],
      "metadata": {
        "id": "I94VqF4F3SWb"
      },
      "execution_count": null,
      "outputs": []
    },
    {
      "cell_type": "markdown",
      "source": [
        "2.A Find state prices"
      ],
      "metadata": {
        "id": "0iqQLAnG7r3R"
      }
    },
    {
      "cell_type": "markdown",
      "source": [
        "$P = Φ_1x_1 + Φ_2x_2$"
      ],
      "metadata": {
        "id": "Wdm7bxcI74Kk"
      }
    },
    {
      "cell_type": "code",
      "source": [
        "# Asset A = 1.40    States 1 and 2 payoff = 1.70, 1.10\n",
        "# Asset B = 1.60    States 1 and 2 payoff = 1.30, 1.90\n",
        "# what are the state prices, meaning finding phi\n",
        "\n",
        "asset_A_B_payoffs = np.array([[1.70, 1.10], [1.30, 1.90]])\n",
        "price_assets_A_B = np.array([1.40, 1.60])\n",
        "\n",
        "state_prices_A_B =  np.linalg.solve(asset_A_B_payoffs, price_assets_A_B)\n",
        "print(state_prices_A_B)"
      ],
      "metadata": {
        "id": "PUAYdaUn594J"
      },
      "execution_count": null,
      "outputs": []
    },
    {
      "cell_type": "markdown",
      "source": [
        "B. What is the price of asset C"
      ],
      "metadata": {
        "id": "NMFiteCu8kcx"
      }
    },
    {
      "cell_type": "code",
      "source": [
        "# Asset C payoffs State 1 and 2: 7.00,  9.50\n",
        "p = 0.5*7.00 + 0.5*9.5\n",
        "p"
      ],
      "metadata": {
        "id": "IgXdkvgR8QGZ"
      },
      "execution_count": null,
      "outputs": []
    },
    {
      "cell_type": "markdown",
      "source": [
        "3 A"
      ],
      "metadata": {
        "id": "aXQaK1SogzJF"
      }
    },
    {
      "cell_type": "markdown",
      "source": [
        "_present value_\n",
        "\n",
        "$PV = FV÷{(1 + R)}$"
      ],
      "metadata": {
        "id": "z1Bnm9FKg7wk"
      }
    },
    {
      "cell_type": "code",
      "source": [
        "time = 13\n",
        "fv = 100000\n",
        "air = 2.90/100\n",
        "pv = fv/(1 + air)**time\n",
        "pv"
      ],
      "metadata": {
        "id": "NO4NL8MW8tSe"
      },
      "execution_count": null,
      "outputs": []
    },
    {
      "cell_type": "markdown",
      "source": [
        "4 A. PV of CF received at different times and interest rates"
      ],
      "metadata": {
        "id": "8UU0nFgehKxr"
      }
    },
    {
      "cell_type": "code",
      "source": [
        "dr = 3/100\n",
        "n = 0\n",
        "times = [0, 5, 10, 50]\n",
        "pv = 0\n",
        "cf = 1900000\n",
        "for t in times:\n",
        "  pv = cf/(1 + dr)**t\n",
        "  print(f\"PV of this CF is {pv} after {t} years\\n\")"
      ],
      "metadata": {
        "id": "Ii7AzCq8hBMC"
      },
      "execution_count": null,
      "outputs": []
    },
    {
      "cell_type": "markdown",
      "source": [
        "B with dr at 7%"
      ],
      "metadata": {
        "id": "CIg-1yNBhaU7"
      }
    },
    {
      "cell_type": "code",
      "source": [
        "dr = 7/100\n",
        "n = 0\n",
        "times = [0, 5, 10, 50]\n",
        "pv = 0\n",
        "cf = 1900000\n",
        "for t in times:\n",
        "  pv = cf/(1 + dr)**t\n",
        "  print(f\"PV of this CF is {pv} after {t} years\\n\")"
      ],
      "metadata": {
        "id": "HWqtYXHShTfn"
      },
      "execution_count": null,
      "outputs": []
    },
    {
      "cell_type": "code",
      "source": [
        "# Define the discount rates and times\n",
        "discount_rates = [7/100, 3/100]\n",
        "times = [0, 5, 10, 50]\n",
        "cf = 1900000\n",
        "\n",
        "# Initialize lists to store the present values\n",
        "pv_list_dr7 = []\n",
        "pv_list_dr3 = []\n",
        "\n",
        "# Calculate PVs for discount rate of 7%\n",
        "dr = 7/100\n",
        "for t in times:\n",
        "    pv = cf / (1 + dr) ** t\n",
        "    pv_list_dr7.append(pv)\n",
        "\n",
        "# Calculate PVs for discount rate of 3%\n",
        "dr = 3/100\n",
        "for t in times:\n",
        "    pv = cf / (1 + dr) ** t\n",
        "    pv_list_dr3.append(pv)\n",
        "\n",
        "# Plot the results\n",
        "plt.figure(figsize=(10, 6))\n",
        "plt.plot(times, pv_list_dr7, marker='o', linestyle='-', color='r', label='Discount Rate 7%')\n",
        "plt.plot(times, pv_list_dr3, marker='o', linestyle='-', color='b', label='Discount Rate 3%')\n",
        "plt.xlabel('Time (Years)')\n",
        "plt.ylabel('Present Value ($)')\n",
        "plt.title('Present Value of Cash Flow Over Time')\n",
        "plt.legend()\n",
        "plt.grid(True)\n",
        "plt.show()\n"
      ],
      "metadata": {
        "id": "-6LE_5z1C-GY"
      },
      "execution_count": null,
      "outputs": []
    },
    {
      "cell_type": "markdown",
      "source": [
        "5 A. $FV = PV(1 + R)^T$"
      ],
      "metadata": {
        "id": "Gi35LvLHkAJQ"
      }
    },
    {
      "cell_type": "code",
      "source": [
        "ir = 5/100\n",
        "time = 2020 - 1626\n",
        "pv = 24\n",
        "fv = pv*(1 + ir)**time\n",
        "fv"
      ],
      "metadata": {
        "id": "yPvtTmOgjfd1"
      },
      "execution_count": null,
      "outputs": []
    },
    {
      "cell_type": "markdown",
      "source": [
        "B What is the FV when increasing the interest rate."
      ],
      "metadata": {
        "id": "-lW8y7OelNxn"
      }
    },
    {
      "cell_type": "code",
      "source": [
        "ir = 6/100\n",
        "time = 2020 - 1626\n",
        "pv = 24\n",
        "fv = pv*(1 + ir)**time\n",
        "fv"
      ],
      "metadata": {
        "id": "OUDihOhDkd4p"
      },
      "execution_count": null,
      "outputs": []
    },
    {
      "cell_type": "markdown",
      "source": [
        "C. What is the FV when increasing the interest rate"
      ],
      "metadata": {
        "id": "5enIYLrml0fi"
      }
    },
    {
      "cell_type": "code",
      "source": [
        "ir = 7/100\n",
        "time = 2020 - 1626\n",
        "pv = 24\n",
        "fv = pv*(1 + ir)**time\n",
        "fv"
      ],
      "metadata": {
        "id": "SIiozC3RlpCn"
      },
      "execution_count": null,
      "outputs": []
    },
    {
      "cell_type": "code",
      "source": [
        "# Initial data\n",
        "pv = 24\n",
        "time = 2020 - 1626\n",
        "\n",
        "# Interest rates to consider\n",
        "interest_rates = [5/100, 6/100, 7/100]\n",
        "\n",
        "# Calculate FV for each interest rate\n",
        "fvs = []\n",
        "for ir in interest_rates:\n",
        "    fv = pv * (1 + ir) ** time\n",
        "    fvs.append(fv)\n",
        "\n",
        "# Plot the future values\n",
        "plt.figure(figsize=(10, 6))\n",
        "plt.plot(interest_rates, fvs, marker='o', linestyle='-', color='g', label='Future Value at Different Interest Rates')\n",
        "plt.xlabel('Interest Rate')\n",
        "plt.ylabel('Future Value ($)')\n",
        "plt.title('Future Value of $24 Over 394 Years at Different Interest Rates')\n",
        "plt.xticks(interest_rates, [f'{ir*100}%' for ir in interest_rates])\n",
        "plt.grid(True)\n",
        "plt.legend()\n",
        "plt.show()"
      ],
      "metadata": {
        "id": "LyuiSkRMEf3X"
      },
      "execution_count": null,
      "outputs": []
    },
    {
      "cell_type": "markdown",
      "source": [
        "6 A."
      ],
      "metadata": {
        "id": "2ExJKheEmNjZ"
      }
    },
    {
      "cell_type": "code",
      "source": [
        "#Expected sales revenue for the next three years in nominal terms\n",
        "# To find nominal growth rate -> (1 + nominal growth rate ) = (1 + real growth rate)(1 + inflation)\n",
        "\n",
        "\n",
        "revenue = 6000000\n",
        "real_gr = 6/100\n",
        "i = 3/100\n",
        "nominal_gr = (1 + real_gr)*(1 + i)\n",
        "nominal_dr = 13/100"
      ],
      "metadata": {
        "id": "y6is82AjmCMh"
      },
      "execution_count": null,
      "outputs": []
    },
    {
      "cell_type": "code",
      "source": [
        "nominal_revenue = 0\n",
        "years = [1, 2, 3]\n",
        "for t in years:\n",
        "  nominal_revenue = revenue*nominal_gr**t\n",
        "  print(f\"Expected sales revenue for years {t} is {nominal_revenue}\\n\")\n"
      ],
      "metadata": {
        "id": "9JNnjy_TLob3"
      },
      "execution_count": null,
      "outputs": []
    },
    {
      "cell_type": "markdown",
      "source": [
        "B. PV of nominal sales"
      ],
      "metadata": {
        "id": "5iqsag9Z_1gP"
      }
    },
    {
      "cell_type": "code",
      "source": [
        "# To find nominal discount rate -> (1 + nominal discount rate) = (1 + real rate)( 1 + inflation)\n",
        "\n",
        "pv = 0\n",
        "years = [1, 2, 3]\n",
        "for t in years:\n",
        "  pv += (revenue*(nominal_gr)**t)/(1 + nominal_dr)**t\n",
        "print(f\"PV for nominal sales is {pv}\")\n"
      ],
      "metadata": {
        "id": "y8vibeVkKQ-1"
      },
      "execution_count": null,
      "outputs": []
    },
    {
      "cell_type": "markdown",
      "source": [
        "C. Expected sales revenue for the next 3 years, in real terms"
      ],
      "metadata": {
        "id": "8cpxuGyQHRtm"
      }
    },
    {
      "cell_type": "code",
      "source": [
        "expected_s_r = 0\n",
        "for t in years:\n",
        "  expected_s_r = revenue*(1 + real_gr)**t\n",
        "  print(f\"Expected sales revenue for the next three years are: in year {t}: {expected_s_r}\\n\")"
      ],
      "metadata": {
        "id": "yXU8XieVAUMU"
      },
      "execution_count": null,
      "outputs": []
    },
    {
      "cell_type": "markdown",
      "source": [
        "D. PV of real sales revenue over the next 3 years"
      ],
      "metadata": {
        "id": "BUsESwtwJ2GE"
      }
    },
    {
      "cell_type": "markdown",
      "source": [
        "# I need to figure out how to find real rate"
      ],
      "metadata": {
        "id": "Aafi5QPDXLad"
      }
    },
    {
      "cell_type": "code",
      "source": [
        "# finding real rate from nominal rate\n",
        "rr = (1 + nominal_dr/1 + i) - 1"
      ],
      "metadata": {
        "id": "_hY2lzHmNaEu"
      },
      "execution_count": null,
      "outputs": []
    },
    {
      "cell_type": "code",
      "source": [],
      "metadata": {
        "id": "XtP4OKpTTLGQ"
      },
      "execution_count": null,
      "outputs": []
    },
    {
      "cell_type": "code",
      "source": [
        "# To find nominal rate (1 + nominal rate) = (1 + real rate)*(1 + inflation)\n",
        "\n",
        "pv_r_s = 0\n",
        "for t in years:\n",
        "  pv_r_s += (revenue*(1 + real_gr)**t)/((1 + rr)*(1 + i))**t\n",
        "print(f\"PV of real sales over the next three years is {pv_r_s}\")"
      ],
      "metadata": {
        "id": "YUa6AXErJMoy"
      },
      "execution_count": null,
      "outputs": []
    },
    {
      "cell_type": "code",
      "source": [
        "# example\n",
        "pv_r_s = 0\n",
        "for t in years:\n",
        "  pv_r_s += revenue*((1 + real_gr)/(1 + r)/(1 + i))**t\n",
        "print(f\"PV of real sales over the next three years is {pv_r_s}\")"
      ],
      "metadata": {
        "id": "V9Pb86ufOddQ"
      },
      "execution_count": null,
      "outputs": []
    },
    {
      "cell_type": "code",
      "source": [],
      "metadata": {
        "id": "IrC7ahn3R0vG"
      },
      "execution_count": null,
      "outputs": []
    }
  ]
}