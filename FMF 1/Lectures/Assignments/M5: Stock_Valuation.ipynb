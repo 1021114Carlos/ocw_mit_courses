{
  "nbformat": 4,
  "nbformat_minor": 0,
  "metadata": {
    "colab": {
      "provenance": [],
      "authorship_tag": "ABX9TyO00k2rH+CIgUUqMVeExlJG",
      "include_colab_link": true
    },
    "kernelspec": {
      "name": "python3",
      "display_name": "Python 3"
    },
    "language_info": {
      "name": "python"
    }
  },
  "cells": [
    {
      "cell_type": "markdown",
      "metadata": {
        "id": "view-in-github",
        "colab_type": "text"
      },
      "source": [
        "<a href=\"https://colab.research.google.com/github/1021114Carlos/ocw_mit_courses/blob/manufacturing_shop/FMF%201/Lectures/Assignments/Stock_Valuation.ipynb\" target=\"_parent\"><img src=\"https://colab.research.google.com/assets/colab-badge.svg\" alt=\"Open In Colab\"/></a>"
      ]
    },
    {
      "cell_type": "markdown",
      "source": [
        "2. *Using Gordon Growth Model. What is the stock price*"
      ],
      "metadata": {
        "id": "w3dm3OqlTv9p"
      }
    },
    {
      "cell_type": "markdown",
      "source": [
        "- Dividend payout             $10.24M\n",
        "- Expected growth of dividend 5.62%\n",
        "- Discount Rate               11.82%\n",
        "- Shares outstanding          11.72M"
      ],
      "metadata": {
        "id": "Tye7599qTmKo"
      }
    },
    {
      "cell_type": "code",
      "execution_count": null,
      "metadata": {
        "id": "89O4TwP5PfmB"
      },
      "outputs": [],
      "source": [
        "div_payout_expec_growth = 5.62/100\n",
        "total_div_payout = 10240000\n",
        "disc_rate_cf = 11.82/100\n",
        "shares_outstanding = 11720000"
      ]
    }
  ]
}
