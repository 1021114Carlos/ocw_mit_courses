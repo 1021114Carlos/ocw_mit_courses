{
  "nbformat": 4,
  "nbformat_minor": 0,
  "metadata": {
    "colab": {
      "private_outputs": true,
      "provenance": [],
      "authorship_tag": "ABX9TyPxYF/1rvLvhUiZsPVQAaC+",
      "include_colab_link": true
    },
    "kernelspec": {
      "name": "python3",
      "display_name": "Python 3"
    },
    "language_info": {
      "name": "python"
    }
  },
  "cells": [
    {
      "cell_type": "markdown",
      "metadata": {
        "id": "view-in-github",
        "colab_type": "text"
      },
      "source": [
        "<a href=\"https://colab.research.google.com/github/1021114Carlos/ocw_mit_courses/blob/manufacturing_shop/FMF%201/Lectures/Assignments/FMF_1_Module_4_Fixed_Income.ipynb\" target=\"_parent\"><img src=\"https://colab.research.google.com/assets/colab-badge.svg\" alt=\"Open In Colab\"/></a>"
      ]
    },
    {
      "cell_type": "markdown",
      "source": [
        "1.A"
      ],
      "metadata": {
        "id": "0J7JXxVvAoRV"
      }
    },
    {
      "cell_type": "code",
      "execution_count": null,
      "metadata": {
        "id": "cytfEY4k-IU8"
      },
      "outputs": [],
      "source": [
        "# $100 at maturity\n",
        "# Bond A: zero coupon bond, one year maturity, current price $97.0139\n",
        "# Bond B: 4.5% coupon bond, maturity of two years, current price $100.5226\n",
        "# Compute 1 and 2 year spots interest rates."
      ]
    },
    {
      "cell_type": "code",
      "source": [
        "payment_maturity = 100\n",
        "bond_A = 97.0139\n",
        "\n",
        "spot_ir_y1 = (payment_maturity/bond_A) - 1\n",
        "spot_ir_y1"
      ],
      "metadata": {
        "id": "_BQGgxBxCJMF"
      },
      "execution_count": null,
      "outputs": []
    },
    {
      "cell_type": "markdown",
      "source": [
        "1.b"
      ],
      "metadata": {
        "id": "_hV6rFVUD_HV"
      }
    },
    {
      "cell_type": "code",
      "source": [
        "import math"
      ],
      "metadata": {
        "id": "moWoGwZTTEYZ"
      },
      "execution_count": null,
      "outputs": []
    },
    {
      "cell_type": "code",
      "source": [
        "bond_price_b = 100.5226\n",
        "bond_coupon_b = 4.5/100\n",
        "payment = 100\n",
        "coupon_price = payment*bond_coupon_b\n",
        "print(\"coupon price: \", coupon_price)\n"
      ],
      "metadata": {
        "id": "85fP5JeZCLnP"
      },
      "execution_count": null,
      "outputs": []
    },
    {
      "cell_type": "code",
      "source": [
        "spot_ir_y2 = math.sqrt((payment + coupon_price)/(bond_price_b - (coupon_price/(1 + spot_ir_y1)))) - 1\n",
        "spot_ir_y2"
      ],
      "metadata": {
        "id": "vFaWctmcZEJB"
      },
      "execution_count": null,
      "outputs": []
    },
    {
      "cell_type": "code",
      "source": [
        "# r2 = ((c/(1 +r1) + (m + c))/p - 1)^1/2\n",
        "\n",
        "r2 = math.sqrt((100 + 3)/(96 - (3/(1 + 0.0256)))) - 1\n",
        "r2"
      ],
      "metadata": {
        "id": "k77kUtFsHj8A"
      },
      "execution_count": null,
      "outputs": []
    },
    {
      "cell_type": "markdown",
      "source": [
        "2.a solved in Google sheet"
      ],
      "metadata": {
        "id": "P9NX9YjG4Bq3"
      }
    },
    {
      "cell_type": "markdown",
      "source": [
        "3. a"
      ],
      "metadata": {
        "id": "2k_n-lom4Oc0"
      }
    },
    {
      "cell_type": "code",
      "source": [
        "# 3 year bond with annual payment\n",
        "# face value $100\n",
        "# coupon rate 6.25%\n",
        "# ytm 6.144%"
      ],
      "metadata": {
        "id": "aqQTHK52CLjn"
      },
      "execution_count": null,
      "outputs": []
    },
    {
      "cell_type": "code",
      "source": [
        "face_value = 100\n",
        "cr = 6.25/100\n",
        "ytm = 6.144/100"
      ],
      "metadata": {
        "id": "TBMtnT2wHjpw"
      },
      "execution_count": null,
      "outputs": []
    },
    {
      "cell_type": "code",
      "source": [
        "current_price = (face_value*cr)/(1 + ytm) + (face_value*cr)/(1 + ytm)**2 + (face_value*cr + face_value)/(1 + ytm)**3\n",
        "current_price"
      ],
      "metadata": {
        "id": "cz4uzzgICLgS"
      },
      "execution_count": null,
      "outputs": []
    },
    {
      "cell_type": "markdown",
      "source": [
        "6. A"
      ],
      "metadata": {
        "id": "50yKO_o363-T"
      }
    },
    {
      "cell_type": "code",
      "source": [
        "# Interest Rate 3.07%\n",
        "# Discount bond maturing in 19 years\n",
        "# Face value $1000\n",
        "# Compute Macaulay duration and modify duration"
      ],
      "metadata": {
        "id": "QPeVoaY4CLcj"
      },
      "execution_count": null,
      "outputs": []
    },
    {
      "cell_type": "code",
      "source": [
        "duration = 19\n",
        "ir = 3.07/100\n",
        "md = duration/(1 + ir)\n",
        "md"
      ],
      "metadata": {
        "id": "qLXy7a5SCLY4"
      },
      "execution_count": null,
      "outputs": []
    },
    {
      "cell_type": "markdown",
      "source": [
        "B"
      ],
      "metadata": {
        "id": "cYWCmoM5OZA-"
      }
    },
    {
      "cell_type": "code",
      "source": [
        "duration_b = (1/ir) + 1\n",
        "duration_b"
      ],
      "metadata": {
        "id": "EmeAWZI6ObfB"
      },
      "execution_count": null,
      "outputs": []
    },
    {
      "cell_type": "code",
      "source": [
        "md_b = duration_b/(1 + ir)\n",
        "md_b"
      ],
      "metadata": {
        "id": "mIY9qIJ6OmMH"
      },
      "execution_count": null,
      "outputs": []
    },
    {
      "cell_type": "markdown",
      "source": [
        "C. **Done in Google Sheets**"
      ],
      "metadata": {
        "id": "Cqt8WruhIIFx"
      }
    },
    {
      "cell_type": "markdown",
      "source": [
        "7. A"
      ],
      "metadata": {
        "id": "DC07soLiOfxu"
      }
    },
    {
      "cell_type": "code",
      "source": [
        "# Liabilities of two payments\n",
        "# First payment for $16.2M in 14 years\n",
        "# Second payment for 31.2M in 34 years\n",
        "# Interest rate 7.5%\n",
        "# Compute the PV liabilities in millions"
      ],
      "metadata": {
        "id": "QOVTYYN2CLU6"
      },
      "execution_count": null,
      "outputs": []
    },
    {
      "cell_type": "code",
      "source": [
        "payment_1 = 16200000\n",
        "payment_2 = 31200000\n",
        "time_14 = 14\n",
        "time_34 = 34\n",
        "interest_rate = 7.5/100"
      ],
      "metadata": {
        "id": "N9Fc5B17CLRQ"
      },
      "execution_count": null,
      "outputs": []
    },
    {
      "cell_type": "code",
      "source": [
        "value_liabilities = payment_1/(1 + interest_rate)**time_14 + payment_2/(1 + interest_rate)**time_34\n",
        "value_liabilities"
      ],
      "metadata": {
        "id": "q0X0xfItCLNX"
      },
      "execution_count": null,
      "outputs": []
    },
    {
      "cell_type": "markdown",
      "source": [
        "B"
      ],
      "metadata": {
        "id": "z9HPOLhrSnNN"
      }
    },
    {
      "cell_type": "code",
      "source": [
        "# Compute modified duration of liabilities\n",
        "\n",
        "value_14 = payment_1/(1 + interest_rate)**time_14\n",
        "value_34 = payment_2/(1 + interest_rate)**time_34\n",
        "d = (value_14/value_liabilities)*time_14 + (value_34/value_liabilities)*time_34\n",
        "md = d/(1 + interest_rate)\n",
        "md"
      ],
      "metadata": {
        "id": "jXnrfjDkCLKD"
      },
      "execution_count": null,
      "outputs": []
    },
    {
      "cell_type": "markdown",
      "source": [
        "C."
      ],
      "metadata": {
        "id": "2JhjdSniUUme"
      }
    },
    {
      "cell_type": "code",
      "source": [
        "# Compute approximate change in PV of liabilities using modified duration when interest rates fall by 0.65%\n",
        "approximate_change = value_liabilities*(-md)*(-0.0065)\n",
        "approximate_change"
      ],
      "metadata": {
        "id": "xJ9lRgpkCLGW"
      },
      "execution_count": null,
      "outputs": []
    },
    {
      "cell_type": "markdown",
      "source": [
        "8. A"
      ],
      "metadata": {
        "id": "bq82ijomXRbi"
      }
    },
    {
      "cell_type": "code",
      "source": [
        "# 5 years. Annual payments\n",
        "fv = 100\n",
        "cr = 4.375/100\n",
        "coupon_payment = fv*cr\n",
        "price_t_note = coupon_payment/(1 + 0.02048) +  coupon_payment/(1 + 0.023566)**2 + coupon_payment/(1 + 0.026364)**3 + coupon_payment/(1 + 0.028639)**4 + (coupon_payment + fv)/(1 + 0.030468)**5\n",
        "price_t_note"
      ],
      "metadata": {
        "id": "-z2iorliCLDE"
      },
      "execution_count": null,
      "outputs": []
    },
    {
      "cell_type": "markdown",
      "source": [
        "B. Yield curved shited down 0.4%"
      ],
      "metadata": {
        "id": "L0kwRT7zZwaQ"
      }
    },
    {
      "cell_type": "code",
      "source": [
        "r = 0.004\n",
        "t_note_newPrice =  coupon_payment/(1 + (0.02048 - r)) +  coupon_payment/(1 + (0.023566 - r))**2 + coupon_payment/(1 + (0.026364 - r))**3 + coupon_payment/(1 + (0.028639 - r))**4 + (coupon_payment + fv)/(1 + (0.030468 - r))**5\n",
        "print(\"New Price:\", t_note_newPrice)\n",
        "price_diff = t_note_newPrice - price_t_note\n",
        "price_diff"
      ],
      "metadata": {
        "id": "ECdzjNSACK_O"
      },
      "execution_count": null,
      "outputs": []
    },
    {
      "cell_type": "markdown",
      "source": [
        "C. Compute absolute value price elasticity $|PE|$ on the t-note."
      ],
      "metadata": {
        "id": "RkhMTVoPbmAJ"
      }
    },
    {
      "cell_type": "code",
      "source": [
        "pe_0 = (1/price_t_note)\n",
        "pe_1 = ((1*coupon_payment)/(1 + 0.02048)**2)\n",
        "pe_2 = ((2*coupon_payment)/(1 + 0.023566)**3)\n",
        "pe_3 = ((3*coupon_payment)/(1 + 0.026364)**4)\n",
        "pe_4 = ((4*coupon_payment)/(1 + 0.028639)**5)\n",
        "pe_5 = ((5*(coupon_payment + fv))/(1 + 0.030468)**6)\n",
        "pe = pe_0*(pe_1 + pe_2 + pe_3 + pe_4 + pe_5)\n",
        "pe"
      ],
      "metadata": {
        "id": "yKVRyw3xCK8C"
      },
      "execution_count": null,
      "outputs": []
    },
    {
      "cell_type": "markdown",
      "source": [
        "D. _Compute the approximate price change based on the price elasticity._"
      ],
      "metadata": {
        "id": "KitqbeK7lS5w"
      }
    },
    {
      "cell_type": "code",
      "source": [
        "delta_price = (-price_t_note)*pe*0.004\n",
        "delta_price"
      ],
      "metadata": {
        "id": "qoBQNgxqCK49"
      },
      "execution_count": null,
      "outputs": []
    },
    {
      "cell_type": "code",
      "source": [
        "#example\n",
        "\n",
        "price = -102.46*4.54*0.012\n",
        "price"
      ],
      "metadata": {
        "id": "KP0hKU8ACK2A"
      },
      "execution_count": null,
      "outputs": []
    },
    {
      "cell_type": "markdown",
      "source": [
        "9. A _Compute price of Bond_"
      ],
      "metadata": {
        "id": "jFa5lZpRot-U"
      }
    },
    {
      "cell_type": "code",
      "source": [
        "yield_curve = 5.6/100\n",
        "maturity = 3\n",
        "fv = 100\n",
        "cr = 4.25/100\n",
        "cr_payment = cr*fv\n",
        "\n",
        "bond_price = cr_payment/(1 + yield_curve) + cr_payment/(1 + yield_curve)**2 + (fv + cr_payment)/(1 + yield_curve)**3\n",
        "bond_price"
      ],
      "metadata": {
        "id": "H-BEMB7_CKyq"
      },
      "execution_count": null,
      "outputs": []
    },
    {
      "cell_type": "markdown",
      "source": [
        "B. Compute MD of bond"
      ],
      "metadata": {
        "id": "ZsbMuvsdqPj-"
      }
    },
    {
      "cell_type": "code",
      "source": [
        "a = 1/(1 + yield_curve)\n",
        "b = 1/bond_price\n",
        "c = cr_payment/(1 + yield_curve) + 2*(cr_payment/(1 + yield_curve)**2) + 3*((fv + cr_payment)/(1 + yield_curve)**3)\n",
        "md = a*b*c\n",
        "md"
      ],
      "metadata": {
        "id": "JzxZSoLYCKv0"
      },
      "execution_count": null,
      "outputs": []
    },
    {
      "cell_type": "markdown",
      "source": [
        "C. Compute convexity of the bond"
      ],
      "metadata": {
        "id": "RceKtrtJraIE"
      }
    },
    {
      "cell_type": "code",
      "source": [
        "a = 1/2\n",
        "b = 1/(bond_price*(1 + yield_curve)**2)\n",
        "c = (cr_payment*2)/(1 + yield_curve) + (cr_payment*2*3)/(1 + yield_curve)**2 + ((fv + cr_payment)*3*4)/(1 + yield_curve)**3\n",
        "convexity = a*b*c\n",
        "convexity"
      ],
      "metadata": {
        "id": "CA-XJox0CKr0"
      },
      "execution_count": null,
      "outputs": []
    },
    {
      "cell_type": "markdown",
      "source": [
        "D. Compute the value of the bond price following the change in interest rate"
      ],
      "metadata": {
        "id": "fGyfaQk3vsK9"
      }
    },
    {
      "cell_type": "code",
      "source": [
        "delta_bond = bond_price*(-md)*0.029\n",
        "new_bond_price = delta_bond + bond_price\n",
        "new_bond_price"
      ],
      "metadata": {
        "id": "hTBmzdpYCJIa"
      },
      "execution_count": null,
      "outputs": []
    },
    {
      "cell_type": "markdown",
      "source": [
        "E. Apply second order approximation with bond duration and convexity terms"
      ],
      "metadata": {
        "id": "Faq9s_H5yNNS"
      }
    },
    {
      "cell_type": "code",
      "source": [
        "second = bond_price*convexity*(0.029)**2\n",
        "second_approximation = bond_price + delta_bond + second\n",
        "second_approximation"
      ],
      "metadata": {
        "id": "VeoU1extCJEu"
      },
      "execution_count": null,
      "outputs": []
    },
    {
      "cell_type": "markdown",
      "source": [
        "F. Compute exact value of bond following change in interest rate"
      ],
      "metadata": {
        "id": "pmU03GYEzxhI"
      }
    },
    {
      "cell_type": "code",
      "source": [
        "rate_increase = 2.9/100\n",
        "positive_parallel_shift = yield_curve + rate_increase\n",
        "print(positive_parallel_shift)\n",
        "exact_price = cr_payment/(1 + positive_parallel_shift) + cr_payment/(1 + positive_parallel_shift)**2 + (cr_payment + fv)/(1 + positive_parallel_shift)**3\n",
        "exact_price"
      ],
      "metadata": {
        "id": "pqpAg46GCJAu"
      },
      "execution_count": null,
      "outputs": []
    }
  ]
}