{
  "nbformat": 4,
  "nbformat_minor": 0,
  "metadata": {
    "colab": {
      "private_outputs": true,
      "provenance": [],
      "include_colab_link": true
    },
    "kernelspec": {
      "name": "python3",
      "display_name": "Python 3"
    },
    "language_info": {
      "name": "python"
    }
  },
  "cells": [
    {
      "cell_type": "markdown",
      "metadata": {
        "id": "view-in-github",
        "colab_type": "text"
      },
      "source": [
        "<a href=\"https://colab.research.google.com/github/1021114Carlos/ocw_mit_courses/blob/manufacturing_shop/FMF%201/Lectures/Assignments/FMF_1_Module_4_Fixed_Income.ipynb\" target=\"_parent\"><img src=\"https://colab.research.google.com/assets/colab-badge.svg\" alt=\"Open In Colab\"/></a>"
      ]
    },
    {
      "cell_type": "code",
      "source": [
        "import math\n",
        "import numpy as np"
      ],
      "metadata": {
        "id": "moWoGwZTTEYZ"
      },
      "execution_count": null,
      "outputs": []
    },
    {
      "cell_type": "markdown",
      "source": [
        "1 A. Find the spot interest rates"
      ],
      "metadata": {
        "id": "0J7JXxVvAoRV"
      }
    },
    {
      "cell_type": "code",
      "source": [
        "fv_A = 100\n",
        "bond_A = 97.0139\n",
        "\n",
        "spot_ir_y1 = (fv_A/bond_A) - 1\n",
        "spot_ir_y1"
      ],
      "metadata": {
        "id": "_BQGgxBxCJMF"
      },
      "execution_count": null,
      "outputs": []
    },
    {
      "cell_type": "markdown",
      "source": [
        "B"
      ],
      "metadata": {
        "id": "_hV6rFVUD_HV"
      }
    },
    {
      "cell_type": "code",
      "source": [
        "bond_B = 100.5226\n",
        "bond_coupon_b = 4.5/100\n",
        "fv_B = 100\n",
        "coupon_price = fv_B*bond_coupon_b\n",
        "print(\"coupon price: \", coupon_price)\n"
      ],
      "metadata": {
        "id": "85fP5JeZCLnP"
      },
      "execution_count": null,
      "outputs": []
    },
    {
      "cell_type": "code",
      "source": [
        "spot_ir_y2 = math.sqrt((fv_B + coupon_price)/(bond_B - (coupon_price/(1 + spot_ir_y1)))) - 1\n",
        "spot_ir_y2"
      ],
      "metadata": {
        "id": "vFaWctmcZEJB"
      },
      "execution_count": null,
      "outputs": []
    },
    {
      "cell_type": "markdown",
      "source": [
        "- Solving using systems of linear equations and matrices"
      ],
      "metadata": {
        "id": "Tmz3VwQIFstR"
      }
    },
    {
      "cell_type": "code",
      "source": [
        "price_bonds = np.array([97.0139, 100.5226])\n",
        "payoffs_coupons = np.array([[100, 0], [4.5, (4.5 + 100)]])\n",
        "state_prices = np.linalg.solve(payoffs_coupons, price_bonds)\n",
        "state_prices"
      ],
      "metadata": {
        "id": "k77kUtFsHj8A"
      },
      "execution_count": null,
      "outputs": []
    },
    {
      "cell_type": "code",
      "source": [
        "x, y = state_prices"
      ],
      "metadata": {
        "id": "korn3VDuIVxk"
      },
      "execution_count": null,
      "outputs": []
    },
    {
      "cell_type": "code",
      "source": [
        "r1 = (1/x) - 1\n",
        "r2 = math.sqrt(1/y) - 1\n",
        "r1, r2"
      ],
      "metadata": {
        "id": "w1AGoWOOIask"
      },
      "execution_count": null,
      "outputs": []
    },
    {
      "cell_type": "markdown",
      "source": [
        "2 A.  Constructing an arbitrage trading opportunity.\n",
        "  \n",
        "  * one way of solving is in Google sheet\n",
        "\n",
        "  * another way of solving was done with paper and pencil"
      ],
      "metadata": {
        "id": "P9NX9YjG4Bq3"
      }
    },
    {
      "cell_type": "markdown",
      "source": [
        "* 1 Year STRIP Note with zero coupon"
      ],
      "metadata": {
        "id": "CojoiHz9HYxB"
      }
    },
    {
      "cell_type": "code",
      "source": [
        "fv_strip1 = 100\n",
        "price_strip1 = 96.5754\n",
        "r1 = (fv_strip1/price_strip1) - 1\n",
        "r1"
      ],
      "metadata": {
        "id": "vapWSzB3Gb_P"
      },
      "execution_count": null,
      "outputs": []
    },
    {
      "cell_type": "markdown",
      "source": [
        "* 2-Year Treasury note with annual coupon and two year maturity"
      ],
      "metadata": {
        "id": "g5WC876xHpvn"
      }
    },
    {
      "cell_type": "code",
      "source": [
        "fv_t_note = 100\n",
        "price_t_note = 98.2531\n",
        "c_rate_t_note = 2.048/100\n",
        "\n",
        "r2 = math.sqrt((fv_t_note + fv_t_note*c_rate_t_note)/(price_t_note - (c_rate_t_note/(1 + r1)))) - 1\n",
        "r2"
      ],
      "metadata": {
        "id": "UMbQcnxKHxuh"
      },
      "execution_count": null,
      "outputs": []
    },
    {
      "cell_type": "markdown",
      "source": [
        "- 3-Year Treasury note with annual coupon and three year maturity"
      ],
      "metadata": {
        "id": "NT0g0oi0YV2e"
      }
    },
    {
      "cell_type": "code",
      "source": [
        "fv_t_note3 = 100\n",
        "price_t_note3 = 103.9722\n",
        "c_rate_t_note3 = 3.172/100\n",
        "\n",
        "a, b, c = (fv_t_note3*c_rate_t_note3/(1 + r1)), (fv_t_note3*c_rate_t_note3/(1 + r2)**2), (fv_t_note3*c_rate_t_note3 + fv_t_note3)\n",
        "\n",
        "r3 = math.pow(c/(price_t_note - (a + b)), (1/3)) - 1\n",
        "r3"
      ],
      "metadata": {
        "id": "BoTMEIbfYmjA"
      },
      "execution_count": null,
      "outputs": []
    },
    {
      "cell_type": "markdown",
      "source": [
        "- 3-Year STRIP note with zero coupon"
      ],
      "metadata": {
        "id": "O1ucD8qBLfAN"
      }
    },
    {
      "cell_type": "code",
      "source": [
        "fv_strip3 = 100\n",
        "price_strip3 = 93.3947\n",
        "\n",
        "strip3 = fv_strip3/(1 + r3)\n",
        "strip3"
      ],
      "metadata": {
        "id": "30oVi_1vLeXy"
      },
      "execution_count": null,
      "outputs": []
    },
    {
      "cell_type": "markdown",
      "source": [
        "3 A. Calculate price of bond"
      ],
      "metadata": {
        "id": "2k_n-lom4Oc0"
      }
    },
    {
      "cell_type": "code",
      "source": [
        "face_value = 100\n",
        "cr = 6.25/100\n",
        "ytm = 6.144/100"
      ],
      "metadata": {
        "id": "TBMtnT2wHjpw"
      },
      "execution_count": null,
      "outputs": []
    },
    {
      "cell_type": "code",
      "source": [
        "current_price = (face_value*cr)/(1 + ytm) + (face_value*cr)/(1 + ytm)**2 + (face_value*cr + face_value)/(1 + ytm)**3\n",
        "current_price"
      ],
      "metadata": {
        "id": "cz4uzzgICLgS"
      },
      "execution_count": null,
      "outputs": []
    },
    {
      "cell_type": "markdown",
      "source": [
        "4  Compute yield to maturity"
      ],
      "metadata": {
        "id": "IcdU7wXfwpSD"
      }
    },
    {
      "cell_type": "code",
      "source": [
        "fv_bond = 100\n",
        "coupon_rate = 6.25/100\n",
        "spot_rate1, spot_rate2 = 3.3105/100, 6.235/100"
      ],
      "metadata": {
        "id": "cLLvv5blwodu"
      },
      "execution_count": null,
      "outputs": []
    },
    {
      "cell_type": "code",
      "source": [
        "bond_price = (coupon_rate*fv_bond)/(1 + spot_rate1) + (coupon_rate*fv_bond + fv_bond)/(1 + spot_rate2)**2\n",
        "bond_price"
      ],
      "metadata": {
        "id": "7W36gIZ4znFy"
      },
      "execution_count": null,
      "outputs": []
    },
    {
      "cell_type": "markdown",
      "source": [
        "To find yield to maturity $bond \\ price = \\frac{coupon}{(1 + y)^t}$\n",
        "\n",
        "- solved yield to maturity in google sheets"
      ],
      "metadata": {
        "id": "oCOkrgKY1H5l"
      }
    },
    {
      "cell_type": "code",
      "source": [
        "y1 = ((coupon_rate*fv_bond)/bond_price) - 1\n",
        "y2 = - (3*bond_price + fv_bond)/bond_price\n",
        "yield_tm = y1 + y2\n",
        "yield_tm\n",
        "\n",
        "# my computation is flawed. Answer is wrong\n"
      ],
      "metadata": {
        "id": "N3lree572hRp"
      },
      "execution_count": null,
      "outputs": []
    },
    {
      "cell_type": "markdown",
      "source": [
        "5\n",
        "\n",
        "- This were conceptual questions about bond risk and duration."
      ],
      "metadata": {
        "id": "jHm9L1_EezNn"
      }
    },
    {
      "cell_type": "markdown",
      "source": [
        "6 A Compute Macaulay Duration and modify duration"
      ],
      "metadata": {
        "id": "50yKO_o363-T"
      }
    },
    {
      "cell_type": "code",
      "source": [],
      "metadata": {
        "id": "QPeVoaY4CLcj"
      },
      "execution_count": null,
      "outputs": []
    },
    {
      "cell_type": "code",
      "source": [
        "duration = 19\n",
        "ir = 3.07/100\n",
        "md = duration/(1 + ir)\n",
        "md"
      ],
      "metadata": {
        "id": "qLXy7a5SCLY4"
      },
      "execution_count": null,
      "outputs": []
    },
    {
      "cell_type": "markdown",
      "source": [
        "B"
      ],
      "metadata": {
        "id": "cYWCmoM5OZA-"
      }
    },
    {
      "cell_type": "code",
      "source": [
        "duration_b = (1/ir) + 1\n",
        "duration_b"
      ],
      "metadata": {
        "id": "EmeAWZI6ObfB"
      },
      "execution_count": null,
      "outputs": []
    },
    {
      "cell_type": "code",
      "source": [
        "md_b = duration_b/(1 + ir)\n",
        "md_b"
      ],
      "metadata": {
        "id": "mIY9qIJ6OmMH"
      },
      "execution_count": null,
      "outputs": []
    },
    {
      "cell_type": "markdown",
      "source": [
        "C. **Done in Google Sheets**"
      ],
      "metadata": {
        "id": "Cqt8WruhIIFx"
      }
    },
    {
      "cell_type": "markdown",
      "source": [
        "7. A"
      ],
      "metadata": {
        "id": "DC07soLiOfxu"
      }
    },
    {
      "cell_type": "code",
      "source": [
        "# Liabilities of two payments\n",
        "# First payment for $16.2M in 14 years\n",
        "# Second payment for 31.2M in 34 years\n",
        "# Interest rate 7.5%\n",
        "# Compute the PV liabilities in millions"
      ],
      "metadata": {
        "id": "QOVTYYN2CLU6"
      },
      "execution_count": null,
      "outputs": []
    },
    {
      "cell_type": "code",
      "source": [
        "payment_1 = 16200000\n",
        "payment_2 = 31200000\n",
        "time_14 = 14\n",
        "time_34 = 34\n",
        "interest_rate = 7.5/100"
      ],
      "metadata": {
        "id": "N9Fc5B17CLRQ"
      },
      "execution_count": null,
      "outputs": []
    },
    {
      "cell_type": "code",
      "source": [
        "value_liabilities = payment_1/(1 + interest_rate)**time_14 + payment_2/(1 + interest_rate)**time_34\n",
        "value_liabilities"
      ],
      "metadata": {
        "id": "q0X0xfItCLNX"
      },
      "execution_count": null,
      "outputs": []
    },
    {
      "cell_type": "markdown",
      "source": [
        "B"
      ],
      "metadata": {
        "id": "z9HPOLhrSnNN"
      }
    },
    {
      "cell_type": "code",
      "source": [
        "# Compute modified duration of liabilities\n",
        "\n",
        "value_14 = payment_1/(1 + interest_rate)**time_14\n",
        "value_34 = payment_2/(1 + interest_rate)**time_34\n",
        "d = (value_14/value_liabilities)*time_14 + (value_34/value_liabilities)*time_34\n",
        "md = d/(1 + interest_rate)\n",
        "md"
      ],
      "metadata": {
        "id": "jXnrfjDkCLKD"
      },
      "execution_count": null,
      "outputs": []
    },
    {
      "cell_type": "markdown",
      "source": [
        "C."
      ],
      "metadata": {
        "id": "2JhjdSniUUme"
      }
    },
    {
      "cell_type": "code",
      "source": [
        "# Compute approximate change in PV of liabilities using modified duration when interest rates fall by 0.65%\n",
        "approximate_change = value_liabilities*(-md)*(-0.0065)\n",
        "approximate_change"
      ],
      "metadata": {
        "id": "xJ9lRgpkCLGW"
      },
      "execution_count": null,
      "outputs": []
    },
    {
      "cell_type": "markdown",
      "source": [
        "8. A"
      ],
      "metadata": {
        "id": "bq82ijomXRbi"
      }
    },
    {
      "cell_type": "code",
      "source": [
        "# 5 years. Annual payments\n",
        "fv = 100\n",
        "cr = 4.375/100\n",
        "coupon_payment = fv*cr\n",
        "price_t_note = coupon_payment/(1 + 0.02048) +  coupon_payment/(1 + 0.023566)**2 + coupon_payment/(1 + 0.026364)**3 + coupon_payment/(1 + 0.028639)**4 + (coupon_payment + fv)/(1 + 0.030468)**5\n",
        "price_t_note"
      ],
      "metadata": {
        "id": "-z2iorliCLDE"
      },
      "execution_count": null,
      "outputs": []
    },
    {
      "cell_type": "markdown",
      "source": [
        "B. Yield curved shited down 0.4%"
      ],
      "metadata": {
        "id": "L0kwRT7zZwaQ"
      }
    },
    {
      "cell_type": "code",
      "source": [
        "r = 0.004\n",
        "t_note_newPrice =  coupon_payment/(1 + (0.02048 - r)) +  coupon_payment/(1 + (0.023566 - r))**2 + coupon_payment/(1 + (0.026364 - r))**3 + coupon_payment/(1 + (0.028639 - r))**4 + (coupon_payment + fv)/(1 + (0.030468 - r))**5\n",
        "print(\"New Price:\", t_note_newPrice)\n",
        "price_diff = t_note_newPrice - price_t_note\n",
        "price_diff"
      ],
      "metadata": {
        "id": "ECdzjNSACK_O"
      },
      "execution_count": null,
      "outputs": []
    },
    {
      "cell_type": "markdown",
      "source": [
        "C. Compute absolute value price elasticity $|PE|$ on the t-note."
      ],
      "metadata": {
        "id": "RkhMTVoPbmAJ"
      }
    },
    {
      "cell_type": "code",
      "source": [
        "pe_0 = (1/price_t_note)\n",
        "pe_1 = ((1*coupon_payment)/(1 + 0.02048)**2)\n",
        "pe_2 = ((2*coupon_payment)/(1 + 0.023566)**3)\n",
        "pe_3 = ((3*coupon_payment)/(1 + 0.026364)**4)\n",
        "pe_4 = ((4*coupon_payment)/(1 + 0.028639)**5)\n",
        "pe_5 = ((5*(coupon_payment + fv))/(1 + 0.030468)**6)\n",
        "pe = pe_0*(pe_1 + pe_2 + pe_3 + pe_4 + pe_5)\n",
        "pe"
      ],
      "metadata": {
        "id": "yKVRyw3xCK8C"
      },
      "execution_count": null,
      "outputs": []
    },
    {
      "cell_type": "markdown",
      "source": [
        "D. _Compute the approximate price change based on the price elasticity._"
      ],
      "metadata": {
        "id": "KitqbeK7lS5w"
      }
    },
    {
      "cell_type": "code",
      "source": [
        "delta_price = (-price_t_note)*pe*0.004\n",
        "delta_price"
      ],
      "metadata": {
        "id": "qoBQNgxqCK49"
      },
      "execution_count": null,
      "outputs": []
    },
    {
      "cell_type": "code",
      "source": [
        "#example\n",
        "\n",
        "price = -102.46*4.54*0.012\n",
        "price"
      ],
      "metadata": {
        "id": "KP0hKU8ACK2A"
      },
      "execution_count": null,
      "outputs": []
    },
    {
      "cell_type": "markdown",
      "source": [
        "9. A _Compute price of Bond_"
      ],
      "metadata": {
        "id": "jFa5lZpRot-U"
      }
    },
    {
      "cell_type": "code",
      "source": [
        "yield_curve = 5.6/100\n",
        "maturity = 3\n",
        "fv = 100\n",
        "cr = 4.25/100\n",
        "cr_payment = cr*fv\n",
        "\n",
        "bond_price = cr_payment/(1 + yield_curve) + cr_payment/(1 + yield_curve)**2 + (fv + cr_payment)/(1 + yield_curve)**3\n",
        "bond_price"
      ],
      "metadata": {
        "id": "H-BEMB7_CKyq"
      },
      "execution_count": null,
      "outputs": []
    },
    {
      "cell_type": "markdown",
      "source": [
        "B. Compute MD of bond"
      ],
      "metadata": {
        "id": "ZsbMuvsdqPj-"
      }
    },
    {
      "cell_type": "code",
      "source": [
        "a = 1/(1 + yield_curve)\n",
        "b = 1/bond_price\n",
        "c = cr_payment/(1 + yield_curve) + 2*(cr_payment/(1 + yield_curve)**2) + 3*((fv + cr_payment)/(1 + yield_curve)**3)\n",
        "md = a*b*c\n",
        "md"
      ],
      "metadata": {
        "id": "JzxZSoLYCKv0"
      },
      "execution_count": null,
      "outputs": []
    },
    {
      "cell_type": "markdown",
      "source": [
        "C. Compute convexity of the bond"
      ],
      "metadata": {
        "id": "RceKtrtJraIE"
      }
    },
    {
      "cell_type": "code",
      "source": [
        "a = 1/2\n",
        "b = 1/(bond_price*(1 + yield_curve)**2)\n",
        "c = (cr_payment*2)/(1 + yield_curve) + (cr_payment*2*3)/(1 + yield_curve)**2 + ((fv + cr_payment)*3*4)/(1 + yield_curve)**3\n",
        "convexity = a*b*c\n",
        "convexity"
      ],
      "metadata": {
        "id": "CA-XJox0CKr0"
      },
      "execution_count": null,
      "outputs": []
    },
    {
      "cell_type": "markdown",
      "source": [
        "D. Compute the value of the bond price following the change in interest rate"
      ],
      "metadata": {
        "id": "fGyfaQk3vsK9"
      }
    },
    {
      "cell_type": "code",
      "source": [
        "delta_bond = bond_price*(-md)*0.029\n",
        "new_bond_price = delta_bond + bond_price\n",
        "new_bond_price"
      ],
      "metadata": {
        "id": "hTBmzdpYCJIa"
      },
      "execution_count": null,
      "outputs": []
    },
    {
      "cell_type": "markdown",
      "source": [
        "E. Apply second order approximation with bond duration and convexity terms"
      ],
      "metadata": {
        "id": "Faq9s_H5yNNS"
      }
    },
    {
      "cell_type": "code",
      "source": [
        "second = bond_price*convexity*(0.029)**2\n",
        "second_approximation = bond_price + delta_bond + second\n",
        "second_approximation"
      ],
      "metadata": {
        "id": "VeoU1extCJEu"
      },
      "execution_count": null,
      "outputs": []
    },
    {
      "cell_type": "markdown",
      "source": [
        "F. Compute exact value of bond following change in interest rate"
      ],
      "metadata": {
        "id": "pmU03GYEzxhI"
      }
    },
    {
      "cell_type": "code",
      "source": [
        "rate_increase = 2.9/100\n",
        "positive_parallel_shift = yield_curve + rate_increase\n",
        "print(positive_parallel_shift)\n",
        "exact_price = cr_payment/(1 + positive_parallel_shift) + cr_payment/(1 + positive_parallel_shift)**2 + (cr_payment + fv)/(1 + positive_parallel_shift)**3\n",
        "exact_price"
      ],
      "metadata": {
        "id": "pqpAg46GCJAu"
      },
      "execution_count": null,
      "outputs": []
    }
  ]
}