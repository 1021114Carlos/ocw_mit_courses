{
  "nbformat": 4,
  "nbformat_minor": 0,
  "metadata": {
    "colab": {
      "provenance": [],
      "authorship_tag": "ABX9TyOM4AQ2JIWMn1eVl4rbCXlz",
      "include_colab_link": true
    },
    "kernelspec": {
      "name": "python3",
      "display_name": "Python 3"
    },
    "language_info": {
      "name": "python"
    }
  },
  "cells": [
    {
      "cell_type": "markdown",
      "metadata": {
        "id": "view-in-github",
        "colab_type": "text"
      },
      "source": [
        "<a href=\"https://colab.research.google.com/github/1021114Carlos/ocw_mit_courses/blob/manufacturing_shop/FMF%201/Lectures/Assignments/FMF_Module_2.ipynb\" target=\"_parent\"><img src=\"https://colab.research.google.com/assets/colab-badge.svg\" alt=\"Open In Colab\"/></a>"
      ]
    },
    {
      "cell_type": "markdown",
      "source": [
        "_to find state prices_\n",
        "\n",
        "\n",
        "$P = Φ_1x_1 + Φ_2x_2$\n"
      ],
      "metadata": {
        "id": "gKvUClNaLKmA"
      }
    },
    {
      "cell_type": "code",
      "source": [
        "import numpy as np"
      ],
      "metadata": {
        "id": "EGBLVimCVL2B"
      },
      "execution_count": 1,
      "outputs": []
    },
    {
      "cell_type": "code",
      "execution_count": 7,
      "metadata": {
        "id": "vO5FMvhtIBs4",
        "colab": {
          "base_uri": "https://localhost:8080/"
        },
        "outputId": "35eb43a6-8038-454e-f6c4-2db36e35eba9"
      },
      "outputs": [
        {
          "output_type": "stream",
          "name": "stdout",
          "text": [
            "[0.5 0.5]\n"
          ]
        }
      ],
      "source": [
        "# Asset A = 1.40    States 1 and 2 payoff = 1.70, 1.10\n",
        "# Asset B = 1.60    States 1 and 2 payoff = 1.30, 1.90\n",
        "# are are the state prices, meaning finding phi\n",
        "\n",
        "asset_A_B_payoffs = np.array([[1.70, 1.10], [1.30, 1.90]])\n",
        "price_assets_A_B = np.array([1.40, 1.60])\n",
        "\n",
        "state_prices_A_B =  np.linalg.solve(asset_A_B_payoffs, price_assets_A_B)\n",
        "print(state_prices_A_B)"
      ]
    },
    {
      "cell_type": "code",
      "source": [
        "# Asset C payoffs State 1 and 2: 7.00,  9.50\n",
        "# What is the price\n",
        "p = 0.5*7.00 + 0.5*9.5\n",
        "print(p)"
      ],
      "metadata": {
        "colab": {
          "base_uri": "https://localhost:8080/"
        },
        "id": "vhOY2GcyWU4S",
        "outputId": "b515f447-5c7c-4bbf-9ee9-aeb2fcfd6ca4"
      },
      "execution_count": 8,
      "outputs": [
        {
          "output_type": "stream",
          "name": "stdout",
          "text": [
            "8.25\n"
          ]
        }
      ]
    },
    {
      "cell_type": "markdown",
      "source": [
        "_present value_\n",
        "\n",
        "$PV = FV÷{(1 + R)}$"
      ],
      "metadata": {
        "id": "q_uSefsvbs1W"
      }
    },
    {
      "cell_type": "code",
      "source": [
        "# 1.90 in Millions\n",
        "# various years\n",
        "# Discount rate from the market is 3%"
      ],
      "metadata": {
        "colab": {
          "base_uri": "https://localhost:8080/"
        },
        "id": "fwilw_T9Y7oW",
        "outputId": "5d7936a5-9302-49d7-ecd2-a8d83071a6d4"
      },
      "execution_count": 26,
      "outputs": [
        {
          "output_type": "stream",
          "name": "stdout",
          "text": [
            "68960.45655517663\n"
          ]
        }
      ]
    },
    {
      "cell_type": "code",
      "source": [
        "# 5 years\n",
        "pv = 1900000/(1 + (3/100))**5\n",
        "pv"
      ],
      "metadata": {
        "colab": {
          "base_uri": "https://localhost:8080/"
        },
        "id": "d_faLmpTcb8h",
        "outputId": "e427bd12-9042-4c7d-9a93-308249f8e241"
      },
      "execution_count": 16,
      "outputs": [
        {
          "output_type": "execute_result",
          "data": {
            "text/plain": [
              "1638956.6903299114"
            ]
          },
          "metadata": {},
          "execution_count": 16
        }
      ]
    },
    {
      "cell_type": "code",
      "source": [
        "# 10 years\n",
        "pv = 1900000/(1 + (3/100))**10\n",
        "pv"
      ],
      "metadata": {
        "colab": {
          "base_uri": "https://localhost:8080/"
        },
        "id": "Q1ZB7dfAg4Ke",
        "outputId": "8e31df47-40a6-44a0-df5c-0e95d86e8b94"
      },
      "execution_count": 19,
      "outputs": [
        {
          "output_type": "execute_result",
          "data": {
            "text/plain": [
              "1413778.4383037775"
            ]
          },
          "metadata": {},
          "execution_count": 19
        }
      ]
    },
    {
      "cell_type": "code",
      "source": [
        "# 50 years\n",
        "pv = 1900000/(1 + 0.03)**50\n",
        "pv"
      ],
      "metadata": {
        "colab": {
          "base_uri": "https://localhost:8080/"
        },
        "id": "gxdgE8QUETCH",
        "outputId": "b380c8ad-7150-4371-b7e7-d171a0ebfd96"
      },
      "execution_count": 18,
      "outputs": [
        {
          "output_type": "execute_result",
          "data": {
            "text/plain": [
              "433403.4516005316"
            ]
          },
          "metadata": {},
          "execution_count": 18
        }
      ]
    },
    {
      "cell_type": "code",
      "source": [
        "# Now the discount rate is 7%\n",
        "# 1.9 millions\n",
        "# in years"
      ],
      "metadata": {
        "id": "ZxdcN9wJEs2a"
      },
      "execution_count": null,
      "outputs": []
    },
    {
      "cell_type": "code",
      "source": [
        "pv = 1900000/(1 + (7/100))**5\n",
        "pv"
      ],
      "metadata": {
        "id": "808QE4RsJPh6",
        "outputId": "7ee8523c-13a6-4018-8bee-50cf65d19fbd",
        "colab": {
          "base_uri": "https://localhost:8080/"
        }
      },
      "execution_count": 20,
      "outputs": [
        {
          "output_type": "execute_result",
          "data": {
            "text/plain": [
              "1354673.7410189696"
            ]
          },
          "metadata": {},
          "execution_count": 20
        }
      ]
    },
    {
      "cell_type": "code",
      "source": [
        "pv = 1900000/(1 + (7/100))**10\n",
        "pv"
      ],
      "metadata": {
        "id": "X13ufqIbJPZC",
        "outputId": "2be464c0-f801-4ccb-d540-cee33c6612e4",
        "colab": {
          "base_uri": "https://localhost:8080/"
        }
      },
      "execution_count": 21,
      "outputs": [
        {
          "output_type": "execute_result",
          "data": {
            "text/plain": [
              "965863.6550559634"
            ]
          },
          "metadata": {},
          "execution_count": 21
        }
      ]
    },
    {
      "cell_type": "code",
      "source": [
        "pv = 1900000/(1 + (7/100))**50\n",
        "pv"
      ],
      "metadata": {
        "id": "4uGdIaJaJPRT",
        "outputId": "a034169d-442b-4538-947f-3dec18c3030b",
        "colab": {
          "base_uri": "https://localhost:8080/"
        }
      },
      "execution_count": 22,
      "outputs": [
        {
          "output_type": "execute_result",
          "data": {
            "text/plain": [
              "64500.74289348118"
            ]
          },
          "metadata": {},
          "execution_count": 22
        }
      ]
    },
    {
      "cell_type": "markdown",
      "source": [
        "_Future Value_\n",
        "\n",
        "$fv = pv(1 + r)^t$"
      ],
      "metadata": {
        "id": "qwxWsJKhPvNF"
      }
    },
    {
      "cell_type": "code",
      "source": [
        "# year was 1626 and purchased Manhattan for $24.00\n",
        "# current year 2020\n",
        "\n",
        "# suppose the $24 would have been invested instead.\n",
        "# interest rate 5%"
      ],
      "metadata": {
        "id": "WasdUAFSJPJX"
      },
      "execution_count": null,
      "outputs": []
    },
    {
      "cell_type": "code",
      "source": [
        "# Value of of $24 in year 2020\n",
        "time = 2020 - 1626\n",
        "print(time)\n",
        "pv = 24\n",
        "r = 1 + (5/100)\n"
      ],
      "metadata": {
        "id": "I_TZdovQOoBr",
        "outputId": "1ce252dc-7ae8-4a40-d61e-69e8a24a8da5",
        "colab": {
          "base_uri": "https://localhost:8080/"
        }
      },
      "execution_count": 31,
      "outputs": [
        {
          "output_type": "stream",
          "name": "stdout",
          "text": [
            "394\n"
          ]
        }
      ]
    },
    {
      "cell_type": "code",
      "source": [
        "fv = pv*r**time\n",
        "fv"
      ],
      "metadata": {
        "id": "BC7M4zFCOn0m",
        "outputId": "1bacd2b5-476a-4605-8575-5fc46b604684",
        "colab": {
          "base_uri": "https://localhost:8080/"
        }
      },
      "execution_count": 32,
      "outputs": [
        {
          "output_type": "execute_result",
          "data": {
            "text/plain": [
              "5355438979.43367"
            ]
          },
          "metadata": {},
          "execution_count": 32
        }
      ]
    },
    {
      "cell_type": "code",
      "source": [
        "# now interest rate is 6%"
      ],
      "metadata": {
        "id": "J1gvMJO7Ons9"
      },
      "execution_count": null,
      "outputs": []
    },
    {
      "cell_type": "code",
      "source": [
        "r = 1 + (6/100)"
      ],
      "metadata": {
        "id": "muP6GflUOniT"
      },
      "execution_count": 33,
      "outputs": []
    },
    {
      "cell_type": "code",
      "source": [
        "fv = pv*r**time\n",
        "fv"
      ],
      "metadata": {
        "id": "4uTF_H4IJNul",
        "outputId": "c822ad1b-67f1-4a40-fb5d-90497ae123d5",
        "colab": {
          "base_uri": "https://localhost:8080/"
        }
      },
      "execution_count": 35,
      "outputs": [
        {
          "output_type": "execute_result",
          "data": {
            "text/plain": [
              "224244683837.58118"
            ]
          },
          "metadata": {},
          "execution_count": 35
        }
      ]
    },
    {
      "cell_type": "code",
      "source": [
        "# Now interest rate is 7%"
      ],
      "metadata": {
        "id": "3xR8fsaYRpU1"
      },
      "execution_count": null,
      "outputs": []
    },
    {
      "cell_type": "code",
      "source": [
        "r = 1 + (7/100)\n",
        "print(r)"
      ],
      "metadata": {
        "id": "mIpIOjPnRpME",
        "outputId": "dbee5f21-351c-4b13-db89-cf15ab41f740",
        "colab": {
          "base_uri": "https://localhost:8080/"
        }
      },
      "execution_count": 39,
      "outputs": [
        {
          "output_type": "stream",
          "name": "stdout",
          "text": [
            "1.07\n"
          ]
        }
      ]
    },
    {
      "cell_type": "code",
      "source": [
        "fv = pv*r**time\n",
        "fv"
      ],
      "metadata": {
        "id": "PTN-raU_RNA4",
        "outputId": "55218da3-f4f4-4a52-bcf1-0a2e34cebe36",
        "colab": {
          "base_uri": "https://localhost:8080/"
        }
      },
      "execution_count": 40,
      "outputs": [
        {
          "output_type": "execute_result",
          "data": {
            "text/plain": [
              "9066082143624.828"
            ]
          },
          "metadata": {},
          "execution_count": 40
        }
      ]
    },
    {
      "cell_type": "code",
      "source": [
        "# Sales of 6 Millions for the last fiscal year\n",
        "# Sales growth at 6% in real terms for the next 3 years\n",
        "# Inflation is 3% per year\n",
        "# Appropriate nominal discount rate is 13%"
      ],
      "metadata": {
        "id": "OniGkCqCR_ee",
        "outputId": "93be4fa8-abf4-463b-db23-4d51e49ad2a2",
        "colab": {
          "base_uri": "https://localhost:8080/"
        }
      },
      "execution_count": 41,
      "outputs": [
        {
          "output_type": "stream",
          "name": "stdout",
          "text": [
            "100.0\n"
          ]
        }
      ]
    },
    {
      "cell_type": "code",
      "source": [
        "# Expected sales revenue for the next 3 years, in nominal terms\n",
        "# sales 6 million\n",
        "\n",
        "\n",
        "revenue = 6000000\n",
        "realtermGrowth = 6/100\n",
        "inflation = 3/100\n",
        "\n",
        "year_1 = revenue*(1 + realtermGrowth)*(1 + inflation)\n",
        "year_1"
      ],
      "metadata": {
        "id": "jxS3yu6HTiQW",
        "outputId": "e69dd161-0da7-48d5-8260-5cc361a260fe",
        "colab": {
          "base_uri": "https://localhost:8080/"
        }
      },
      "execution_count": 53,
      "outputs": [
        {
          "output_type": "execute_result",
          "data": {
            "text/plain": [
              "6550800.0"
            ]
          },
          "metadata": {},
          "execution_count": 53
        }
      ]
    },
    {
      "cell_type": "code",
      "source": [
        "year_2 = revenue*((1 + realtermGrowth)*(1 + inflation))**2\n",
        "year_2"
      ],
      "metadata": {
        "id": "t1fIb_oKaZjS",
        "outputId": "26d027af-7152-463d-e02a-40d2de810f85",
        "colab": {
          "base_uri": "https://localhost:8080/"
        }
      },
      "execution_count": 55,
      "outputs": [
        {
          "output_type": "execute_result",
          "data": {
            "text/plain": [
              "7152163.440000001"
            ]
          },
          "metadata": {},
          "execution_count": 55
        }
      ]
    },
    {
      "cell_type": "code",
      "source": [
        "# year 3\n",
        "\n",
        "year_3 = revenue*((1 + realtermGrowth)*(1 + inflation))**3\n",
        "year_3"
      ],
      "metadata": {
        "id": "l-hfCI_raxbQ",
        "outputId": "d11db477-29ad-4cb7-858d-01eef6cf4ee1",
        "colab": {
          "base_uri": "https://localhost:8080/"
        }
      },
      "execution_count": 56,
      "outputs": [
        {
          "output_type": "execute_result",
          "data": {
            "text/plain": [
              "7808732.043792003"
            ]
          },
          "metadata": {},
          "execution_count": 56
        }
      ]
    },
    {
      "cell_type": "code",
      "source": [],
      "metadata": {
        "id": "TomYOXT6cek0"
      },
      "execution_count": null,
      "outputs": []
    },
    {
      "cell_type": "code",
      "source": [
        "year2 = revenue*((1 + realtermGrowth)*(1 + inflation))**2\n",
        "year2"
      ],
      "metadata": {
        "id": "rfPZMHEwa9a5",
        "outputId": "2fe90136-0c13-420c-bb60-58a2073bed90",
        "colab": {
          "base_uri": "https://localhost:8080/"
        }
      },
      "execution_count": 49,
      "outputs": [
        {
          "output_type": "execute_result",
          "data": {
            "text/plain": [
              "12858927.840000004"
            ]
          },
          "metadata": {},
          "execution_count": 49
        }
      ]
    },
    {
      "cell_type": "code",
      "source": [],
      "metadata": {
        "id": "FzW1T1dzbRfR"
      },
      "execution_count": null,
      "outputs": []
    }
  ]
}