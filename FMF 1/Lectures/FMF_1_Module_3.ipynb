{
  "nbformat": 4,
  "nbformat_minor": 0,
  "metadata": {
    "colab": {
      "private_outputs": true,
      "provenance": [],
      "authorship_tag": "ABX9TyOWX9B+kZuI9+VSO9fB+gY1",
      "include_colab_link": true
    },
    "kernelspec": {
      "name": "python3",
      "display_name": "Python 3"
    },
    "language_info": {
      "name": "python"
    }
  },
  "cells": [
    {
      "cell_type": "markdown",
      "metadata": {
        "id": "view-in-github",
        "colab_type": "text"
      },
      "source": [
        "<a href=\"https://colab.research.google.com/github/1021114Carlos/ocw_mit_courses/blob/manufacturing_shop/FMF%201/Lectures/FMF_1_Module_3.ipynb\" target=\"_parent\"><img src=\"https://colab.research.google.com/assets/colab-badge.svg\" alt=\"Open In Colab\"/></a>"
      ]
    },
    {
      "cell_type": "markdown",
      "source": [
        "## Exercises from lecture"
      ],
      "metadata": {
        "id": "Ej9HXmWUKmYW"
      }
    },
    {
      "cell_type": "markdown",
      "source": [
        "- $PV(Annuity) = A(\\frac{1}{r})[1 - \\frac{1}{(1 + r)^t}]$\n",
        "\n",
        "- $FV(Annuity) = (1 + r)^t *PV(Annuity)$"
      ],
      "metadata": {
        "id": "4sU7S0dSL0hO"
      }
    },
    {
      "cell_type": "code",
      "execution_count": null,
      "metadata": {
        "id": "3kLQuEtdKfAW"
      },
      "outputs": [],
      "source": [
        "# Insurance company sells an annuity for $10k per year for 20 years\n",
        "# Suppose r = 5%\n",
        "# What should the company sell it for?"
      ]
    },
    {
      "cell_type": "markdown",
      "source": [
        "1."
      ],
      "metadata": {
        "id": "xaOnQZgvYHUj"
      }
    },
    {
      "cell_type": "code",
      "source": [
        "annuity_per_year = 10000\n",
        "time = 20\n",
        "rate = 5/100"
      ],
      "metadata": {
        "id": "kpkVKjpQXLnA"
      },
      "execution_count": null,
      "outputs": []
    },
    {
      "cell_type": "code",
      "source": [
        "pv = annuity_per_year*(1/rate)*(1 - (1/(1 + rate)**20))\n",
        "pv"
      ],
      "metadata": {
        "id": "C2TU69ebXcp3"
      },
      "execution_count": null,
      "outputs": []
    },
    {
      "cell_type": "markdown",
      "source": [
        "2."
      ],
      "metadata": {
        "id": "A4ajIoKqYKkY"
      }
    },
    {
      "cell_type": "markdown",
      "source": [
        "- PV(Annuity with growth rate) = $A*[\\frac{1}{1 + r} + \\frac{1 + g}{(1 + r)^2}$\n",
        "$+ ... + \\frac{(1 + g)^{t-1}}{(1 + r)^t}]$\n",
        "\n",
        "  = $A*\\left\\{ \\begin{array}{crl}{\\frac{1}{1 - g}[1 - (\\frac{1 + g}{1 + r})^t]} & if & r \\neq g\n",
        "\\\\ \\frac{t}{1 + r} & if & r = g\\end{array} \\right.$\n"
      ],
      "metadata": {
        "id": "A6uYkRb7YutJ"
      }
    },
    {
      "cell_type": "code",
      "source": [
        "# Saving for retirement\n",
        "\n",
        "# 30 year-old needs 2M by age 65 to retire.\n",
        "# each year same an amount that grows 5% each year.\n",
        "# how much to start saving now. rate is 8%"
      ],
      "metadata": {
        "id": "gK0HRpWnXv1_"
      },
      "execution_count": null,
      "outputs": []
    },
    {
      "cell_type": "code",
      "source": [],
      "metadata": {
        "id": "2rNON-6oYn6f"
      },
      "execution_count": null,
      "outputs": []
    }
  ]
}