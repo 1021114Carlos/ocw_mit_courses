{
  "nbformat": 4,
  "nbformat_minor": 0,
  "metadata": {
    "colab": {
      "private_outputs": true,
      "provenance": [],
      "authorship_tag": "ABX9TyPBFbKmaxbF778tKhYLclR1",
      "include_colab_link": true
    },
    "kernelspec": {
      "name": "python3",
      "display_name": "Python 3"
    },
    "language_info": {
      "name": "python"
    }
  },
  "cells": [
    {
      "cell_type": "markdown",
      "metadata": {
        "id": "view-in-github",
        "colab_type": "text"
      },
      "source": [
        "<a href=\"https://colab.research.google.com/github/1021114Carlos/ocw_mit_courses/blob/manufacturing_shop/FMF%201/Lectures/FMF_1_Module_3.ipynb\" target=\"_parent\"><img src=\"https://colab.research.google.com/assets/colab-badge.svg\" alt=\"Open In Colab\"/></a>"
      ]
    },
    {
      "cell_type": "markdown",
      "source": [
        "## Exercises from lecture"
      ],
      "metadata": {
        "id": "Ej9HXmWUKmYW"
      }
    },
    {
      "cell_type": "markdown",
      "source": [
        "- $PV(Annuity) = A(\\frac{1}{r})[1 - \\frac{1}{(1 + r)^t}]$\n",
        "\n",
        "- $FV(Annuity) = (1 + r)^t *PV(Annuity)$"
      ],
      "metadata": {
        "id": "4sU7S0dSL0hO"
      }
    },
    {
      "cell_type": "markdown",
      "source": [
        "- PV(Annuity with growth rate) = $A*[\\frac{1}{1 + r} + \\frac{1 + g}{(1 + r)^2}$\n",
        "$+ ... + \\frac{(1 + g)^{t-1}}{(1 + r)^t}]$\n",
        "\n",
        "  = $A*\\left\\{ \\begin{array}{crl}{\\frac{1}{r - g}[1 - (\\frac{1 + g}{1 + r})^t]} & if & r \\neq g\n",
        "\\\\ \\frac{t}{1 + r} & if & r = g\\end{array} \\right.$\n"
      ],
      "metadata": {
        "id": "A6uYkRb7YutJ"
      }
    },
    {
      "cell_type": "markdown",
      "source": [
        "_Perpetuity: an annuity with infinite maturity_\n",
        "\n",
        "* $PV(perpetuity) = \\frac{A}{r}$\n",
        "\n",
        "_Perpetuity with constant grow g_\n",
        "\n",
        "* $PV(perpetuity \\ with \\ growth) = \\frac{A}{r - g}  \\ if \\ r > g$"
      ],
      "metadata": {
        "id": "quv4RvcIx__j"
      }
    },
    {
      "cell_type": "markdown",
      "source": [
        "_Compounding_\n",
        "\n",
        "**APR**\n",
        "\n",
        "* $(1 + \\frac{r_{apr}}{k})^k$\n",
        "\n",
        "**EAR**\n",
        "\n",
        "- $(1 + r_{ear}) = APR ↔ r_{ear} = APR - 1$"
      ],
      "metadata": {
        "id": "siGHrBA11i7f"
      }
    },
    {
      "cell_type": "code",
      "execution_count": null,
      "metadata": {
        "id": "3kLQuEtdKfAW"
      },
      "outputs": [],
      "source": [
        "# Insurance company sells an annuity for $10k per year for 20 years\n",
        "# Suppose r = 5%\n",
        "# What should the company sell it for?"
      ]
    },
    {
      "cell_type": "markdown",
      "source": [
        "1."
      ],
      "metadata": {
        "id": "xaOnQZgvYHUj"
      }
    },
    {
      "cell_type": "code",
      "source": [
        "annuity_per_year = 10000\n",
        "time = 20\n",
        "rate = 5/100"
      ],
      "metadata": {
        "id": "kpkVKjpQXLnA"
      },
      "execution_count": null,
      "outputs": []
    },
    {
      "cell_type": "code",
      "source": [
        "pv = annuity_per_year*(1/rate)*(1 - (1/(1 + rate)**20))\n",
        "pv"
      ],
      "metadata": {
        "id": "C2TU69ebXcp3"
      },
      "execution_count": null,
      "outputs": []
    },
    {
      "cell_type": "markdown",
      "source": [
        "2."
      ],
      "metadata": {
        "id": "A4ajIoKqYKkY"
      }
    },
    {
      "cell_type": "code",
      "source": [
        "# Saving for retirement\n",
        "\n",
        "# 30 year-old needs 2M by age 65 to retire.\n",
        "# Each year same an amount that grows 5% each year.\n",
        "# Rate is 8%\n",
        "# How much to start saving now?"
      ],
      "metadata": {
        "id": "gK0HRpWnXv1_"
      },
      "execution_count": null,
      "outputs": []
    },
    {
      "cell_type": "code",
      "source": [
        "rate = 8/100\n",
        "growthRate = 5/100\n",
        "time = 35\n",
        "amount = 2000000"
      ],
      "metadata": {
        "id": "2rNON-6oYn6f"
      },
      "execution_count": null,
      "outputs": []
    },
    {
      "cell_type": "code",
      "source": [
        "difference = rate - growthRate\n",
        "difference\n",
        "# needs work"
      ],
      "metadata": {
        "id": "ZRCYgMmO_bLd"
      },
      "execution_count": null,
      "outputs": []
    },
    {
      "cell_type": "code",
      "source": [
        "div = (1 - ((1 + growthRate)/(1 + rate))**time)\n",
        "div\n",
        "# needs work"
      ],
      "metadata": {
        "id": "T5qpw6u0_bHR"
      },
      "execution_count": null,
      "outputs": []
    },
    {
      "cell_type": "code",
      "source": [
        "mult = difference*div\n",
        "mult\n",
        "# needs work"
      ],
      "metadata": {
        "id": "Sg2uh-Se_bCw"
      },
      "execution_count": null,
      "outputs": []
    },
    {
      "cell_type": "code",
      "source": [
        "save = mult*amount\n",
        "save\n",
        "# needs work"
      ],
      "metadata": {
        "id": "ADayOoUJCcvQ"
      },
      "execution_count": null,
      "outputs": []
    },
    {
      "cell_type": "code",
      "source": [
        "pv = amount*((rate - growthRate)*(1 - ((1 + growthRate)/(1 + rate))**time))\n",
        "pv\n",
        "# needs work"
      ],
      "metadata": {
        "id": "_YgjqKtG89B3"
      },
      "execution_count": null,
      "outputs": []
    },
    {
      "cell_type": "markdown",
      "source": [
        "3."
      ],
      "metadata": {
        "id": "7KqexMu9G1Dt"
      }
    },
    {
      "cell_type": "code",
      "source": [
        "# Receive payments of $100000 per month for 20 years.\n",
        "# Rate = 10%\n",
        "# Will this payments accumulate to over a million after 20 years\n",
        "\n",
        "# PV(annuity) = A(1/r)(1 - (1/(1 + r)^t))"
      ],
      "metadata": {
        "id": "qem_5CCQCg6n"
      },
      "execution_count": null,
      "outputs": []
    },
    {
      "cell_type": "code",
      "source": [
        "time = 20\n",
        "rate = 10/100\n",
        "payment = 100000"
      ],
      "metadata": {
        "id": "d3GN4ltnCg1D"
      },
      "execution_count": null,
      "outputs": []
    },
    {
      "cell_type": "code",
      "source": [
        "pv = payment*(1/rate)*(1 - (1/(1 + rate)**time))\n",
        "pv"
      ],
      "metadata": {
        "id": "-j-Z_kWiIMIF"
      },
      "execution_count": null,
      "outputs": []
    },
    {
      "cell_type": "code",
      "source": [],
      "metadata": {
        "id": "XsPU6WMkCguF"
      },
      "execution_count": null,
      "outputs": []
    },
    {
      "cell_type": "code",
      "source": [],
      "metadata": {
        "id": "dEPVeZtcD9Aw"
      },
      "execution_count": null,
      "outputs": []
    },
    {
      "cell_type": "code",
      "source": [],
      "metadata": {
        "id": "Ooh_WlU7Cggr"
      },
      "execution_count": null,
      "outputs": []
    },
    {
      "cell_type": "code",
      "source": [],
      "metadata": {
        "id": "U_6nMqT19lXV"
      },
      "execution_count": null,
      "outputs": []
    }
  ]
}