{
  "nbformat": 4,
  "nbformat_minor": 0,
  "metadata": {
    "colab": {
      "provenance": [],
      "authorship_tag": "ABX9TyM/cybZHBcto5aQMYGWUKIS",
      "include_colab_link": true
    },
    "kernelspec": {
      "name": "python3",
      "display_name": "Python 3"
    },
    "language_info": {
      "name": "python"
    }
  },
  "cells": [
    {
      "cell_type": "markdown",
      "metadata": {
        "id": "view-in-github",
        "colab_type": "text"
      },
      "source": [
        "<a href=\"https://colab.research.google.com/github/1021114Carlos/ocw_mit_courses/blob/manufacturing_shop/%20%20%20%206.041SC%20Probabilistic%20Systems/recitations/6_041SC_practice_problems_1.ipynb\" target=\"_parent\"><img src=\"https://colab.research.google.com/assets/colab-badge.svg\" alt=\"Open In Colab\"/></a>"
      ]
    },
    {
      "cell_type": "code",
      "execution_count": 1,
      "metadata": {
        "id": "RHPa1Pct5gld"
      },
      "outputs": [],
      "source": [
        "import matplotlib.pyplot as plt\n",
        "from matplotlib_venn import venn3, venn2, venn2_circles, venn3_circles\n",
        "import numpy as np"
      ]
    },
    {
      "cell_type": "markdown",
      "source": [
        "$ P(A ∪ B \\cup C) $"
      ],
      "metadata": {
        "id": "_Ebww7t67y7u"
      }
    },
    {
      "cell_type": "code",
      "source": [
        "v = venn3(subsets = (3, 3, .5, 3, .5, .5, .5), set_labels = ('Set1', 'Set2', 'Set3'));\n",
        "c = venn3_circles(subsets = (3, 3, .5, 3, .5, .5, .5), linestyle=\"dashed\", linewidth=1, color=\"grey\");\n",
        "\n",
        "c[0].set_color(\"skyblue\")\n",
        "c[1].set_color(\"skyblue\")\n",
        "c[2].set_color('skyblue')\n",
        "plt.show();"
      ],
      "metadata": {
        "colab": {
          "base_uri": "https://localhost:8080/",
          "height": 406
        },
        "id": "ldlWAR846rXx",
        "outputId": "ec261a7a-32e5-4363-c0e1-684b2a292440"
      },
      "execution_count": 42,
      "outputs": [
        {
          "output_type": "display_data",
          "data": {
            "text/plain": [
              "<Figure size 640x480 with 1 Axes>"
            ],
            "image/png": "[encoded data removed]"
          },
          "metadata": {}
        }
      ]
    },
    {
      "cell_type": "markdown",
      "source": [
        "2. At most one of the events A, B, C, occurs."
      ],
      "metadata": {
        "id": "wLUWrIFzIY5u"
      }
    },
    {
      "cell_type": "markdown",
      "source": [
        "$ P(A^c ∩ B^c ∩ C) ∪ P(A ∩ B^c ∩ C^c) ∪ P(A^c ∩ B ∩ C^c) ∪ P(A^c ∩ B^c ∩ C^c)$"
      ],
      "metadata": {
        "id": "t711zBDaImTv"
      }
    },
    {
      "cell_type": "markdown",
      "source": [
        "3. None of the events A, B, C occurs.\n",
        "\n",
        "$ P(A ∪ B ∪ C)^c = A^c ∩ B^c ∩ C^c $"
      ],
      "metadata": {
        "id": "TZELIvCJIJ8b"
      }
    },
    {
      "cell_type": "code",
      "source": [],
      "metadata": {
        "id": "eo-j0BvvIJgt"
      },
      "execution_count": null,
      "outputs": []
    },
    {
      "cell_type": "code",
      "source": [
        "v:enn3(subsets = (1, 2, 1, 2, 2, 4), set_labels = ('Set1', 'Set2', 'Set3'))"
      ],
      "metadata": {
        "id": "Dc2oXS8s8nu2"
      },
      "execution_count": null,
      "outputs": []
    },
    {
      "cell_type": "code",
      "source": [],
      "metadata": {
        "id": "mf7mNF0iT71i"
      },
      "execution_count": null,
      "outputs": []
    }
  ]
}