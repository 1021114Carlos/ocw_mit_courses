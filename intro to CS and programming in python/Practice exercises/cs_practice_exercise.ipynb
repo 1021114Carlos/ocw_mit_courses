{
  "nbformat": 4,
  "nbformat_minor": 0,
  "metadata": {
    "colab": {
      "provenance": [],
      "include_colab_link": true
    },
    "kernelspec": {
      "name": "python3",
      "display_name": "Python 3"
    },
    "language_info": {
      "name": "python"
    }
  },
  "cells": [
    {
      "cell_type": "markdown",
      "metadata": {
        "id": "view-in-github",
        "colab_type": "text"
      },
      "source": [
        "<a href=\"https://colab.research.google.com/github/1021114Carlos/ocw_mit_courses/blob/manufacturing_shop/intro%20to%20CS%20and%20programming%20in%20python/Practice%20exercises/cs_practice_exercise.ipynb\" target=\"_parent\"><img src=\"https://colab.research.google.com/assets/colab-badge.svg\" alt=\"Open In Colab\"/></a>"
      ]
    },
    {
      "cell_type": "markdown",
      "source": [
        "L1"
      ],
      "metadata": {
        "id": "al1m-58SgIk-"
      }
    },
    {
      "cell_type": "code",
      "source": [
        "import math"
      ],
      "metadata": {
        "id": "ZL3k9u1Ehcvi"
      },
      "execution_count": null,
      "outputs": []
    },
    {
      "cell_type": "code",
      "execution_count": null,
      "metadata": {
        "id": "bbLTfdE7W6ak",
        "outputId": "d5887563-9cc7-408a-9ab1-291ee2a2577e",
        "colab": {
          "base_uri": "https://localhost:8080/"
        }
      },
      "outputs": [
        {
          "output_type": "execute_result",
          "data": {
            "text/plain": [
              "57.465694135499994"
            ]
          },
          "metadata": {},
          "execution_count": 6
        }
      ],
      "source": [
        "pi = 3.14159\n",
        "e = 2.71828\n",
        "g = 9.80665\n",
        "constants = [pi, e]\n",
        "total = (sum(constants))*g\n",
        "total"
      ]
    },
    {
      "cell_type": "markdown",
      "source": [
        "L2"
      ],
      "metadata": {
        "id": "Dn5y2w3Wm3_W"
      }
    },
    {
      "cell_type": "code",
      "source": [
        "num = [1, 0, -1]\n",
        "\n",
        "for n in num:\n",
        "  if n > 0:\n",
        "    print(\"Positive\")\n",
        "  elif n < 0:\n",
        "    print(\"Negative\")\n",
        "  else:\n",
        "    print('Zero')\n",
        "\n"
      ],
      "metadata": {
        "id": "e8yFBBwkg5vi",
        "colab": {
          "base_uri": "https://localhost:8080/"
        },
        "outputId": "20858453-5aa9-42d1-9400-42584ceaf64c"
      },
      "execution_count": null,
      "outputs": [
        {
          "output_type": "stream",
          "name": "stdout",
          "text": [
            "Positive\n",
            "Zero\n",
            "Negative\n"
          ]
        }
      ]
    },
    {
      "cell_type": "markdown",
      "source": [
        "L3"
      ],
      "metadata": {
        "id": "yjVU7LbPt6L8"
      }
    },
    {
      "cell_type": "code",
      "source": [
        "k = 2\n",
        "for i in range(k):\n",
        "  print(\"HW\\n\")"
      ],
      "metadata": {
        "colab": {
          "base_uri": "https://localhost:8080/"
        },
        "id": "g4voKVH4o35p",
        "outputId": "f9f89e68-6cd3-413c-b0a2-fdb7ea17095c"
      },
      "execution_count": null,
      "outputs": [
        {
          "output_type": "stream",
          "name": "stdout",
          "text": [
            "HW\n",
            "\n",
            "HW\n",
            "\n"
          ]
        }
      ]
    },
    {
      "cell_type": "markdown",
      "source": [
        "L4."
      ],
      "metadata": {
        "id": "GQytXAquu88g"
      }
    },
    {
      "cell_type": "code",
      "source": [
        "cube = 8\n",
        "i = 1\n",
        "while i**3 < cube:\n",
        "  i += 1\n",
        "  if i**3 < cube:\n",
        "    print(f'{i} is not a perfect cube')\n",
        "    i += 1\n",
        "  else:\n",
        "    print(f\"{i} is a perfect cube\")\n"
      ],
      "metadata": {
        "colab": {
          "base_uri": "https://localhost:8080/"
        },
        "id": "qkVK2Xvxp0j_",
        "outputId": "76482c79-fadc-43f5-97a1-6e9680162abe"
      },
      "execution_count": null,
      "outputs": [
        {
          "output_type": "stream",
          "name": "stdout",
          "text": [
            "2 is a perfect cube\n"
          ]
        }
      ]
    },
    {
      "cell_type": "markdown",
      "source": [
        "L5"
      ],
      "metadata": {
        "id": "U5LHvZbWzN44"
      }
    },
    {
      "cell_type": "code",
      "source": [
        "my_str = \"Rutherfordium\"\n",
        "c = \"\"\n",
        "for l in range(0, len(my_str), 2):\n",
        "  c += my_str[l]\n",
        "print(c)\n"
      ],
      "metadata": {
        "colab": {
          "base_uri": "https://localhost:8080/"
        },
        "id": "YXNoFYJqvnSe",
        "outputId": "7b04f828-92e2-44cb-90a1-c8f76ce34534"
      },
      "execution_count": null,
      "outputs": [
        {
          "output_type": "stream",
          "name": "stdout",
          "text": [
            "Rtefrim\n"
          ]
        }
      ]
    },
    {
      "cell_type": "markdown",
      "source": [
        "L6"
      ],
      "metadata": {
        "id": "vTByBpqMfPNn"
      }
    },
    {
      "cell_type": "code",
      "source": [
        "pc = int(input(\"What number am i thinking of ?: \"))\n",
        "count = 0\n",
        "h = 100\n",
        "l = 0\n",
        "stop = True\n",
        "while stop:\n",
        "  ans = abs((h + l)//2)\n",
        "  if ans == pc: stop = False\n",
        "  elif ans > pc: h = ans\n",
        "  else: l = ans\n",
        "  count += 1\n",
        "f\"Count is {count}\""
      ],
      "metadata": {
        "id": "1-6wVqhJ0c60",
        "outputId": "cc7c87a9-b2f2-4da1-f088-513deefec61d",
        "colab": {
          "base_uri": "https://localhost:8080/",
          "height": 53
        }
      },
      "execution_count": 13,
      "outputs": [
        {
          "name": "stdout",
          "output_type": "stream",
          "text": [
            "What number am i thinking of ?: 11\n"
          ]
        },
        {
          "output_type": "execute_result",
          "data": {
            "text/plain": [
              "'Count is 7'"
            ],
            "application/vnd.google.colaboratory.intrinsic+json": {
              "type": "string"
            }
          },
          "metadata": {},
          "execution_count": 13
        }
      ]
    },
    {
      "cell_type": "code",
      "source": [
        "print(5>4)"
      ],
      "metadata": {
        "id": "h-BeQqhNgbuL",
        "outputId": "2b1108fc-33da-4a01-8a9a-33a4da03c55a",
        "colab": {
          "base_uri": "https://localhost:8080/"
        }
      },
      "execution_count": null,
      "outputs": [
        {
          "output_type": "stream",
          "name": "stdout",
          "text": [
            "True\n"
          ]
        }
      ]
    },
    {
      "cell_type": "code",
      "source": [],
      "metadata": {
        "id": "rVzPfWB3m1Hj"
      },
      "execution_count": null,
      "outputs": []
    }
  ]
}