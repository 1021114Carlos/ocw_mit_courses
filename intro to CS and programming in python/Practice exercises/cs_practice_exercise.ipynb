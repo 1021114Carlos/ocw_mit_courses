{
  "nbformat": 4,
  "nbformat_minor": 0,
  "metadata": {
    "colab": {
      "provenance": [],
      "include_colab_link": true
    },
    "kernelspec": {
      "name": "python3",
      "display_name": "Python 3"
    },
    "language_info": {
      "name": "python"
    }
  },
  "cells": [
    {
      "cell_type": "markdown",
      "metadata": {
        "id": "view-in-github",
        "colab_type": "text"
      },
      "source": [
        "<a href=\"https://colab.research.google.com/github/1021114Carlos/ocw_mit_courses/blob/manufacturing_shop/intro%20to%20CS%20and%20programming%20in%20python/Practice%20exercises/cs_practice_exercise.ipynb\" target=\"_parent\"><img src=\"https://colab.research.google.com/assets/colab-badge.svg\" alt=\"Open In Colab\"/></a>"
      ]
    },
    {
      "cell_type": "markdown",
      "source": [
        "L1"
      ],
      "metadata": {
        "id": "al1m-58SgIk-"
      }
    },
    {
      "cell_type": "code",
      "source": [
        "import math"
      ],
      "metadata": {
        "id": "ZL3k9u1Ehcvi"
      },
      "execution_count": null,
      "outputs": []
    },
    {
      "cell_type": "code",
      "execution_count": null,
      "metadata": {
        "id": "bbLTfdE7W6ak",
        "outputId": "09504f08-74f2-4d71-b2fb-443d9d3feac5",
        "colab": {
          "base_uri": "https://localhost:8080/"
        }
      },
      "outputs": [
        {
          "output_type": "execute_result",
          "data": {
            "text/plain": [
              "57.465694135499994"
            ]
          },
          "metadata": {},
          "execution_count": 13
        }
      ],
      "source": [
        "pi = 3.14159\n",
        "e = 2.71828\n",
        "g = 9.80665\n",
        "constants = [pi, e]\n",
        "total = (sum(constants))*g\n",
        "total"
      ]
    },
    {
      "cell_type": "markdown",
      "source": [
        "L2"
      ],
      "metadata": {
        "id": "Dn5y2w3Wm3_W"
      }
    },
    {
      "cell_type": "code",
      "source": [],
      "metadata": {
        "id": "e8yFBBwkg5vi"
      },
      "execution_count": null,
      "outputs": []
    }
  ]
}