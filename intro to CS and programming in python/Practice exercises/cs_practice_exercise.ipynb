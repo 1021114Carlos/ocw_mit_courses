{
  "nbformat": 4,
  "nbformat_minor": 0,
  "metadata": {
    "colab": {
      "provenance": [],
      "include_colab_link": true
    },
    "kernelspec": {
      "name": "python3",
      "display_name": "Python 3"
    },
    "language_info": {
      "name": "python"
    }
  },
  "cells": [
    {
      "cell_type": "markdown",
      "metadata": {
        "id": "view-in-github",
        "colab_type": "text"
      },
      "source": [
        "<a href=\"https://colab.research.google.com/github/1021114Carlos/ocw_mit_courses/blob/manufacturing_shop/intro%20to%20CS%20and%20programming%20in%20python/Practice%20exercises/cs_practice_exercise.ipynb\" target=\"_parent\"><img src=\"https://colab.research.google.com/assets/colab-badge.svg\" alt=\"Open In Colab\"/></a>"
      ]
    },
    {
      "cell_type": "code",
      "source": [
        "import numpy as np\n",
        "import math"
      ],
      "metadata": {
        "id": "gSZpv6eX80dn"
      },
      "execution_count": 1,
      "outputs": []
    },
    {
      "cell_type": "markdown",
      "source": [
        "L1"
      ],
      "metadata": {
        "id": "al1m-58SgIk-"
      }
    },
    {
      "cell_type": "code",
      "execution_count": null,
      "metadata": {
        "id": "bbLTfdE7W6ak",
        "outputId": "d5887563-9cc7-408a-9ab1-291ee2a2577e",
        "colab": {
          "base_uri": "https://localhost:8080/"
        }
      },
      "outputs": [
        {
          "output_type": "execute_result",
          "data": {
            "text/plain": [
              "57.465694135499994"
            ]
          },
          "metadata": {},
          "execution_count": 6
        }
      ],
      "source": [
        "pi = 3.14159\n",
        "e = 2.71828\n",
        "g = 9.80665\n",
        "constants = [pi, e]\n",
        "total = (sum(constants))*g\n",
        "total"
      ]
    },
    {
      "cell_type": "markdown",
      "source": [
        "L2"
      ],
      "metadata": {
        "id": "Dn5y2w3Wm3_W"
      }
    },
    {
      "cell_type": "code",
      "source": [
        "num = [1, 0, -1]\n",
        "\n",
        "for n in num:\n",
        "  if n > 0:\n",
        "    print(\"Positive\")\n",
        "  elif n < 0:\n",
        "    print(\"Negative\")\n",
        "  else:\n",
        "    print('Zero')\n",
        "\n"
      ],
      "metadata": {
        "id": "e8yFBBwkg5vi",
        "colab": {
          "base_uri": "https://localhost:8080/"
        },
        "outputId": "20858453-5aa9-42d1-9400-42584ceaf64c"
      },
      "execution_count": null,
      "outputs": [
        {
          "output_type": "stream",
          "name": "stdout",
          "text": [
            "Positive\n",
            "Zero\n",
            "Negative\n"
          ]
        }
      ]
    },
    {
      "cell_type": "markdown",
      "source": [
        "L3"
      ],
      "metadata": {
        "id": "yjVU7LbPt6L8"
      }
    },
    {
      "cell_type": "code",
      "source": [
        "k = 2\n",
        "for i in range(k):\n",
        "  print(\"HW\\n\")"
      ],
      "metadata": {
        "colab": {
          "base_uri": "https://localhost:8080/"
        },
        "id": "g4voKVH4o35p",
        "outputId": "f9f89e68-6cd3-413c-b0a2-fdb7ea17095c"
      },
      "execution_count": null,
      "outputs": [
        {
          "output_type": "stream",
          "name": "stdout",
          "text": [
            "HW\n",
            "\n",
            "HW\n",
            "\n"
          ]
        }
      ]
    },
    {
      "cell_type": "markdown",
      "source": [
        "L4."
      ],
      "metadata": {
        "id": "GQytXAquu88g"
      }
    },
    {
      "cell_type": "code",
      "source": [
        "cube = 8\n",
        "i = 1\n",
        "while i**3 < cube:\n",
        "  i += 1\n",
        "  if i**3 < cube:\n",
        "    print(f'{i} is not a perfect cube')\n",
        "    i += 1\n",
        "  else:\n",
        "    print(f\"{i} is a perfect cube\")\n"
      ],
      "metadata": {
        "colab": {
          "base_uri": "https://localhost:8080/"
        },
        "id": "qkVK2Xvxp0j_",
        "outputId": "76482c79-fadc-43f5-97a1-6e9680162abe"
      },
      "execution_count": null,
      "outputs": [
        {
          "output_type": "stream",
          "name": "stdout",
          "text": [
            "2 is a perfect cube\n"
          ]
        }
      ]
    },
    {
      "cell_type": "markdown",
      "source": [
        "L5"
      ],
      "metadata": {
        "id": "U5LHvZbWzN44"
      }
    },
    {
      "cell_type": "code",
      "source": [
        "my_str = \"Rutherfordium\"\n",
        "c = \"\"\n",
        "for l in range(0, len(my_str), 2):\n",
        "  c += my_str[l]\n",
        "print(c)\n"
      ],
      "metadata": {
        "colab": {
          "base_uri": "https://localhost:8080/"
        },
        "id": "YXNoFYJqvnSe",
        "outputId": "7b04f828-92e2-44cb-90a1-c8f76ce34534"
      },
      "execution_count": null,
      "outputs": [
        {
          "output_type": "stream",
          "name": "stdout",
          "text": [
            "Rtefrim\n"
          ]
        }
      ]
    },
    {
      "cell_type": "markdown",
      "source": [
        "L6"
      ],
      "metadata": {
        "id": "vTByBpqMfPNn"
      }
    },
    {
      "cell_type": "code",
      "source": [
        "pc = int(input(\"What number am i thinking of ?: \"))\n",
        "count = 0\n",
        "h = 100\n",
        "l = 0\n",
        "stop = True\n",
        "while stop:\n",
        "  ans = abs((h + l)//2)\n",
        "  if ans == pc: stop = False\n",
        "  elif ans > pc: h = ans\n",
        "  else: l = ans\n",
        "  count += 1\n",
        "f\"Count is {count}\""
      ],
      "metadata": {
        "id": "1-6wVqhJ0c60",
        "outputId": "cc7c87a9-b2f2-4da1-f088-513deefec61d",
        "colab": {
          "base_uri": "https://localhost:8080/",
          "height": 53
        }
      },
      "execution_count": null,
      "outputs": [
        {
          "name": "stdout",
          "output_type": "stream",
          "text": [
            "What number am i thinking of ?: 11\n"
          ]
        },
        {
          "output_type": "execute_result",
          "data": {
            "text/plain": [
              "'Count is 7'"
            ],
            "application/vnd.google.colaboratory.intrinsic+json": {
              "type": "string"
            }
          },
          "metadata": {},
          "execution_count": 13
        }
      ]
    },
    {
      "cell_type": "markdown",
      "source": [
        "L7"
      ],
      "metadata": {
        "id": "GENqDh-D-_PC"
      }
    },
    {
      "cell_type": "code",
      "source": [
        "def eval_quadratic(a, b, c, x):\n",
        "  \"\"\"\n",
        "  a, b, c: numerical values for the coefficients of a quadratic equation\n",
        "  x: numerical value at which to evaluate the quadratic.\n",
        "  Returns the value of the quadratic a×x² + b×x + c.\n",
        "  \"\"\"\n",
        "\n",
        "  return a*x**2 + b*x + c\n",
        "\n",
        "print(eval_quadratic(1,1,1,1))"
      ],
      "metadata": {
        "id": "h-BeQqhNgbuL",
        "outputId": "7f6028c6-07d8-44d5-e416-e7048af4bb92",
        "colab": {
          "base_uri": "https://localhost:8080/"
        }
      },
      "execution_count": null,
      "outputs": [
        {
          "output_type": "stream",
          "name": "stdout",
          "text": [
            "3\n"
          ]
        }
      ]
    },
    {
      "cell_type": "markdown",
      "source": [
        "Q2."
      ],
      "metadata": {
        "id": "HVikwbW9FL1y"
      }
    },
    {
      "cell_type": "code",
      "source": [
        "def two_quadratics(a1, b1, c1, x1, a2, b2, c2, x2):\n",
        "\n",
        "\n",
        "  print(eval_quadratic(a1, b1, c1, x1) + eval_quadratic(a2, b2, c2, x2))\n",
        "\n",
        "\n",
        "two_quadratics(1,1,1,1,1,1,1,1)\n",
        "print(two_quadratics)"
      ],
      "metadata": {
        "id": "rVzPfWB3m1Hj",
        "outputId": "c4d3f662-478d-4e13-b939-945642735f0a",
        "colab": {
          "base_uri": "https://localhost:8080/"
        }
      },
      "execution_count": null,
      "outputs": [
        {
          "output_type": "stream",
          "name": "stdout",
          "text": [
            "6\n",
            "<function two_quadratics at 0x7dd037843a30>\n"
          ]
        }
      ]
    },
    {
      "cell_type": "markdown",
      "source": [
        "L8"
      ],
      "metadata": {
        "id": "RD09Et-UKPSD"
      }
    },
    {
      "cell_type": "code",
      "source": [
        "def same_chars(s1, s2):\n",
        "  '''\n",
        "  s1 and s2 are strings\n",
        "  Returns boolean True if a character in s1 is also in s2, and vice\n",
        "  versa. If a character only exists in one of s1 or s2, returns False.\n",
        "  '''\n",
        "#   for i in s1:\n",
        "#     if i not in s2:\n",
        "#       return False\n",
        "#   for i in s2:\n",
        "#     if i not in s1:\n",
        "#       return False\n",
        "#   return True\n",
        "\n",
        "  for i in s1:\n",
        "    s1[]\n",
        "\n",
        "\n",
        "print(same_chars(\"abcd\", \"cabaa\"))"
      ],
      "metadata": {
        "id": "lQ1NC7mMH7wa",
        "outputId": "09a4e3b5-6ccc-444b-b7d9-e06a369855f9",
        "colab": {
          "base_uri": "https://localhost:8080/"
        }
      },
      "execution_count": null,
      "outputs": [
        {
          "output_type": "stream",
          "name": "stdout",
          "text": [
            "a\n",
            "b\n",
            "c\n",
            "d\n",
            "None\n"
          ]
        }
      ]
    },
    {
      "cell_type": "markdown",
      "source": [
        "L9"
      ],
      "metadata": {
        "id": "ksy3q_NCSHUj"
      }
    },
    {
      "cell_type": "code",
      "source": [
        "import math\n",
        "\n",
        "def dot_product(tA, tB):\n",
        "\n",
        "  '''\n",
        "  tA: a tuple of numbers\n",
        "  tB: a tuple of numbers of the same length as tA\n",
        "  Assumes Ta and tB are the same length\n",
        "  Returns a tuple where the:\n",
        "  * first element is the length of one of the tuples\n",
        "  * second element is the sum of the pairwise products of tA and tB\n",
        "  '''\n",
        "  a = len(tA)\n",
        "  b = np.dot(tA, tB)\n",
        "  x = (a, b)\n",
        "\n",
        "  return x\n",
        "\n",
        "tA = (1, 2, 3)\n",
        "tB = (4, 5, 6)\n",
        "print(dot_product(tA, tB))"
      ],
      "metadata": {
        "id": "XH8b-MfpM6nQ",
        "outputId": "ded34441-7a09-4dcd-aa79-d5203f1ac1f3",
        "colab": {
          "base_uri": "https://localhost:8080/"
        }
      },
      "execution_count": null,
      "outputs": [
        {
          "output_type": "stream",
          "name": "stdout",
          "text": [
            "(3, 32)\n"
          ]
        }
      ]
    },
    {
      "cell_type": "markdown",
      "source": [
        "L10"
      ],
      "metadata": {
        "id": "JF7aRSLapn3D"
      }
    },
    {
      "cell_type": "code",
      "source": [
        "def all_true(n, lf):\n",
        "  \"\"\"\n",
        "  n is an int\n",
        "  Lf is a list of functions that take in an int and return a Boolean\n",
        "  Returns True if each and every function in Lf returns True when called\n",
        "  with n as a parameter. Otherwise returns False.\n",
        "  \"\"\"\n",
        "  flag = False\n",
        "  for k in lf:\n",
        "    if k != n:\n",
        "      flag = True\n",
        "      break\n",
        "  return flag\n",
        "\n",
        "all_true(13, [3, 5, 7, 11])"
      ],
      "metadata": {
        "id": "4YTq1I-a-1IG",
        "outputId": "02b9bc54-82d3-4660-8f52-7566f0581a28",
        "colab": {
          "base_uri": "https://localhost:8080/"
        }
      },
      "execution_count": null,
      "outputs": [
        {
          "output_type": "execute_result",
          "data": {
            "text/plain": [
              "True"
            ]
          },
          "metadata": {},
          "execution_count": 8
        }
      ]
    },
    {
      "cell_type": "markdown",
      "source": [
        "L11"
      ],
      "metadata": {
        "id": "-Rgc7fBxMBl5"
      }
    },
    {
      "cell_type": "code",
      "source": [
        "def remove_and_sort(lin, k):\n",
        "  '''\n",
        "  Lin is a list of ints\n",
        "  k is a int >= 0\n",
        "  Mutates lin to remove the first k element in lin and\n",
        "  then sorts the remaining elements in ascending order.\n",
        "  if you run out of items to remove, list is mutated to an empty list.\n",
        "  Does not return anything.\n",
        "  '''\n",
        "  lnew = []\n",
        "  for i in lin:\n",
        "    if i == k:\n",
        "      lin.remove(i)\n",
        "      lin.sort()\n",
        "    lin = lnew\n",
        "    print(lin)\n",
        "\n",
        "\n",
        "l = [1, 6, 3]\n",
        "remove_and_sort(l, 1)\n",
        "print(l)"
      ],
      "metadata": {
        "id": "BvjqO_WnqBlC",
        "outputId": "4aac7b8b-32d6-435b-a746-330f4f11c338",
        "colab": {
          "base_uri": "https://localhost:8080/"
        }
      },
      "execution_count": 11,
      "outputs": [
        {
          "output_type": "stream",
          "name": "stdout",
          "text": [
            "[]\n",
            "[]\n",
            "[3, 6]\n"
          ]
        }
      ]
    },
    {
      "cell_type": "code",
      "source": [],
      "metadata": {
        "id": "3kur8X-MN9kD"
      },
      "execution_count": null,
      "outputs": []
    }
  ]
}