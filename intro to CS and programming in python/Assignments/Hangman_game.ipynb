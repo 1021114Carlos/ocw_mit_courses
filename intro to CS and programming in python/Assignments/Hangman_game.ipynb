{
  "nbformat": 4,
  "nbformat_minor": 0,
  "metadata": {
    "colab": {
      "provenance": [],
      "include_colab_link": true
    },
    "kernelspec": {
      "name": "python3",
      "display_name": "Python 3"
    },
    "language_info": {
      "name": "python"
    }
  },
  "cells": [
    {
      "cell_type": "markdown",
      "metadata": {
        "id": "view-in-github",
        "colab_type": "text"
      },
      "source": [
        "<a href=\"https://colab.research.google.com/github/1021114Carlos/ocw_mit_courses/blob/manufacturing_shop/intro%20to%20CS%20and%20programming%20in%20python/Assignments/Hangman_game.ipynb\" target=\"_parent\"><img src=\"https://colab.research.google.com/assets/colab-badge.svg\" alt=\"Open In Colab\"/></a>"
      ]
    },
    {
      "cell_type": "code",
      "source": [
        "!python hangman.py"
      ],
      "metadata": {
        "colab": {
          "base_uri": "https://localhost:8080/"
        },
        "id": "fjhN2-8cCtKF",
        "outputId": "b71ef4d3-98b0-4434-93be-cc0f4bcde709"
      },
      "execution_count": 2,
      "outputs": [
        {
          "output_type": "stream",
          "name": "stdout",
          "text": [
            "Loading word list from file...\n",
            "  55900 words loaded.\n"
          ]
        }
      ]
    },
    {
      "cell_type": "code",
      "source": [
        "def has_player_won(secret_word, letters_guessed):\n",
        "      \"\"\"\n",
        "    secret_word: string, the lowercase word the user is guessing\n",
        "    letters_guessed: list (of lowercase letters), the letters that have been\n",
        "        guessed so far\n",
        "\n",
        "    returns: boolean, True if all the letters of secret_word are in letters_guessed,\n",
        "        False otherwise\n",
        "    \"\"\"\n",
        "\n",
        "secret_word = 'apple'"
      ],
      "metadata": {
        "id": "rIGMWFN9Csel"
      },
      "execution_count": 2,
      "outputs": []
    },
    {
      "cell_type": "code",
      "source": [],
      "metadata": {
        "id": "npQYeNDMCsNY"
      },
      "execution_count": 2,
      "outputs": []
    },
    {
      "cell_type": "markdown",
      "source": [],
      "metadata": {
        "id": "BsrQu_JqBw0o"
      }
    },
    {
      "cell_type": "code",
      "execution_count": 4,
      "metadata": {
        "id": "W0BG-RNcEiCe",
        "outputId": "15a09ced-d35a-4887-d00c-19ca0b5cddbd",
        "colab": {
          "base_uri": "https://localhost:8080/",
          "height": 108
        }
      },
      "outputs": [
        {
          "output_type": "error",
          "ename": "SyntaxError",
          "evalue": "incomplete input (<ipython-input-4-bc5e20496f70>, line 1)",
          "traceback": [
            "\u001b[0;36m  File \u001b[0;32m\"<ipython-input-4-bc5e20496f70>\"\u001b[0;36m, line \u001b[0;32m1\u001b[0m\n\u001b[0;31m    def hangman(p1, pc):\u001b[0m\n\u001b[0m                        ^\u001b[0m\n\u001b[0;31mSyntaxError\u001b[0m\u001b[0;31m:\u001b[0m incomplete input\n"
          ]
        }
      ],
      "source": []
    },
    {
      "cell_type": "code",
      "source": [],
      "metadata": {
        "id": "0tckUiegFHy_"
      },
      "execution_count": null,
      "outputs": []
    }
  ]
}