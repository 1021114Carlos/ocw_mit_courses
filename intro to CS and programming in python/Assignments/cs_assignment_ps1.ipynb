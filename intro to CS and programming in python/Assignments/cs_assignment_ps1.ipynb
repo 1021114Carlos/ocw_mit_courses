{
  "nbformat": 4,
  "nbformat_minor": 0,
  "metadata": {
    "colab": {
      "provenance": [],
      "authorship_tag": "ABX9TyOQwuSiNVXV7vJWp3l0ovgz",
      "include_colab_link": true
    },
    "kernelspec": {
      "name": "python3",
      "display_name": "Python 3"
    },
    "language_info": {
      "name": "python"
    }
  },
  "cells": [
    {
      "cell_type": "markdown",
      "metadata": {
        "id": "view-in-github",
        "colab_type": "text"
      },
      "source": [
        "<a href=\"https://colab.research.google.com/github/1021114Carlos/ocw_mit_courses/blob/manufacturing_shop/intro%20to%20CS%20and%20programming%20in%20python/Assignments/cs_assignment_ps1.ipynb\" target=\"_parent\"><img src=\"https://colab.research.google.com/assets/colab-badge.svg\" alt=\"Open In Colab\"/></a>"
      ]
    },
    {
      "cell_type": "markdown",
      "source": [
        "##Part A: house hunting ps1a.py\n",
        ">how many months needed to save enough for down payment?"
      ],
      "metadata": {
        "id": "ig2IiR0fu-cK"
      }
    },
    {
      "cell_type": "code",
      "source": [
        "def houseHunting(annual_salary, portion_saved, total_cost):\n",
        "    number_of_months = 0\n",
        "    portion_down_payment = total_cost*(1/4) # paying 25% downpayment\n",
        "    rate_of_return = (5/100)\n",
        "    current_savings = 0\n",
        "    investments = 0\n",
        "    notEnough = True\n",
        "\n",
        "    while notEnough:\n",
        "        current_savings += investments + ((annual_salary*portion_saved)/12)\n",
        "        investments = (current_savings*rate_of_return)/12\n",
        "        number_of_months +=1\n",
        "\n",
        "        if current_savings >= portion_down_payment:\n",
        "            notEnough = False\n",
        "    print(f'Number of months to save for down payment {number_of_months} or {number_of_months/12} years')\n",
        "\n",
        "\n",
        "print(\"Please enter your annual income: \")\n",
        "annual_salary = float(input())\n",
        "print(\"Please enter the percentage to be saved every month: \")\n",
        "portion_saved = float(input())\n",
        "print(\"Please enter the current cost of the house: \")\n",
        "total_cost = float(input())\n",
        "houseHunting(annual_salary, portion_saved, total_cost)\n",
        "\n",
        "\n",
        "#Code ps1a.py works as intended."
      ],
      "metadata": {
        "id": "5EOFNaRk-ppx",
        "colab": {
          "base_uri": "https://localhost:8080/",
          "height": 454
        },
        "outputId": "0317e2de-c8ee-4345-b295-574a5d143eb2"
      },
      "execution_count": 5,
      "outputs": [
        {
          "output_type": "stream",
          "name": "stdout",
          "text": [
            "Please enter your annual income: \n",
            "9\n",
            "Please enter the percentage to be saved every month: \n",
            "9\n",
            "Please enter the current cost of the house: \n"
          ]
        },
        {
          "output_type": "error",
          "ename": "KeyboardInterrupt",
          "evalue": "Interrupted by user",
          "traceback": [
            "\u001b[0;31m---------------------------------------------------------------------------\u001b[0m",
            "\u001b[0;31mKeyboardInterrupt\u001b[0m                         Traceback (most recent call last)",
            "\u001b[0;32m<ipython-input-5-4a27df5787f6>\u001b[0m in \u001b[0;36m<cell line: 24>\u001b[0;34m()\u001b[0m\n\u001b[1;32m     22\u001b[0m \u001b[0mportion_saved\u001b[0m \u001b[0;34m=\u001b[0m \u001b[0mfloat\u001b[0m\u001b[0;34m(\u001b[0m\u001b[0minput\u001b[0m\u001b[0;34m(\u001b[0m\u001b[0;34m)\u001b[0m\u001b[0;34m)\u001b[0m\u001b[0;34m\u001b[0m\u001b[0;34m\u001b[0m\u001b[0m\n\u001b[1;32m     23\u001b[0m \u001b[0mprint\u001b[0m\u001b[0;34m(\u001b[0m\u001b[0;34m\"Please enter the current cost of the house: \"\u001b[0m\u001b[0;34m)\u001b[0m\u001b[0;34m\u001b[0m\u001b[0;34m\u001b[0m\u001b[0m\n\u001b[0;32m---> 24\u001b[0;31m \u001b[0mtotal_cost\u001b[0m \u001b[0;34m=\u001b[0m \u001b[0mfloat\u001b[0m\u001b[0;34m(\u001b[0m\u001b[0minput\u001b[0m\u001b[0;34m(\u001b[0m\u001b[0;34m)\u001b[0m\u001b[0;34m)\u001b[0m\u001b[0;34m\u001b[0m\u001b[0;34m\u001b[0m\u001b[0m\n\u001b[0m\u001b[1;32m     25\u001b[0m \u001b[0mhouseHunting\u001b[0m\u001b[0;34m(\u001b[0m\u001b[0mannual_salary\u001b[0m\u001b[0;34m,\u001b[0m \u001b[0mportion_saved\u001b[0m\u001b[0;34m,\u001b[0m \u001b[0mtotal_cost\u001b[0m\u001b[0;34m)\u001b[0m\u001b[0;34m\u001b[0m\u001b[0;34m\u001b[0m\u001b[0m\n\u001b[1;32m     26\u001b[0m \u001b[0;34m\u001b[0m\u001b[0m\n",
            "\u001b[0;32m/usr/local/lib/python3.10/dist-packages/ipykernel/kernelbase.py\u001b[0m in \u001b[0;36mraw_input\u001b[0;34m(self, prompt)\u001b[0m\n\u001b[1;32m    849\u001b[0m                 \u001b[0;34m\"raw_input was called, but this frontend does not support input requests.\"\u001b[0m\u001b[0;34m\u001b[0m\u001b[0;34m\u001b[0m\u001b[0m\n\u001b[1;32m    850\u001b[0m             )\n\u001b[0;32m--> 851\u001b[0;31m         return self._input_request(str(prompt),\n\u001b[0m\u001b[1;32m    852\u001b[0m             \u001b[0mself\u001b[0m\u001b[0;34m.\u001b[0m\u001b[0m_parent_ident\u001b[0m\u001b[0;34m,\u001b[0m\u001b[0;34m\u001b[0m\u001b[0;34m\u001b[0m\u001b[0m\n\u001b[1;32m    853\u001b[0m             \u001b[0mself\u001b[0m\u001b[0;34m.\u001b[0m\u001b[0m_parent_header\u001b[0m\u001b[0;34m,\u001b[0m\u001b[0;34m\u001b[0m\u001b[0;34m\u001b[0m\u001b[0m\n",
            "\u001b[0;32m/usr/local/lib/python3.10/dist-packages/ipykernel/kernelbase.py\u001b[0m in \u001b[0;36m_input_request\u001b[0;34m(self, prompt, ident, parent, password)\u001b[0m\n\u001b[1;32m    893\u001b[0m             \u001b[0;32mexcept\u001b[0m \u001b[0mKeyboardInterrupt\u001b[0m\u001b[0;34m:\u001b[0m\u001b[0;34m\u001b[0m\u001b[0;34m\u001b[0m\u001b[0m\n\u001b[1;32m    894\u001b[0m                 \u001b[0;31m# re-raise KeyboardInterrupt, to truncate traceback\u001b[0m\u001b[0;34m\u001b[0m\u001b[0;34m\u001b[0m\u001b[0m\n\u001b[0;32m--> 895\u001b[0;31m                 \u001b[0;32mraise\u001b[0m \u001b[0mKeyboardInterrupt\u001b[0m\u001b[0;34m(\u001b[0m\u001b[0;34m\"Interrupted by user\"\u001b[0m\u001b[0;34m)\u001b[0m \u001b[0;32mfrom\u001b[0m \u001b[0;32mNone\u001b[0m\u001b[0;34m\u001b[0m\u001b[0;34m\u001b[0m\u001b[0m\n\u001b[0m\u001b[1;32m    896\u001b[0m             \u001b[0;32mexcept\u001b[0m \u001b[0mException\u001b[0m \u001b[0;32mas\u001b[0m \u001b[0me\u001b[0m\u001b[0;34m:\u001b[0m\u001b[0;34m\u001b[0m\u001b[0;34m\u001b[0m\u001b[0m\n\u001b[1;32m    897\u001b[0m                 \u001b[0mself\u001b[0m\u001b[0;34m.\u001b[0m\u001b[0mlog\u001b[0m\u001b[0;34m.\u001b[0m\u001b[0mwarning\u001b[0m\u001b[0;34m(\u001b[0m\u001b[0;34m\"Invalid Message:\"\u001b[0m\u001b[0;34m,\u001b[0m \u001b[0mexc_info\u001b[0m\u001b[0;34m=\u001b[0m\u001b[0;32mTrue\u001b[0m\u001b[0;34m)\u001b[0m\u001b[0;34m\u001b[0m\u001b[0;34m\u001b[0m\u001b[0m\n",
            "\u001b[0;31mKeyboardInterrupt\u001b[0m: Interrupted by user"
          ]
        }
      ]
    },
    {
      "cell_type": "markdown",
      "source": [
        "##Part B: Saving for down payment, with a percentage raise every six months."
      ],
      "metadata": {
        "id": "vaEnHV9j2Lyv"
      }
    },
    {
      "cell_type": "code",
      "source": [
        "def houseHunting(annual_salary, portion_saved, total_cost, semi_annual_raise):\n",
        "    number_of_months = 0\n",
        "    portion_down_payment = total_cost*(1/4)\n",
        "    rate_of_return = (5/100)\n",
        "    current_savings = 0\n",
        "    investments = 0\n",
        "    notEnough = True\n",
        "\n",
        "    while notEnough:\n",
        "        current_savings += investments + ((annual_salary*portion_saved)//12)\n",
        "        investments = (current_savings*rate_of_return)//12\n",
        "        number_of_months +=1\n",
        "\n",
        "        if number_of_months%6 == 0:\n",
        "            annual_salary = annual_salary + (annual_salary*semi_annual_raise)\n",
        "\n",
        "        if current_savings >= portion_down_payment:\n",
        "            notEnough = False\n",
        "    print(f'Number of months to save for down payment {number_of_months} or {number_of_months//12} years')\n",
        "\n",
        "\n",
        "print(\"Please enter your annual income: \")\n",
        "annual_salary = float(input())\n",
        "print(\"Please enter the percentage to be saved every month: \")\n",
        "portion_saved = float(input())\n",
        "print(\"Please enter the current cost of the house: \")\n",
        "total_cost = float(input())\n",
        "print(\"Enter semi-annual percentage raise: \")\n",
        "semi_annual_raise = float(input())\n",
        "houseHunting(annual_salary, portion_saved, total_cost, semi_annual_raise)\n",
        "\n",
        "#Code ps1b.py works as intended."
      ],
      "metadata": {
        "id": "-IUqkuMeR9cb"
      },
      "execution_count": null,
      "outputs": []
    },
    {
      "cell_type": "markdown",
      "source": [
        "##Part C: Choosing an Interest Rate\n",
        ">Find the lowest rate of return to make down payment in 3 years."
      ],
      "metadata": {
        "id": "8ycB6BtE45KR"
      }
    },
    {
      "cell_type": "code",
      "source": [
        "# Only 3 years to save.\n",
        "# Have initial deposit amount.\n",
        "print(800000*(25/100))"
      ],
      "metadata": {
        "id": "su3R2cSRWAoB"
      },
      "execution_count": null,
      "outputs": []
    },
    {
      "cell_type": "code",
      "source": [
        "# Part C: Choosing an Interest Rate\n",
        "\n",
        "\n",
        "initial_deposit = float(input(\"Enter initial deposit: \"))\n",
        "\n",
        "\n",
        "cost_of_house = float(input(\"Enter cost of the house: \"))\n",
        "down_payment = 0.25 * cost_of_house\n",
        "months = 36\n",
        "epsilon = 100\n",
        "low = 0\n",
        "high = 1\n",
        "steps = 0\n",
        "\n",
        "# Bisection search to find the lowest rate of return\n",
        "best_r = None\n",
        "\n",
        "while low <= high:\n",
        "    steps += 1\n",
        "    r = (low + high) / 2\n",
        "    amount_saved = initial_deposit * (1 + r/12)**months\n",
        "\n",
        "    if abs(amount_saved - down_payment) < epsilon:\n",
        "        best_r = r\n",
        "        break\n",
        "    elif amount_saved < down_payment:\n",
        "        low = r\n",
        "    else:\n",
        "        high = r\n",
        "\n",
        "    if steps > 36:  # safety check to prevent infinite loop\n",
        "        best_r = None\n",
        "        steps = 0\n",
        "        break\n",
        "\n",
        "print(\"Best savings rate:\", best_r)\n",
        "print(\"Steps in bisection search:\", steps)\n"
      ],
      "metadata": {
        "colab": {
          "base_uri": "https://localhost:8080/"
        },
        "id": "9zWcldS7MpFp",
        "outputId": "8e49b8d9-4929-4bdc-d307-9dac456cffa0"
      },
      "execution_count": 8,
      "outputs": [
        {
          "output_type": "stream",
          "name": "stdout",
          "text": [
            "Enter initial deposit: 1000\n",
            "Enter cost of the house: 800000\n",
            "Best savings rate: None\n",
            "Steps in bisection search: 0\n"
          ]
        }
      ]
    },
    {
      "cell_type": "code",
      "source": [],
      "metadata": {
        "id": "nLh3qW-6NGt9"
      },
      "execution_count": null,
      "outputs": []
    }
  ]
}